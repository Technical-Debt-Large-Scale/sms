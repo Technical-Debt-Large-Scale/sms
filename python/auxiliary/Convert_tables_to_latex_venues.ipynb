{
 "metadata": {
  "language_info": {
   "codemirror_mode": {
    "name": "ipython",
    "version": 3
   },
   "file_extension": ".py",
   "mimetype": "text/x-python",
   "name": "python",
   "nbconvert_exporter": "python",
   "pygments_lexer": "ipython3",
   "version": "3.6.3-final"
  },
  "orig_nbformat": 2,
  "kernelspec": {
   "name": "python3",
   "display_name": "Python 3.6.3 64-bit",
   "metadata": {
    "interpreter": {
     "hash": "05ece30799c2dcdac4c13b3af20453da19de8df0d9a1de52cff7e0b6e1e82bdd"
    }
   }
  }
 },
 "nbformat": 4,
 "nbformat_minor": 2,
 "cells": [
  {
   "cell_type": "code",
   "execution_count": 1,
   "metadata": {},
   "outputs": [],
   "source": [
    "import os\n",
    "import sys\n",
    "nb_dir = os.path.split(os.getcwd())[0]\n",
    "if nb_dir not in sys.path:\n",
    "    sys.path.append(nb_dir)\n",
    "\n",
    "import pandas as pd\n",
    "import util.utilities as util\n",
    "from collections import Counter"
   ]
  },
  {
   "cell_type": "code",
   "execution_count": 2,
   "metadata": {},
   "outputs": [
    {
     "output_type": "stream",
     "name": "stderr",
     "text": [
      "/Library/Frameworks/Python.framework/Versions/3.6/lib/python3.6/site-packages/pandas/core/indexing.py:190: SettingWithCopyWarning: \n",
      "A value is trying to be set on a copy of a slice from a DataFrame\n",
      "\n",
      "See the caveats in the documentation: http://pandas.pydata.org/pandas-docs/stable/indexing.html#indexing-view-versus-copy\n",
      "  self._setitem_with_indexer(indexer, value)\n",
      "Arquivo ../../latex/mytable_venues.tex  gerado com sucesso!\n",
      "Arquivo ../../md/mytable_venues.md  gerado com sucesso!\n"
     ]
    },
    {
     "output_type": "execute_result",
     "data": {
      "text/plain": [
       "                                                                                               venue  \\\n",
       "0                             Euromicro Conference on Software Engineering and Advanced Applications   \n",
       "1                                              International Conference on Technical Debt (TechDebt)   \n",
       "2                                                       European Conference on Software Architecture   \n",
       "3                                                   International Conference on Software Engineering   \n",
       "4                                            International Workshop on Managing Technical Debt (MTD)   \n",
       "5                             International Conference on Software Maintenance and Evolution (ICSME)   \n",
       "6                                                         Journal of Software: Evolution and Process   \n",
       "7                                                       Asia Pacific Software Engineering Conference   \n",
       "8                                                                 Conference on Software Achitecture   \n",
       "9               Conference on Software Architecture and European Conference on Software Architecture   \n",
       "10                                                           EE Transactions on Software Engineering   \n",
       "11                                                                    Empirical Software Engineering   \n",
       "12                                                                                     IEEE Software   \n",
       "13                                                       Information and Software Technology Journal   \n",
       "14                                            International Conference on Agile Software Development   \n",
       "15                                  International Conference on Automated Software Engineering (ASE)   \n",
       "16  International Conference on Evaluation and Modeling Methods for Systems Analysis and Development   \n",
       "17                               International Conference on Mobile Software Engineering and Systems   \n",
       "18                        International Conference on Software Analysis, Evolution and Reengineering   \n",
       "19                International Conference on Software Analysis, Evolution and Reengineering (SANER)   \n",
       "20                              International Conference on Software Architecture Companion (ICSA-C)   \n",
       "21                               International Conference on Software Architecture Workshops (ICSAW)   \n",
       "22                                        International Conference on Software Engineering Companion   \n",
       "23                International Conference on Software Engineering: Software Engineering in Practice   \n",
       "24                                    International Conference on Software Maintenance and Evolution   \n",
       "25                                           International Conference on Software and System Process   \n",
       "26                                   International Conference on Systems, Man, and Cybernetics (SMC)   \n",
       "27                         International Symposium on Empirical Software Engineering and Measurement   \n",
       "28                                  International Workshop on Bringing Architectural Design Thinking   \n",
       "29                                                        Jornal Information and Software Technology   \n",
       "30                                                                   Journal of Systems and Software   \n",
       "31                                                            Pan-Hellenic Conference on Informatics   \n",
       "32                                                                          Software Quality Journal   \n",
       "33                                                                         Springer Nature Singapore   \n",
       "34                                                                    Symposium on Applied Computing   \n",
       "35                                                      TRANSACTIONS ON COMPUTATIONAL SOCIAL SYSTEMS   \n",
       "36                         international ACM Sigsoft conference on Quality of software architectures   \n",
       "\n",
       "    count                                         sp  \n",
       "0       7   [SP3, SP4, SP15, SP16, SP20, SP24, SP50]  \n",
       "1       7  [SP1, SP11, SP23, SP31, SP42, SP44, SP48]  \n",
       "2       3                         [SP17, SP29, SP47]  \n",
       "3       3                          [SP9, SP19, SP37]  \n",
       "4       3                         [SP25, SP26, SP33]  \n",
       "5       2                               [SP28, SP38]  \n",
       "6       2                               [SP12, SP55]  \n",
       "7       1                                     [SP34]  \n",
       "8       1                                     [SP14]  \n",
       "9       1                                     [SP22]  \n",
       "10      1                                     [SP30]  \n",
       "11      1                                     [SP57]  \n",
       "12      1                                     [SP40]  \n",
       "13      1                                     [SP36]  \n",
       "14      1                                     [SP53]  \n",
       "15      1                                      [SP6]  \n",
       "16      1                                     [SP54]  \n",
       "17      1                                     [SP10]  \n",
       "18      1                                     [SP43]  \n",
       "19      1                                     [SP52]  \n",
       "20      1                                     [SP21]  \n",
       "21      1                                     [SP45]  \n",
       "22      1                                      [SP8]  \n",
       "23      1                                      [SP5]  \n",
       "24      1                                     [SP32]  \n",
       "25      1                                     [SP35]  \n",
       "26      1                                     [SP39]  \n",
       "27      1                                     [SP49]  \n",
       "28      1                                     [SP18]  \n",
       "29      1                                      [SP2]  \n",
       "30      1                                     [SP27]  \n",
       "31      1                                     [SP51]  \n",
       "32      1                                     [SP56]  \n",
       "33      1                                     [SP41]  \n",
       "34      1                                     [SP13]  \n",
       "35      1                                     [SP46]  \n",
       "36      1                                      [SP7]  "
      ],
      "text/html": "<div>\n<style scoped>\n    .dataframe tbody tr th:only-of-type {\n        vertical-align: middle;\n    }\n\n    .dataframe tbody tr th {\n        vertical-align: top;\n    }\n\n    .dataframe thead th {\n        text-align: right;\n    }\n</style>\n<table border=\"1\" class=\"dataframe\">\n  <thead>\n    <tr style=\"text-align: right;\">\n      <th></th>\n      <th>venue</th>\n      <th>count</th>\n      <th>sp</th>\n    </tr>\n  </thead>\n  <tbody>\n    <tr>\n      <th>0</th>\n      <td>Euromicro Conference on Software Engineering and Advanced Applications</td>\n      <td>7</td>\n      <td>[SP3, SP4, SP15, SP16, SP20, SP24, SP50]</td>\n    </tr>\n    <tr>\n      <th>1</th>\n      <td>International Conference on Technical Debt (TechDebt)</td>\n      <td>7</td>\n      <td>[SP1, SP11, SP23, SP31, SP42, SP44, SP48]</td>\n    </tr>\n    <tr>\n      <th>2</th>\n      <td>European Conference on Software Architecture</td>\n      <td>3</td>\n      <td>[SP17, SP29, SP47]</td>\n    </tr>\n    <tr>\n      <th>3</th>\n      <td>International Conference on Software Engineering</td>\n      <td>3</td>\n      <td>[SP9, SP19, SP37]</td>\n    </tr>\n    <tr>\n      <th>4</th>\n      <td>International Workshop on Managing Technical Debt (MTD)</td>\n      <td>3</td>\n      <td>[SP25, SP26, SP33]</td>\n    </tr>\n    <tr>\n      <th>5</th>\n      <td>International Conference on Software Maintenance and Evolution (ICSME)</td>\n      <td>2</td>\n      <td>[SP28, SP38]</td>\n    </tr>\n    <tr>\n      <th>6</th>\n      <td>Journal of Software: Evolution and Process</td>\n      <td>2</td>\n      <td>[SP12, SP55]</td>\n    </tr>\n    <tr>\n      <th>7</th>\n      <td>Asia Pacific Software Engineering Conference</td>\n      <td>1</td>\n      <td>[SP34]</td>\n    </tr>\n    <tr>\n      <th>8</th>\n      <td>Conference on Software Achitecture</td>\n      <td>1</td>\n      <td>[SP14]</td>\n    </tr>\n    <tr>\n      <th>9</th>\n      <td>Conference on Software Architecture and European Conference on Software Architecture</td>\n      <td>1</td>\n      <td>[SP22]</td>\n    </tr>\n    <tr>\n      <th>10</th>\n      <td>EE Transactions on Software Engineering</td>\n      <td>1</td>\n      <td>[SP30]</td>\n    </tr>\n    <tr>\n      <th>11</th>\n      <td>Empirical Software Engineering</td>\n      <td>1</td>\n      <td>[SP57]</td>\n    </tr>\n    <tr>\n      <th>12</th>\n      <td>IEEE Software</td>\n      <td>1</td>\n      <td>[SP40]</td>\n    </tr>\n    <tr>\n      <th>13</th>\n      <td>Information and Software Technology Journal</td>\n      <td>1</td>\n      <td>[SP36]</td>\n    </tr>\n    <tr>\n      <th>14</th>\n      <td>International Conference on Agile Software Development</td>\n      <td>1</td>\n      <td>[SP53]</td>\n    </tr>\n    <tr>\n      <th>15</th>\n      <td>International Conference on Automated Software Engineering (ASE)</td>\n      <td>1</td>\n      <td>[SP6]</td>\n    </tr>\n    <tr>\n      <th>16</th>\n      <td>International Conference on Evaluation and Modeling Methods for Systems Analysis and Development</td>\n      <td>1</td>\n      <td>[SP54]</td>\n    </tr>\n    <tr>\n      <th>17</th>\n      <td>International Conference on Mobile Software Engineering and Systems</td>\n      <td>1</td>\n      <td>[SP10]</td>\n    </tr>\n    <tr>\n      <th>18</th>\n      <td>International Conference on Software Analysis, Evolution and Reengineering</td>\n      <td>1</td>\n      <td>[SP43]</td>\n    </tr>\n    <tr>\n      <th>19</th>\n      <td>International Conference on Software Analysis, Evolution and Reengineering (SANER)</td>\n      <td>1</td>\n      <td>[SP52]</td>\n    </tr>\n    <tr>\n      <th>20</th>\n      <td>International Conference on Software Architecture Companion (ICSA-C)</td>\n      <td>1</td>\n      <td>[SP21]</td>\n    </tr>\n    <tr>\n      <th>21</th>\n      <td>International Conference on Software Architecture Workshops (ICSAW)</td>\n      <td>1</td>\n      <td>[SP45]</td>\n    </tr>\n    <tr>\n      <th>22</th>\n      <td>International Conference on Software Engineering Companion</td>\n      <td>1</td>\n      <td>[SP8]</td>\n    </tr>\n    <tr>\n      <th>23</th>\n      <td>International Conference on Software Engineering: Software Engineering in Practice</td>\n      <td>1</td>\n      <td>[SP5]</td>\n    </tr>\n    <tr>\n      <th>24</th>\n      <td>International Conference on Software Maintenance and Evolution</td>\n      <td>1</td>\n      <td>[SP32]</td>\n    </tr>\n    <tr>\n      <th>25</th>\n      <td>International Conference on Software and System Process</td>\n      <td>1</td>\n      <td>[SP35]</td>\n    </tr>\n    <tr>\n      <th>26</th>\n      <td>International Conference on Systems, Man, and Cybernetics (SMC)</td>\n      <td>1</td>\n      <td>[SP39]</td>\n    </tr>\n    <tr>\n      <th>27</th>\n      <td>International Symposium on Empirical Software Engineering and Measurement</td>\n      <td>1</td>\n      <td>[SP49]</td>\n    </tr>\n    <tr>\n      <th>28</th>\n      <td>International Workshop on Bringing Architectural Design Thinking</td>\n      <td>1</td>\n      <td>[SP18]</td>\n    </tr>\n    <tr>\n      <th>29</th>\n      <td>Jornal Information and Software Technology</td>\n      <td>1</td>\n      <td>[SP2]</td>\n    </tr>\n    <tr>\n      <th>30</th>\n      <td>Journal of Systems and Software</td>\n      <td>1</td>\n      <td>[SP27]</td>\n    </tr>\n    <tr>\n      <th>31</th>\n      <td>Pan-Hellenic Conference on Informatics</td>\n      <td>1</td>\n      <td>[SP51]</td>\n    </tr>\n    <tr>\n      <th>32</th>\n      <td>Software Quality Journal</td>\n      <td>1</td>\n      <td>[SP56]</td>\n    </tr>\n    <tr>\n      <th>33</th>\n      <td>Springer Nature Singapore</td>\n      <td>1</td>\n      <td>[SP41]</td>\n    </tr>\n    <tr>\n      <th>34</th>\n      <td>Symposium on Applied Computing</td>\n      <td>1</td>\n      <td>[SP13]</td>\n    </tr>\n    <tr>\n      <th>35</th>\n      <td>TRANSACTIONS ON COMPUTATIONAL SOCIAL SYSTEMS</td>\n      <td>1</td>\n      <td>[SP46]</td>\n    </tr>\n    <tr>\n      <th>36</th>\n      <td>international ACM Sigsoft conference on Quality of software architectures</td>\n      <td>1</td>\n      <td>[SP7]</td>\n    </tr>\n  </tbody>\n</table>\n</div>"
     },
     "metadata": {},
     "execution_count": 2
    }
   ],
   "source": [
    "df_sms_extraction = util.load_dataset(my_path='../../dataset/Extraction_form_basic.xlsx')\n",
    "df_sms_extraction = util.add_column_sp(df_sms_extraction)\n",
    "\n",
    "# 3.1) List of Venues\n",
    "\n",
    "# Clean Name of Venue\n",
    "i = 0\n",
    "for each in df_sms_extraction['Name of Venue']: \n",
    "    temp = df_sms_extraction['Name of Venue'].iloc[i]\n",
    "    df_sms_extraction['Name of Venue'].iloc[i] = ' '.join(temp.split())\n",
    "    i = i + 1\n",
    "\n",
    "# Create a auxiliar Dataframe Name of Venue group by Name of Venue\n",
    "list_of_venues = []\n",
    "for item in list(df_sms_extraction['Name of Venue']): \n",
    "    item = ' '.join(item.split())\n",
    "    list_of_venues.append(item)\n",
    "list_of_venues.sort()\n",
    "\n",
    "list_of_most_common_venues = Counter(list_of_venues).most_common()\n",
    "\n",
    "venue = []\n",
    "count = []\n",
    "for each in list_of_most_common_venues: \n",
    "    venue.append(each[0])\n",
    "    count.append(each[1])\n",
    "my_venues = {'venue': venue, 'count':count}\n",
    "my_venues\n",
    "\n",
    "my_venue_id = list(range(1,len(list_of_most_common_venues)+1))\n",
    "my_venue_id\n",
    "\n",
    "df_my_venues = pd.DataFrame(data=my_venues, index=my_venue_id)\n",
    "df_my_venues.reset_index(drop=True, inplace=True)\n",
    "df_my_venues['sp'] = None\n",
    "\n",
    "# Add new column with Selected Papers according grouped Venue\n",
    "i = 0\n",
    "for each in df_my_venues['venue']:\n",
    "    list_sp_novo = []\n",
    "    j = 0\n",
    "    for item in df_sms_extraction['Name of Venue']:\n",
    "        if each == item: \n",
    "            list_sp_novo.append(df_sms_extraction['sp'].iloc[j])\n",
    "        j = j + 1\n",
    "    df_my_venues['sp'].iloc[i] = list_sp_novo\n",
    "    i = i + 1\n",
    "\n",
    "util.create_latex_table(my_df=df_my_venues, my_path='../../latex', my_file_name='mytable_venues.tex')\n",
    "\n",
    "util.create_markdown_table(my_df=df_my_venues, my_path='../../md', my_file_name='mytable_venues.md')\n",
    "\n",
    "df_my_venues"
   ]
  },
  {
   "cell_type": "code",
   "execution_count": 3,
   "metadata": {},
   "outputs": [
    {
     "output_type": "execute_result",
     "data": {
      "text/plain": [
       "                                                                    venue  \\\n",
       "0  Euromicro Conference on Software Engineering and Advanced Applications   \n",
       "1                   International Conference on Technical Debt (TechDebt)   \n",
       "2                            European Conference on Software Architecture   \n",
       "3                        International Conference on Software Engineering   \n",
       "4                 International Workshop on Managing Technical Debt (MTD)   \n",
       "\n",
       "   count                                         sp  \n",
       "0      7   [SP3, SP4, SP15, SP16, SP20, SP24, SP50]  \n",
       "1      7  [SP1, SP11, SP23, SP31, SP42, SP44, SP48]  \n",
       "2      3                         [SP17, SP29, SP47]  \n",
       "3      3                          [SP9, SP19, SP37]  \n",
       "4      3                         [SP25, SP26, SP33]  "
      ],
      "text/html": "<div>\n<style scoped>\n    .dataframe tbody tr th:only-of-type {\n        vertical-align: middle;\n    }\n\n    .dataframe tbody tr th {\n        vertical-align: top;\n    }\n\n    .dataframe thead th {\n        text-align: right;\n    }\n</style>\n<table border=\"1\" class=\"dataframe\">\n  <thead>\n    <tr style=\"text-align: right;\">\n      <th></th>\n      <th>venue</th>\n      <th>count</th>\n      <th>sp</th>\n    </tr>\n  </thead>\n  <tbody>\n    <tr>\n      <th>0</th>\n      <td>Euromicro Conference on Software Engineering and Advanced Applications</td>\n      <td>7</td>\n      <td>[SP3, SP4, SP15, SP16, SP20, SP24, SP50]</td>\n    </tr>\n    <tr>\n      <th>1</th>\n      <td>International Conference on Technical Debt (TechDebt)</td>\n      <td>7</td>\n      <td>[SP1, SP11, SP23, SP31, SP42, SP44, SP48]</td>\n    </tr>\n    <tr>\n      <th>2</th>\n      <td>European Conference on Software Architecture</td>\n      <td>3</td>\n      <td>[SP17, SP29, SP47]</td>\n    </tr>\n    <tr>\n      <th>3</th>\n      <td>International Conference on Software Engineering</td>\n      <td>3</td>\n      <td>[SP9, SP19, SP37]</td>\n    </tr>\n    <tr>\n      <th>4</th>\n      <td>International Workshop on Managing Technical Debt (MTD)</td>\n      <td>3</td>\n      <td>[SP25, SP26, SP33]</td>\n    </tr>\n  </tbody>\n</table>\n</div>"
     },
     "metadata": {},
     "execution_count": 3
    }
   ],
   "source": [
    "df_my_venues.query('count >= 3')"
   ]
  },
  {
   "cell_type": "code",
   "execution_count": null,
   "metadata": {},
   "outputs": [],
   "source": []
  }
 ]
}