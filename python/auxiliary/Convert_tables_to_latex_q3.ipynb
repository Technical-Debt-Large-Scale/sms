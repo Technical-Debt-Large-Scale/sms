{
 "metadata": {
  "language_info": {
   "codemirror_mode": {
    "name": "ipython",
    "version": 3
   },
   "file_extension": ".py",
   "mimetype": "text/x-python",
   "name": "python",
   "nbconvert_exporter": "python",
   "pygments_lexer": "ipython3",
   "version": "3.6.3-final"
  },
  "orig_nbformat": 2,
  "kernelspec": {
   "name": "python3",
   "display_name": "Python 3.6.3 64-bit",
   "metadata": {
    "interpreter": {
     "hash": "05ece30799c2dcdac4c13b3af20453da19de8df0d9a1de52cff7e0b6e1e82bdd"
    }
   }
  }
 },
 "nbformat": 4,
 "nbformat_minor": 2,
 "cells": [
  {
   "cell_type": "code",
   "execution_count": 1,
   "metadata": {},
   "outputs": [],
   "source": [
    "import os\n",
    "import sys\n",
    "nb_dir = os.path.split(os.getcwd())[0]\n",
    "if nb_dir not in sys.path:\n",
    "    sys.path.append(nb_dir)\n",
    "\n",
    "import pandas as pd\n",
    "import util.utilities as util\n",
    "from collections import Counter"
   ]
  },
  {
   "cell_type": "code",
   "execution_count": 4,
   "metadata": {},
   "outputs": [
    {
     "output_type": "stream",
     "name": "stdout",
     "text": [
      "Arquivo ../../latex/mytable_q3_distribution.tex  gerado com sucesso!\n",
      "ipykernel_launcher:5: SettingWithCopyWarning: \n",
      "A value is trying to be set on a copy of a slice from a DataFrame.\n",
      "Try using .loc[row_indexer,col_indexer] = value instead\n",
      "\n",
      "See the caveats in the documentation: http://pandas.pydata.org/pandas-docs/stable/indexing.html#indexing-view-versus-copy\n"
     ]
    },
    {
     "output_type": "execute_result",
     "data": {
      "text/plain": [
       "               q3  count  \\\n",
       "0      Monitoring     28   \n",
       "1              No     29   \n",
       "2  Not applicable      0   \n",
       "\n",
       "                                                                                                                                                                               sp  \n",
       "0                 [SP1, SP2, SP3, SP4, SP5, SP6, SP7, SP8, SP9, SP11, SP12, SP14, SP15, SP16, SP17, SP18, SP19, SP21, SP22, SP25, SP28, SP30, SP36, SP37, SP47, SP48, SP49, SP57]  \n",
       "1  [SP10, SP13, SP20, SP23, SP24, SP26, SP27, SP29, SP31, SP32, SP33, SP34, SP35, SP38, SP39, SP40, SP41, SP42, SP43, SP44, SP45, SP46, SP50, SP51, SP52, SP53, SP54, SP55, SP56]  \n",
       "2                                                                                                                                                                              []  "
      ],
      "text/html": "<div>\n<style scoped>\n    .dataframe tbody tr th:only-of-type {\n        vertical-align: middle;\n    }\n\n    .dataframe tbody tr th {\n        vertical-align: top;\n    }\n\n    .dataframe thead th {\n        text-align: right;\n    }\n</style>\n<table border=\"1\" class=\"dataframe\">\n  <thead>\n    <tr style=\"text-align: right;\">\n      <th></th>\n      <th>q3</th>\n      <th>count</th>\n      <th>sp</th>\n    </tr>\n  </thead>\n  <tbody>\n    <tr>\n      <th>0</th>\n      <td>Monitoring</td>\n      <td>28</td>\n      <td>[SP1, SP2, SP3, SP4, SP5, SP6, SP7, SP8, SP9, SP11, SP12, SP14, SP15, SP16, SP17, SP18, SP19, SP21, SP22, SP25, SP28, SP30, SP36, SP37, SP47, SP48, SP49, SP57]</td>\n    </tr>\n    <tr>\n      <th>1</th>\n      <td>No</td>\n      <td>29</td>\n      <td>[SP10, SP13, SP20, SP23, SP24, SP26, SP27, SP29, SP31, SP32, SP33, SP34, SP35, SP38, SP39, SP40, SP41, SP42, SP43, SP44, SP45, SP46, SP50, SP51, SP52, SP53, SP54, SP55, SP56]</td>\n    </tr>\n    <tr>\n      <th>2</th>\n      <td>Not applicable</td>\n      <td>0</td>\n      <td>[]</td>\n    </tr>\n  </tbody>\n</table>\n</div>"
     },
     "metadata": {},
     "execution_count": 4
    }
   ],
   "source": [
    "df_sms_extraction = util.load_dataset(my_path='../../dataset/Extraction_form_basic.xlsx')\n",
    "df_sms_extraction = util.add_column_sp(df_sms_extraction)\n",
    "\n",
    "df_my_data_papers = util.selected_papers(df_sms_extraction)\n",
    "df_my_data_papers['Title'] = df_my_data_papers['Title'].apply(lambda x: util.remove_enter(x))\n",
    "\n",
    "# 3.4) Q3 Monitoring ATD\n",
    "\n",
    "## Papers grouped by monitoring\n",
    "\n",
    "dict_q3 = {}\n",
    "for item in zip( list(df_sms_extraction['Paper Id']), list(df_sms_extraction['Q3(Monitoring)']) ):\n",
    "    id = item[0]\n",
    "    if (item[1] != ''):\n",
    "        q3 = str(item[1])\n",
    "        q3 = ' '.join(q3.split())\n",
    "        dict_q3[id] = q3.lower()\n",
    "\n",
    "df_distribution_q3 = util.view_question_distribution(my_dict=dict_q3, my_list=['Monitoring', 'No', 'Not applicable'], my_question='q3')\n",
    "df_distribution_q3['sp'] = None\n",
    "\n",
    "df_distribution_q3 = util.view_question_distribution_update_sp(my_df_distribution=df_distribution_q3, my_df_data=df_sms_extraction, my_feature='Q3(Monitoring)')\n",
    "\n",
    "util.create_latex_table(my_df=df_distribution_q3, my_path='../../latex', my_file_name='mytable_q3_distribution.tex')\n",
    "\n",
    "df_distribution_q3"
   ]
  },
  {
   "cell_type": "code",
   "execution_count": 5,
   "metadata": {},
   "outputs": [
    {
     "output_type": "stream",
     "name": "stdout",
     "text": [
      "Papers that monitoring ATD 28 - List of papers: ['A Proposed Model-driven Approach to Manage Architectural Technical Debt Life Cycle', 'A semi-automated framework for the identification and estimation of Architectural Technical Debt: A comparative case-study on the modularization of a software component', 'Towards an Architectural Debt Index', 'A Case Study of the Effects of Architecture Debt on Software Evolution Effort', 'A Longitudinal Study of Identifying and Paying Down architecture debt', 'Active Hotspot: An Issue-Oriented Model to Monitor Software Evolution and Degradation', 'An Empirical Investigation of Modularity Metrics for Indicating architectural technical debt', 'An Empirically Developed Method to Aid Decisions on Architectural Technical Debt Refactoring: AnaConDebt', 'Identifying and Quantifying Architectural Debt', 'Identifying Architectural Technical Debt in Android Applications through Automated Compliance Checking', 'Mitigating Technical and Architectural Debt with Sonargraph Using static analysis to enforce architectural constraints', 'On the interest of architectural technical debt: Uncovering the contagious debt phenomenon', 'Tool support for evaluating architectural debt of an existing system: An experience report', 'Architectural Technical Debt Identification based on Architecture Decisions and Change Scenarios', 'Architecture Technical Debt: Understanding Causes and a Qualitative Model', 'Estimating and Quantifying the Benefits of Refactoring to Improve a Component Modularity: a Case Study', 'Identifying and Prioritizing Architectural Debt Through Architectural Smells: A Case Study in a Large Software Company', 'Software Architecture Health Monitor', 'A Case Study in Locating the Architectural Roots of Technical Debt', 'Towards Prioritizing Architecture Technical Debt: Information Needs of Architects and Product Owners', 'Applying Social Network Analysis Techniques to Architectural Smell Prediction', 'In Search of a Metric for Managing Architectural Technical Debt', 'DV8: Automated Architecture Analysis Tool Suites', 'Exploring the Relationship between Software Modularity and Technical Debt', 'Identifying and Visualizing Architectural Debt and Its Efficiency Interest in the Automotive Domain: A Case Study', 'Technical Debt Indexes provided by tools: a preliminary discussion', 'Technical debt and system architecture: The impact of coupling on defect-related activity', 'Investigating Instability Architectural Smells Evolution: An Exploratory Case Study']\n"
     ]
    }
   ],
   "source": [
    "df_distribution_monitoring = df_distribution_q3\n",
    "papers_atd_monitored = df_distribution_monitoring['sp'][0]\n",
    "\n",
    "list_title_papers_atd_monitored = []\n",
    "\n",
    "i = 0\n",
    "for each in papers_atd_monitored: \n",
    "    j = 0 \n",
    "    for item in df_my_data_papers['sp']: \n",
    "        if (each == df_my_data_papers['sp'].iloc[j]):\n",
    "            list_title_papers_atd_monitored.append(df_my_data_papers['Title'].iloc[i])\n",
    "        j = j + 1\n",
    "    i = i + 1\n",
    "\n",
    "print('Papers that monitoring ATD {} - List of papers: {}'.format(len(list_title_papers_atd_monitored), list_title_papers_atd_monitored))"
   ]
  },
  {
   "cell_type": "code",
   "execution_count": 6,
   "metadata": {},
   "outputs": [
    {
     "output_type": "execute_result",
     "data": {
      "text/plain": [
       "   Paper Id   sp            Citation  \\\n",
       "0         1  SP1   Perez et al. 2019   \n",
       "1         2  SP2  Martini et al 2017   \n",
       "\n",
       "                                                                                                                                                                       Title  \\\n",
       "0                                                                                      A Proposed Model-driven Approach to Manage Architectural Technical Debt Life Cycle \\n   \n",
       "1  A semi-automated framework for the identification and estimation of Architectural Technical Debt: A comparative case-study on the modularization of a software component    \n",
       "\n",
       "                                                                                           Q3(Monitoring)  \n",
       "0    The method performed a monitoring process for each release planning evaluated during the case study.  \n",
       "1  The framework performed a monitoring process for each release version evaluated during the case study.  "
      ],
      "text/html": "<div>\n<style scoped>\n    .dataframe tbody tr th:only-of-type {\n        vertical-align: middle;\n    }\n\n    .dataframe tbody tr th {\n        vertical-align: top;\n    }\n\n    .dataframe thead th {\n        text-align: right;\n    }\n</style>\n<table border=\"1\" class=\"dataframe\">\n  <thead>\n    <tr style=\"text-align: right;\">\n      <th></th>\n      <th>Paper Id</th>\n      <th>sp</th>\n      <th>Citation</th>\n      <th>Title</th>\n      <th>Q3(Monitoring)</th>\n    </tr>\n  </thead>\n  <tbody>\n    <tr>\n      <th>0</th>\n      <td>1</td>\n      <td>SP1</td>\n      <td>Perez et al. 2019</td>\n      <td>A Proposed Model-driven Approach to Manage Architectural Technical Debt Life Cycle \\n</td>\n      <td>The method performed a monitoring process for each release planning evaluated during the case study.</td>\n    </tr>\n    <tr>\n      <th>1</th>\n      <td>2</td>\n      <td>SP2</td>\n      <td>Martini et al 2017</td>\n      <td>A semi-automated framework for the identification and estimation of Architectural Technical Debt: A comparative case-study on the modularization of a software component</td>\n      <td>The framework performed a monitoring process for each release version evaluated during the case study.</td>\n    </tr>\n  </tbody>\n</table>\n</div>"
     },
     "metadata": {},
     "execution_count": 6
    }
   ],
   "source": [
    "query_list_of_papers_atd_monitored = 'sp in ' + str(papers_atd_monitored)\n",
    "df_distribution_papers_monitored = df_sms_extraction[['Paper Id', 'sp', 'Citation', 'Title', 'Q3(Monitoring)']].query(query_list_of_papers_atd_monitored)\n",
    "\n",
    "df_distribution_papers_monitored.head(2)"
   ]
  },
  {
   "cell_type": "code",
   "execution_count": 7,
   "metadata": {},
   "outputs": [
    {
     "output_type": "execute_result",
     "data": {
      "text/plain": [
       "[(1,\n",
       "  'The method performed a monitoring process for each release planning evaluated during the case study.'),\n",
       " (2,\n",
       "  'The framework performed a monitoring process for each release version evaluated during the case study.'),\n",
       " (3,\n",
       "  'The method performed a monitoring for each version analysed during the study.')]"
      ]
     },
     "metadata": {},
     "execution_count": 7
    }
   ],
   "source": [
    "## Papers grouped by Kind of Monitoring\n",
    "\n",
    "list_of_my_tuple_of_monitored_papers = []\n",
    "for each in df_distribution_papers_monitored[['Paper Id', 'sp', 'Q3(Monitoring)']].values: \n",
    "    list_of_my_tuple_of_monitored_papers.append((each[0], each[2]))\n",
    "\n",
    "list_of_my_tuple_of_monitored_papers[0:3]"
   ]
  },
  {
   "cell_type": "code",
   "execution_count": 8,
   "metadata": {},
   "outputs": [
    {
     "output_type": "stream",
     "name": "stdout",
     "text": [
      "Arquivo ../../latex/mytable_q3_distribution_detailed.tex  gerado com sucesso!\n"
     ]
    },
    {
     "output_type": "execute_result",
     "data": {
      "text/plain": [
       "                                                monitoring  count  \\\n",
       "0                                For each release analysed     13   \n",
       "1                                    For each release plan      4   \n",
       "2                                For each version analysed      2   \n",
       "3                                For each revision history      2   \n",
       "4  For each revision history and issues related to version      2   \n",
       "5                                                    Other      1   \n",
       "\n",
       "                                                                            sp  \n",
       "0  [SP5, SP8, SP9, SP12, SP14, SP16, SP17, SP19, SP21, SP22, SP28, SP30, SP37]  \n",
       "1                                                       [SP1, SP2, SP15, SP25]  \n",
       "2                                                                  [SP3, SP18]  \n",
       "3                                                                   [SP4, SP7]  \n",
       "4                                                                  [SP6, SP11]  \n",
       "5                                                                       [SP36]  "
      ],
      "text/html": "<div>\n<style scoped>\n    .dataframe tbody tr th:only-of-type {\n        vertical-align: middle;\n    }\n\n    .dataframe tbody tr th {\n        vertical-align: top;\n    }\n\n    .dataframe thead th {\n        text-align: right;\n    }\n</style>\n<table border=\"1\" class=\"dataframe\">\n  <thead>\n    <tr style=\"text-align: right;\">\n      <th></th>\n      <th>monitoring</th>\n      <th>count</th>\n      <th>sp</th>\n    </tr>\n  </thead>\n  <tbody>\n    <tr>\n      <th>0</th>\n      <td>For each release analysed</td>\n      <td>13</td>\n      <td>[SP5, SP8, SP9, SP12, SP14, SP16, SP17, SP19, SP21, SP22, SP28, SP30, SP37]</td>\n    </tr>\n    <tr>\n      <th>1</th>\n      <td>For each release plan</td>\n      <td>4</td>\n      <td>[SP1, SP2, SP15, SP25]</td>\n    </tr>\n    <tr>\n      <th>2</th>\n      <td>For each version analysed</td>\n      <td>2</td>\n      <td>[SP3, SP18]</td>\n    </tr>\n    <tr>\n      <th>3</th>\n      <td>For each revision history</td>\n      <td>2</td>\n      <td>[SP4, SP7]</td>\n    </tr>\n    <tr>\n      <th>4</th>\n      <td>For each revision history and issues related to version</td>\n      <td>2</td>\n      <td>[SP6, SP11]</td>\n    </tr>\n    <tr>\n      <th>5</th>\n      <td>Other</td>\n      <td>1</td>\n      <td>[SP36]</td>\n    </tr>\n  </tbody>\n</table>\n</div>"
     },
     "metadata": {},
     "execution_count": 8
    }
   ],
   "source": [
    "temp_list_tuple_id_monitored = [(1, 'For each release plan'),\n",
    " (2, 'For each release plan'),\n",
    " (3, 'For each version analysed'),\n",
    " (4, 'For each revision history'),\n",
    " (5, 'For each release analysed'),\n",
    " (7, 'For each revision history and issues related to version'),\n",
    " (9, 'For each revision history'),\n",
    " (10, 'For each release analysed'),\n",
    " (13, 'For each release analysed'),\n",
    " (15, 'For each revision history and issues related to version'),\n",
    " (16, 'For each release analysed'),\n",
    " (21, 'For each release analysed'),\n",
    " (22, 'For each release plan'),\n",
    " (27, 'For each release analysed'),\n",
    " (30, 'For each release analysed'),\n",
    " (38, 'For each version analysed'),\n",
    " (48, 'For each release analysed'),\n",
    " (20, 'For each release analysed'),\n",
    " (33, 'For each release analysed'),\n",
    " (31, 'For each release plan'),\n",
    " (51, 'For each release analysed'),\n",
    " (63, 'For each release analysed'),\n",
    " (35, 'Other'),\n",
    " (24, 'For each release analysed')]\n",
    "\n",
    "# 1) Add new column grouped_by_monitoring\n",
    "df_sms_extraction['grouped_by_monitoring'] = None\n",
    "\n",
    "grouped_by_monitoring = temp_list_tuple_id_monitored\n",
    "# 2) Updating df_sms_extraction['grouped_by_monitoring']\n",
    "for each in grouped_by_monitoring:\n",
    "    j = 0\n",
    "    for item in df_sms_extraction['Paper Id']:\n",
    "        if each[0] == item: \n",
    "            df_sms_extraction['grouped_by_monitoring'].iloc[j] = each[1]\n",
    "        j = j + 1\n",
    "\n",
    "# 3) Creating list_by_monitoring using count \n",
    "list_by_monitoring = []\n",
    "for each in grouped_by_monitoring: \n",
    "    list_by_monitoring.append(each[1])\n",
    "\n",
    "list_by_monitoring = Counter(list_by_monitoring).most_common()\n",
    "\n",
    "# 5) Creating DataFrame df_my_monitoring\n",
    "monitoring = []\n",
    "count = []\n",
    "for each in list_by_monitoring: \n",
    "    monitoring.append(each[0])\n",
    "    count.append(each[1])\n",
    "my_monitoring = {'monitoring': monitoring, 'count':count}\n",
    "my_monitoring\n",
    "\n",
    "my_monitoring_id = list(range(1,len(list_by_monitoring)+1))\n",
    "my_monitoring_id\n",
    "\n",
    "df_my_monitoring = pd.DataFrame(data=my_monitoring, index=my_monitoring_id)\n",
    "df_my_monitoring.reset_index(drop=True, inplace=True)\n",
    "df_my_monitoring['sp'] = None\n",
    "\n",
    "# 5) Add new column with Selected Papers according grouped monitoring\n",
    "i = 0\n",
    "for each in df_my_monitoring['monitoring']:\n",
    "    list_sp_novo = []\n",
    "    j = 0\n",
    "    for item in df_sms_extraction['grouped_by_monitoring']:\n",
    "        if each == item: \n",
    "            list_sp_novo.append(df_sms_extraction['sp'].iloc[j])\n",
    "        j = j + 1\n",
    "    df_my_monitoring['sp'].iloc[i] = list_sp_novo\n",
    "    i = i + 1\n",
    "\n",
    "# 6) Save the latex table \n",
    "util.create_latex_table(my_df=df_my_monitoring, my_path='../../latex', my_file_name='mytable_q3_distribution_detailed.tex')\n",
    "\n",
    "df_my_monitoring"
   ]
  },
  {
   "cell_type": "code",
   "execution_count": null,
   "metadata": {},
   "outputs": [],
   "source": []
  }
 ]
}