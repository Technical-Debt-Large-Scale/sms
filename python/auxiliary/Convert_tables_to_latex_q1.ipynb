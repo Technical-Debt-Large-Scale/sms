{
 "metadata": {
  "language_info": {
   "codemirror_mode": {
    "name": "ipython",
    "version": 3
   },
   "file_extension": ".py",
   "mimetype": "text/x-python",
   "name": "python",
   "nbconvert_exporter": "python",
   "pygments_lexer": "ipython3",
   "version": "3.6.3-final"
  },
  "orig_nbformat": 2,
  "kernelspec": {
   "name": "python3",
   "display_name": "Python 3.6.3 64-bit",
   "metadata": {
    "interpreter": {
     "hash": "05ece30799c2dcdac4c13b3af20453da19de8df0d9a1de52cff7e0b6e1e82bdd"
    }
   }
  }
 },
 "nbformat": 4,
 "nbformat_minor": 2,
 "cells": [
  {
   "cell_type": "code",
   "execution_count": 1,
   "metadata": {},
   "outputs": [],
   "source": [
    "import os\n",
    "import sys\n",
    "nb_dir = os.path.split(os.getcwd())[0]\n",
    "if nb_dir not in sys.path:\n",
    "    sys.path.append(nb_dir)\n",
    "\n",
    "import pandas as pd\n",
    "import util.utilities as util\n",
    "from collections import Counter"
   ]
  },
  {
   "cell_type": "code",
   "execution_count": 2,
   "metadata": {},
   "outputs": [
    {
     "output_type": "stream",
     "name": "stderr",
     "text": [
      "/Library/Frameworks/Python.framework/Versions/3.6/lib/python3.6/site-packages/pandas/core/indexing.py:190: SettingWithCopyWarning: \n",
      "A value is trying to be set on a copy of a slice from a DataFrame\n",
      "\n",
      "See the caveats in the documentation: http://pandas.pydata.org/pandas-docs/stable/indexing.html#indexing-view-versus-copy\n",
      "  self._setitem_with_indexer(indexer, value)\n",
      "Arquivo ../../latex/mytable_q1.tex  gerado com sucesso!\n",
      "Arquivo ../../md/mytable_q1.md  gerado com sucesso!\n"
     ]
    },
    {
     "output_type": "execute_result",
     "data": {
      "text/plain": [
       "                                              q1  count  \\\n",
       "0                                  Not specified     15   \n",
       "1          System-level structure quality issues     13   \n",
       "2                            Architecture Smells     11   \n",
       "3                Architectural compliance issues      9   \n",
       "4  Complex architectural behavioral dependencies      6   \n",
       "5     Violations of good architectural practices      3   \n",
       "\n",
       "                                                                                          sp  \n",
       "0  [SP1, SP10, SP12, SP13, SP23, SP26, SP32, SP33, SP34, SP36, SP43, SP45, SP46, SP47, SP55]  \n",
       "1              [SP6, SP16, SP19, SP24, SP27, SP30, SP39, SP42, SP44, SP49, SP50, SP51, SP52]  \n",
       "2                           [SP3, SP9, SP17, SP18, SP21, SP28, SP29, SP37, SP48, SP56, SP57]  \n",
       "3                                       [SP7, SP8, SP11, SP14, SP15, SP20, SP22, SP31, SP41]  \n",
       "4                                                          [SP2, SP4, SP5, SP38, SP53, SP54]  \n",
       "5                                                                         [SP25, SP35, SP40]  "
      ],
      "text/html": "<div>\n<style scoped>\n    .dataframe tbody tr th:only-of-type {\n        vertical-align: middle;\n    }\n\n    .dataframe tbody tr th {\n        vertical-align: top;\n    }\n\n    .dataframe thead th {\n        text-align: right;\n    }\n</style>\n<table border=\"1\" class=\"dataframe\">\n  <thead>\n    <tr style=\"text-align: right;\">\n      <th></th>\n      <th>q1</th>\n      <th>count</th>\n      <th>sp</th>\n    </tr>\n  </thead>\n  <tbody>\n    <tr>\n      <th>0</th>\n      <td>Not specified</td>\n      <td>15</td>\n      <td>[SP1, SP10, SP12, SP13, SP23, SP26, SP32, SP33, SP34, SP36, SP43, SP45, SP46, SP47, SP55]</td>\n    </tr>\n    <tr>\n      <th>1</th>\n      <td>System-level structure quality issues</td>\n      <td>13</td>\n      <td>[SP6, SP16, SP19, SP24, SP27, SP30, SP39, SP42, SP44, SP49, SP50, SP51, SP52]</td>\n    </tr>\n    <tr>\n      <th>2</th>\n      <td>Architecture Smells</td>\n      <td>11</td>\n      <td>[SP3, SP9, SP17, SP18, SP21, SP28, SP29, SP37, SP48, SP56, SP57]</td>\n    </tr>\n    <tr>\n      <th>3</th>\n      <td>Architectural compliance issues</td>\n      <td>9</td>\n      <td>[SP7, SP8, SP11, SP14, SP15, SP20, SP22, SP31, SP41]</td>\n    </tr>\n    <tr>\n      <th>4</th>\n      <td>Complex architectural behavioral dependencies</td>\n      <td>6</td>\n      <td>[SP2, SP4, SP5, SP38, SP53, SP54]</td>\n    </tr>\n    <tr>\n      <th>5</th>\n      <td>Violations of good architectural practices</td>\n      <td>3</td>\n      <td>[SP25, SP35, SP40]</td>\n    </tr>\n  </tbody>\n</table>\n</div>"
     },
     "metadata": {},
     "execution_count": 2
    }
   ],
   "source": [
    "df_sms_extraction = util.load_dataset(my_path='../../dataset/Extraction_form_basic.xlsx')\n",
    "df_sms_extraction = util.add_column_sp(df_sms_extraction)\n",
    "\n",
    "# 3.2) Q1 (Type of ATD according Li el al. 2015)\n",
    "\n",
    "list_of_q1 = []\n",
    "for item in list(df_sms_extraction['Q1 Type of ATD (Based on Li et al 2015)']): \n",
    "    if not (util.isnan(item)):\n",
    "        item = ' '.join(item.split())\n",
    "        list_of_q1.append(item)\n",
    "list_of_q1.sort()\n",
    "\n",
    "list_of_most_common_q1 = Counter(list_of_q1).most_common()\n",
    "\n",
    "q1 = []\n",
    "count_q1 = []\n",
    "for each in list_of_most_common_q1: \n",
    "    q1.append(each[0])\n",
    "    count_q1.append(each[1])\n",
    "my_q1 = {'q1': q1, 'count':count_q1}\n",
    "my_q1\n",
    "\n",
    "my_q1_id = list(range(1,len(list_of_most_common_q1)+1))\n",
    "my_q1_id\n",
    "\n",
    "df_my_q1 = pd.DataFrame(data=my_q1, index=my_q1_id)\n",
    "df_my_q1.reset_index(drop=True, inplace=True)\n",
    "df_my_q1\n",
    "\n",
    "df_my_q1['sp'] = None\n",
    "\n",
    "# Add new column with Selected Papers according grouped q1\n",
    "i = 0\n",
    "for each in df_my_q1['q1']:\n",
    "    list_sp_novo = []\n",
    "    j = 0\n",
    "    for item in df_sms_extraction['Q1 Type of ATD (Based on Li et al 2015)']:\n",
    "        if each == item: \n",
    "            list_sp_novo.append(df_sms_extraction['sp'].iloc[j])\n",
    "        j = j + 1\n",
    "    df_my_q1['sp'].iloc[i] = list_sp_novo\n",
    "    i = i + 1\n",
    "\n",
    "util.create_latex_table(my_df=df_my_q1, my_path='../../latex', my_file_name='mytable_q1.tex')\n",
    "util.create_markdown_table(my_df=df_my_q1, my_path='../../md', my_file_name='mytable_q1.md')\n",
    "df_my_q1"
   ]
  },
  {
   "cell_type": "code",
   "execution_count": 83,
   "metadata": {},
   "outputs": [
    {
     "output_type": "execute_result",
     "data": {
      "text/plain": [
       "                                              q1  count  percent\n",
       "0                                  Not specified     15    0.263\n",
       "1          System-level structure quality issues     13    0.228\n",
       "2                            Architecture Smells     11    0.193\n",
       "3                Architectural compliance issues      9    0.158\n",
       "4  Complex architectural behavioral dependencies      6    0.105\n",
       "5     Violations of good architectural practices      3    0.053"
      ],
      "text/html": "<div>\n<style scoped>\n    .dataframe tbody tr th:only-of-type {\n        vertical-align: middle;\n    }\n\n    .dataframe tbody tr th {\n        vertical-align: top;\n    }\n\n    .dataframe thead th {\n        text-align: right;\n    }\n</style>\n<table border=\"1\" class=\"dataframe\">\n  <thead>\n    <tr style=\"text-align: right;\">\n      <th></th>\n      <th>q1</th>\n      <th>count</th>\n      <th>percent</th>\n    </tr>\n  </thead>\n  <tbody>\n    <tr>\n      <th>0</th>\n      <td>Not specified</td>\n      <td>15</td>\n      <td>0.263</td>\n    </tr>\n    <tr>\n      <th>1</th>\n      <td>System-level structure quality issues</td>\n      <td>13</td>\n      <td>0.228</td>\n    </tr>\n    <tr>\n      <th>2</th>\n      <td>Architecture Smells</td>\n      <td>11</td>\n      <td>0.193</td>\n    </tr>\n    <tr>\n      <th>3</th>\n      <td>Architectural compliance issues</td>\n      <td>9</td>\n      <td>0.158</td>\n    </tr>\n    <tr>\n      <th>4</th>\n      <td>Complex architectural behavioral dependencies</td>\n      <td>6</td>\n      <td>0.105</td>\n    </tr>\n    <tr>\n      <th>5</th>\n      <td>Violations of good architectural practices</td>\n      <td>3</td>\n      <td>0.053</td>\n    </tr>\n  </tbody>\n</table>\n</div>"
     },
     "metadata": {},
     "execution_count": 83
    }
   ],
   "source": [
    "df_my_q1['percent'] = round( df_my_q1['count'] / 57, 3)\n",
    "\n",
    "df_my_q1[['q1', 'count', 'percent']]"
   ]
  },
  {
   "cell_type": "code",
   "execution_count": null,
   "metadata": {},
   "outputs": [],
   "source": []
  }
 ]
}