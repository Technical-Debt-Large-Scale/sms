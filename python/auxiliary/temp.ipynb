{
 "metadata": {
  "language_info": {
   "codemirror_mode": {
    "name": "ipython",
    "version": 3
   },
   "file_extension": ".py",
   "mimetype": "text/x-python",
   "name": "python",
   "nbconvert_exporter": "python",
   "pygments_lexer": "ipython3",
   "version": "3.6.3-final"
  },
  "orig_nbformat": 2,
  "kernelspec": {
   "name": "python3",
   "display_name": "Python 3",
   "language": "python"
  }
 },
 "nbformat": 4,
 "nbformat_minor": 2,
 "cells": [
  {
   "cell_type": "code",
   "execution_count": 5,
   "metadata": {},
   "outputs": [],
   "source": [
    "import pandas as pd"
   ]
  },
  {
   "cell_type": "code",
   "execution_count": 7,
   "metadata": {},
   "outputs": [
    {
     "output_type": "stream",
     "name": "stdout",
     "text": [
      "<class 'pandas.core.frame.DataFrame'>\nRangeIndex: 47 entries, 0 to 46\nData columns (total 32 columns):\nPaper Id                                     47 non-null int64\nCitation                                     47 non-null object\nGoogle Scholar                               47 non-null object\nAuthors                                      47 non-null object\nTitle                                        47 non-null object\nPublication Year                             47 non-null int64\nAbstract                                     47 non-null object\nVenue Type                                   47 non-null object\nVenue                                        47 non-null object\nName of Venue                                47 non-null object\nField                                        47 non-null object\nKey words                                    47 non-null object\nNumber of Pages                              47 non-null int64\nMain aim (Goal)                              47 non-null object\nTechniques, approach and methods (parsed)    47 non-null object\nTechniques, approach, methods and tools      46 non-null object\nKind of reasearch                            45 non-null object\nQ1                                           43 non-null object\nQ2                                           42 non-null object\nQ3                                           42 non-null object\nQ4                                           42 non-null object\nExtra (Conclusion)                           47 non-null object\nExtra2 (Related work)                        41 non-null object\nRelated work (original)                      41 non-null object\nExtra 3 (Important work)                     31 non-null object\nImportant work (original)                    31 non-null object\nStrong Aspects                               38 non-null object\nWeak Aspects                                 38 non-null object\nScientific Rigor                             39 non-null object\nPaper relevance                              39 non-null object\nLimitations                                  37 non-null object\nFuture Works                                 38 non-null object\ndtypes: int64(3), object(29)\nmemory usage: 11.8+ KB\n"
     ]
    }
   ],
   "source": [
    "# Import papers spreadsheet to dataset\n",
    "df_sms_extraction = pd.read_excel('../../dataset/Extraction_form.xlsx')\n",
    "df_sms_extraction.info()"
   ]
  },
  {
   "source": [
    "## The papers below have to be revised:"
   ],
   "cell_type": "markdown",
   "metadata": {}
  },
  {
   "cell_type": "code",
   "execution_count": 8,
   "metadata": {},
   "outputs": [
    {
     "output_type": "execute_result",
     "data": {
      "text/plain": [
       "    Paper Id                Citation  \\\n",
       "36        24          Cai el al 2018   \n",
       "38        78  Ludwig and Webber 2017   \n",
       "\n",
       "                                                Title  \n",
       "36  Design Rule Spaces: A New Model for Representi...  \n",
       "38  Compiling Static Software Metrics for Reliabil...  "
      ],
      "text/html": "<div>\n<style scoped>\n    .dataframe tbody tr th:only-of-type {\n        vertical-align: middle;\n    }\n\n    .dataframe tbody tr th {\n        vertical-align: top;\n    }\n\n    .dataframe thead th {\n        text-align: right;\n    }\n</style>\n<table border=\"1\" class=\"dataframe\">\n  <thead>\n    <tr style=\"text-align: right;\">\n      <th></th>\n      <th>Paper Id</th>\n      <th>Citation</th>\n      <th>Title</th>\n    </tr>\n  </thead>\n  <tbody>\n    <tr>\n      <th>36</th>\n      <td>24</td>\n      <td>Cai el al 2018</td>\n      <td>Design Rule Spaces: A New Model for Representi...</td>\n    </tr>\n    <tr>\n      <th>38</th>\n      <td>78</td>\n      <td>Ludwig and Webber 2017</td>\n      <td>Compiling Static Software Metrics for Reliabil...</td>\n    </tr>\n  </tbody>\n</table>\n</div>"
     },
     "metadata": {},
     "execution_count": 8
    }
   ],
   "source": [
    "df_sms_extraction[df_sms_extraction[\"Kind of reasearch\"].isnull()][['Paper Id', 'Citation', 'Title']]"
   ]
  },
  {
   "cell_type": "code",
   "execution_count": 9,
   "metadata": {},
   "outputs": [
    {
     "output_type": "execute_result",
     "data": {
      "text/plain": [
       "    Paper Id                     Citation  \\\n",
       "17        38          Cai and Kazman 2016   \n",
       "41        85             Kumar et al 2018   \n",
       "16        30          Martini et al. 2018   \n",
       "35        35           Martini et al 2015   \n",
       "11        16       Martini and Bosch 2017   \n",
       "46        40      Damian A. Tamburri 2019   \n",
       "36        24               Cai el al 2018   \n",
       "29        63  Spinellis and Avgeriou 2019   \n",
       "\n",
       "                                                Title  Number of Pages  \n",
       "17               Software Architecture Health Monitor                4  \n",
       "41  Exploring multilateral cloud computing securit...               13  \n",
       "16  Identifying and Prioritizing Architectural Deb...               16  \n",
       "35  Investigating Architectural Technical Debt acc...               17  \n",
       "11  On the interest of architectural technical deb...               18  \n",
       "46  Software Architecture Social Debt: Managing th...               18  \n",
       "36  Design Rule Spaces: A New Model for Representi...               27  \n",
       "29  Evolution of the Unix System Architecture: An ...               31  "
      ],
      "text/html": "<div>\n<style scoped>\n    .dataframe tbody tr th:only-of-type {\n        vertical-align: middle;\n    }\n\n    .dataframe tbody tr th {\n        vertical-align: top;\n    }\n\n    .dataframe thead th {\n        text-align: right;\n    }\n</style>\n<table border=\"1\" class=\"dataframe\">\n  <thead>\n    <tr style=\"text-align: right;\">\n      <th></th>\n      <th>Paper Id</th>\n      <th>Citation</th>\n      <th>Title</th>\n      <th>Number of Pages</th>\n    </tr>\n  </thead>\n  <tbody>\n    <tr>\n      <th>17</th>\n      <td>38</td>\n      <td>Cai and Kazman 2016</td>\n      <td>Software Architecture Health Monitor</td>\n      <td>4</td>\n    </tr>\n    <tr>\n      <th>41</th>\n      <td>85</td>\n      <td>Kumar et al 2018</td>\n      <td>Exploring multilateral cloud computing securit...</td>\n      <td>13</td>\n    </tr>\n    <tr>\n      <th>16</th>\n      <td>30</td>\n      <td>Martini et al. 2018</td>\n      <td>Identifying and Prioritizing Architectural Deb...</td>\n      <td>16</td>\n    </tr>\n    <tr>\n      <th>35</th>\n      <td>35</td>\n      <td>Martini et al 2015</td>\n      <td>Investigating Architectural Technical Debt acc...</td>\n      <td>17</td>\n    </tr>\n    <tr>\n      <th>11</th>\n      <td>16</td>\n      <td>Martini and Bosch 2017</td>\n      <td>On the interest of architectural technical deb...</td>\n      <td>18</td>\n    </tr>\n    <tr>\n      <th>46</th>\n      <td>40</td>\n      <td>Damian A. Tamburri 2019</td>\n      <td>Software Architecture Social Debt: Managing th...</td>\n      <td>18</td>\n    </tr>\n    <tr>\n      <th>36</th>\n      <td>24</td>\n      <td>Cai el al 2018</td>\n      <td>Design Rule Spaces: A New Model for Representi...</td>\n      <td>27</td>\n    </tr>\n    <tr>\n      <th>29</th>\n      <td>63</td>\n      <td>Spinellis and Avgeriou 2019</td>\n      <td>Evolution of the Unix System Architecture: An ...</td>\n      <td>31</td>\n    </tr>\n  </tbody>\n</table>\n</div>"
     },
     "metadata": {},
     "execution_count": 9
    }
   ],
   "source": [
    "df_sms_extraction[df_sms_extraction[\"Scientific Rigor\"].isnull()][['Paper Id','Citation', 'Title', 'Number of Pages']].sort_values(by=['Number of Pages'])"
   ]
  },
  {
   "cell_type": "code",
   "execution_count": 10,
   "metadata": {},
   "outputs": [],
   "source": [
    "dados_incompletos = ['Q1 (Measure) yes - what?', 'Q2 (Monitoring) yes - how?', 'Q3 (Techniques and Tools) yes - what?', 'Q4 (Calculate the cost) yes - how?', 'Strong Aspects', 'Weak Aspects', 'Scientific Rigor', 'Paper relevance', 'Limitations', 'Future Works']"
   ]
  },
  {
   "source": [
    "## Papers group by Size of pages"
   ],
   "cell_type": "markdown",
   "metadata": {}
  },
  {
   "cell_type": "code",
   "execution_count": 13,
   "metadata": {},
   "outputs": [],
   "source": [
    "list_of_columns_using_pages = ['Paper Id', 'Citation', 'Number of Pages', 'Title']\n",
    "mask1 = df_sms_extraction['Number of Pages'] <= 5\n",
    "df_papers_until_5_pages = df_sms_extraction[mask1][list_of_columns_using_pages]\n",
    "df_papers_until_5_pages = df_papers_until_5_pages.sort_values(by=['Number of Pages'])\n",
    "mask2 = (df_sms_extraction['Number of Pages'] > 5) & (df_sms_extraction['Number of Pages'] <= 15)\n",
    "df_papers_from_6_to_15_pages = df_sms_extraction[mask2][list_of_columns_using_pages]\n",
    "df_papers_from_6_to_15_pages = df_papers_from_6_to_15_pages.sort_values(by=['Number of Pages'])\n",
    "mask3 = (df_sms_extraction['Number of Pages'] > 15) & (df_sms_extraction['Number of Pages'] <= 20)\n",
    "df_papers_from_16_to_20_pages = df_sms_extraction[mask3][list_of_columns_using_pages]\n",
    "df_papers_from_16_to_20_pages = df_papers_from_16_to_20_pages.sort_values(by=['Number of Pages'])\n",
    "mask4 = df_sms_extraction['Number of Pages'] > 20\n",
    "df_papers_over_20_pages = df_sms_extraction[mask4][list_of_columns_using_pages]\n",
    "df_papers_over_20_pages = df_papers_over_20_pages.sort_values(by=['Number of Pages'])"
   ]
  },
  {
   "cell_type": "code",
   "execution_count": 14,
   "metadata": {},
   "outputs": [
    {
     "output_type": "stream",
     "name": "stdout",
     "text": [
      "Papers size of pages from 6 to 9 pages: 11\n"
     ]
    },
    {
     "output_type": "execute_result",
     "data": {
      "text/plain": [
       "    Paper Id                        Citation  Number of Pages  \\\n",
       "33        66  Martini, Besker and Bosch 2016                8   \n",
       "32        67          Ampatzoglou et al 2016                8   \n",
       "28        52             Fontana et al. 2019                8   \n",
       "24        31            Eliasson et al. 2015                8   \n",
       "20        20                   Tommasel 2019                8   \n",
       "14        22             Martini et al. 2014                8   \n",
       "15        27             Martini et al. 2016                8   \n",
       "19        47          Martini and Bosch 2015                8   \n",
       "2          3              Roveda et al. 2018                9   \n",
       "39        81               Curtis et al 2012                9   \n",
       "44        91               Bogner et al 2018                9   \n",
       "\n",
       "                                                Title  \n",
       "33  The Introduction of Technical Debt Tracking in...  \n",
       "32  The Perception of Technical Debt in the Embedd...  \n",
       "28   PageRank and criticality of architectural smells  \n",
       "24  Identifying and Visualizing Architectural Debt...  \n",
       "20  Applying Social Network Analysis Techniques to...  \n",
       "14  Architecture Technical Debt: Understanding Cau...  \n",
       "15  Estimating and Quantifying the Benefits of Ref...  \n",
       "19  Towards Prioritizing Architecture Technical De...  \n",
       "2                 Towards an Architectural Debt Index  \n",
       "39  Estimating the principal of an applications te...  \n",
       "44  Limiting technical debt with maintainability a...  "
      ],
      "text/html": "<div>\n<style scoped>\n    .dataframe tbody tr th:only-of-type {\n        vertical-align: middle;\n    }\n\n    .dataframe tbody tr th {\n        vertical-align: top;\n    }\n\n    .dataframe thead th {\n        text-align: right;\n    }\n</style>\n<table border=\"1\" class=\"dataframe\">\n  <thead>\n    <tr style=\"text-align: right;\">\n      <th></th>\n      <th>Paper Id</th>\n      <th>Citation</th>\n      <th>Number of Pages</th>\n      <th>Title</th>\n    </tr>\n  </thead>\n  <tbody>\n    <tr>\n      <th>33</th>\n      <td>66</td>\n      <td>Martini, Besker and Bosch 2016</td>\n      <td>8</td>\n      <td>The Introduction of Technical Debt Tracking in...</td>\n    </tr>\n    <tr>\n      <th>32</th>\n      <td>67</td>\n      <td>Ampatzoglou et al 2016</td>\n      <td>8</td>\n      <td>The Perception of Technical Debt in the Embedd...</td>\n    </tr>\n    <tr>\n      <th>28</th>\n      <td>52</td>\n      <td>Fontana et al. 2019</td>\n      <td>8</td>\n      <td>PageRank and criticality of architectural smells</td>\n    </tr>\n    <tr>\n      <th>24</th>\n      <td>31</td>\n      <td>Eliasson et al. 2015</td>\n      <td>8</td>\n      <td>Identifying and Visualizing Architectural Debt...</td>\n    </tr>\n    <tr>\n      <th>20</th>\n      <td>20</td>\n      <td>Tommasel 2019</td>\n      <td>8</td>\n      <td>Applying Social Network Analysis Techniques to...</td>\n    </tr>\n    <tr>\n      <th>14</th>\n      <td>22</td>\n      <td>Martini et al. 2014</td>\n      <td>8</td>\n      <td>Architecture Technical Debt: Understanding Cau...</td>\n    </tr>\n    <tr>\n      <th>15</th>\n      <td>27</td>\n      <td>Martini et al. 2016</td>\n      <td>8</td>\n      <td>Estimating and Quantifying the Benefits of Ref...</td>\n    </tr>\n    <tr>\n      <th>19</th>\n      <td>47</td>\n      <td>Martini and Bosch 2015</td>\n      <td>8</td>\n      <td>Towards Prioritizing Architecture Technical De...</td>\n    </tr>\n    <tr>\n      <th>2</th>\n      <td>3</td>\n      <td>Roveda et al. 2018</td>\n      <td>9</td>\n      <td>Towards an Architectural Debt Index</td>\n    </tr>\n    <tr>\n      <th>39</th>\n      <td>81</td>\n      <td>Curtis et al 2012</td>\n      <td>9</td>\n      <td>Estimating the principal of an applications te...</td>\n    </tr>\n    <tr>\n      <th>44</th>\n      <td>91</td>\n      <td>Bogner et al 2018</td>\n      <td>9</td>\n      <td>Limiting technical debt with maintainability a...</td>\n    </tr>\n  </tbody>\n</table>\n</div>"
     },
     "metadata": {},
     "execution_count": 14
    }
   ],
   "source": [
    "mask_aux = df_papers_from_6_to_15_pages['Number of Pages'] <= 9 \n",
    "print('Papers size of pages from 6 to 9 pages: {}'.format( len(df_papers_from_6_to_15_pages[mask_aux].sort_values(by=['Number of Pages'])) ))\n",
    "df_papers_from_6_to_15_pages[mask_aux].sort_values(by=['Number of Pages'])"
   ]
  },
  {
   "cell_type": "code",
   "execution_count": 15,
   "metadata": {},
   "outputs": [
    {
     "output_type": "stream",
     "name": "stdout",
     "text": [
      "Papers size of pages until 5 pages: 14\n"
     ]
    },
    {
     "output_type": "execute_result",
     "data": {
      "text/plain": [
       "    Paper Id                Citation  Number of Pages  \\\n",
       "9         14         Verdecchia 2018                2   \n",
       "10        15   Zitzweitz et al. 2019                2   \n",
       "22        26     Cai and Kazman 2019                2   \n",
       "12        17     Fontana et al. 2016                3   \n",
       "3          4      Snipes et al. 2018                4   \n",
       "17        38     Cai and Kazman 2016                4   \n",
       "23        28      Skiada et al. 2018                4   \n",
       "25        44     Fontana et al. 2016                4   \n",
       "45        97   Andrzej Zalewski 2017                4   \n",
       "0          1       Perez et al. 2019                5   \n",
       "30        73    Izurieta et al. 2018                5   \n",
       "38        78  Ludwig and Webber 2017                5   \n",
       "40        82       Curtis et al 2012                5   \n",
       "42        88      Hanssen et al 2019                5   \n",
       "\n",
       "                                                Title  \n",
       "9   Identifying Architectural Technical Debt in An...  \n",
       "10  Mitigating Technical and Architectural Debt wi...  \n",
       "22  DV8: Automated Architecture Analysis Tool Suites   \n",
       "12  Tool support for evaluating architectural debt...  \n",
       "3   A Case Study of the Effects of Architecture De...  \n",
       "17               Software Architecture Health Monitor  \n",
       "23  Exploring the Relationship between Software Mo...  \n",
       "25  Technical Debt Indexes provided by tools: a pr...  \n",
       "45     Risk Appetite in Architectural Decision-Making  \n",
       "0   A Proposed Model-driven Approach to Manage Arc...  \n",
       "30  A position study to investigate technical debt...  \n",
       "38  Compiling Static Software Metrics for Reliabil...  \n",
       "40  Estimating the Size, Cost, and Types of Techni...  \n",
       "42       Identifying Scalability Debt in Open Systems  "
      ],
      "text/html": "<div>\n<style scoped>\n    .dataframe tbody tr th:only-of-type {\n        vertical-align: middle;\n    }\n\n    .dataframe tbody tr th {\n        vertical-align: top;\n    }\n\n    .dataframe thead th {\n        text-align: right;\n    }\n</style>\n<table border=\"1\" class=\"dataframe\">\n  <thead>\n    <tr style=\"text-align: right;\">\n      <th></th>\n      <th>Paper Id</th>\n      <th>Citation</th>\n      <th>Number of Pages</th>\n      <th>Title</th>\n    </tr>\n  </thead>\n  <tbody>\n    <tr>\n      <th>9</th>\n      <td>14</td>\n      <td>Verdecchia 2018</td>\n      <td>2</td>\n      <td>Identifying Architectural Technical Debt in An...</td>\n    </tr>\n    <tr>\n      <th>10</th>\n      <td>15</td>\n      <td>Zitzweitz et al. 2019</td>\n      <td>2</td>\n      <td>Mitigating Technical and Architectural Debt wi...</td>\n    </tr>\n    <tr>\n      <th>22</th>\n      <td>26</td>\n      <td>Cai and Kazman 2019</td>\n      <td>2</td>\n      <td>DV8: Automated Architecture Analysis Tool Suites</td>\n    </tr>\n    <tr>\n      <th>12</th>\n      <td>17</td>\n      <td>Fontana et al. 2016</td>\n      <td>3</td>\n      <td>Tool support for evaluating architectural debt...</td>\n    </tr>\n    <tr>\n      <th>3</th>\n      <td>4</td>\n      <td>Snipes et al. 2018</td>\n      <td>4</td>\n      <td>A Case Study of the Effects of Architecture De...</td>\n    </tr>\n    <tr>\n      <th>17</th>\n      <td>38</td>\n      <td>Cai and Kazman 2016</td>\n      <td>4</td>\n      <td>Software Architecture Health Monitor</td>\n    </tr>\n    <tr>\n      <th>23</th>\n      <td>28</td>\n      <td>Skiada et al. 2018</td>\n      <td>4</td>\n      <td>Exploring the Relationship between Software Mo...</td>\n    </tr>\n    <tr>\n      <th>25</th>\n      <td>44</td>\n      <td>Fontana et al. 2016</td>\n      <td>4</td>\n      <td>Technical Debt Indexes provided by tools: a pr...</td>\n    </tr>\n    <tr>\n      <th>45</th>\n      <td>97</td>\n      <td>Andrzej Zalewski 2017</td>\n      <td>4</td>\n      <td>Risk Appetite in Architectural Decision-Making</td>\n    </tr>\n    <tr>\n      <th>0</th>\n      <td>1</td>\n      <td>Perez et al. 2019</td>\n      <td>5</td>\n      <td>A Proposed Model-driven Approach to Manage Arc...</td>\n    </tr>\n    <tr>\n      <th>30</th>\n      <td>73</td>\n      <td>Izurieta et al. 2018</td>\n      <td>5</td>\n      <td>A position study to investigate technical debt...</td>\n    </tr>\n    <tr>\n      <th>38</th>\n      <td>78</td>\n      <td>Ludwig and Webber 2017</td>\n      <td>5</td>\n      <td>Compiling Static Software Metrics for Reliabil...</td>\n    </tr>\n    <tr>\n      <th>40</th>\n      <td>82</td>\n      <td>Curtis et al 2012</td>\n      <td>5</td>\n      <td>Estimating the Size, Cost, and Types of Techni...</td>\n    </tr>\n    <tr>\n      <th>42</th>\n      <td>88</td>\n      <td>Hanssen et al 2019</td>\n      <td>5</td>\n      <td>Identifying Scalability Debt in Open Systems</td>\n    </tr>\n  </tbody>\n</table>\n</div>"
     },
     "metadata": {},
     "execution_count": 15
    }
   ],
   "source": [
    "print('Papers size of pages until 5 pages: {}'.format( len(df_papers_until_5_pages.sort_values(by=['Number of Pages'])) ))\n",
    "df_papers_until_5_pages.sort_values(by=['Number of Pages'])"
   ]
  },
  {
   "cell_type": "code",
   "execution_count": 16,
   "metadata": {},
   "outputs": [
    {
     "output_type": "stream",
     "name": "stdout",
     "text": [
      "Papers size of pages > 9 and < 15: 15\n"
     ]
    },
    {
     "output_type": "execute_result",
     "data": {
      "text/plain": [
       "    Paper Id                        Citation  Number of Pages  \\\n",
       "13        21                  Li et al. 2015               10   \n",
       "43        90               Sierra et al 2019               10   \n",
       "7         10             Martini et al. 2016               10   \n",
       "6          9                  Li et al. 2014               10   \n",
       "34        96              Aaramaa et al 2017               10   \n",
       "4          5              Nayebi et al. 2019               10   \n",
       "18        48              Kazman et al. 2015               10   \n",
       "21        33                Nord et al. 2012               10   \n",
       "8         13                Xiao et al. 2016               11   \n",
       "27        51                 Sas et al. 2019               11   \n",
       "31        69  Besker, Martini and Bosch 2017               11   \n",
       "37        77               Bogner et al 2019               11   \n",
       "5          7                Feng et al. 2019               12   \n",
       "26        43    MacComark and Sturteant 2016               13   \n",
       "41        85                Kumar et al 2018               13   \n",
       "\n",
       "                                                Title  \n",
       "13  Architectural Technical Debt Identification ba...  \n",
       "43  Is Self-Admitted Technical Debt a Good Indicat...  \n",
       "7   An Empirically Developed Method to Aid Decisio...  \n",
       "6   An  Empirical Investigation of Modularity Metr...  \n",
       "34  Requirements volatility in software architectu...  \n",
       "4   A Longitudinal Study of Identifying and Paying...  \n",
       "18  A Case Study in Locating the Architectural Roo...  \n",
       "21  In Search of a Metric for Managing Architectur...  \n",
       "8     Identifying and Quantifying Architectural Debt   \n",
       "27  Investigating Instability Architectural Smells...  \n",
       "31  The pricey bill of technical debt: When and by...  \n",
       "37  Assuring the Evolvability of Microservices: In...  \n",
       "5   Active Hotspot: An Issue-Oriented Model to Mon...  \n",
       "26  Technical debt and system architecture: The im...  \n",
       "41  Exploring multilateral cloud computing securit...  "
      ],
      "text/html": "<div>\n<style scoped>\n    .dataframe tbody tr th:only-of-type {\n        vertical-align: middle;\n    }\n\n    .dataframe tbody tr th {\n        vertical-align: top;\n    }\n\n    .dataframe thead th {\n        text-align: right;\n    }\n</style>\n<table border=\"1\" class=\"dataframe\">\n  <thead>\n    <tr style=\"text-align: right;\">\n      <th></th>\n      <th>Paper Id</th>\n      <th>Citation</th>\n      <th>Number of Pages</th>\n      <th>Title</th>\n    </tr>\n  </thead>\n  <tbody>\n    <tr>\n      <th>13</th>\n      <td>21</td>\n      <td>Li et al. 2015</td>\n      <td>10</td>\n      <td>Architectural Technical Debt Identification ba...</td>\n    </tr>\n    <tr>\n      <th>43</th>\n      <td>90</td>\n      <td>Sierra et al 2019</td>\n      <td>10</td>\n      <td>Is Self-Admitted Technical Debt a Good Indicat...</td>\n    </tr>\n    <tr>\n      <th>7</th>\n      <td>10</td>\n      <td>Martini et al. 2016</td>\n      <td>10</td>\n      <td>An Empirically Developed Method to Aid Decisio...</td>\n    </tr>\n    <tr>\n      <th>6</th>\n      <td>9</td>\n      <td>Li et al. 2014</td>\n      <td>10</td>\n      <td>An  Empirical Investigation of Modularity Metr...</td>\n    </tr>\n    <tr>\n      <th>34</th>\n      <td>96</td>\n      <td>Aaramaa et al 2017</td>\n      <td>10</td>\n      <td>Requirements volatility in software architectu...</td>\n    </tr>\n    <tr>\n      <th>4</th>\n      <td>5</td>\n      <td>Nayebi et al. 2019</td>\n      <td>10</td>\n      <td>A Longitudinal Study of Identifying and Paying...</td>\n    </tr>\n    <tr>\n      <th>18</th>\n      <td>48</td>\n      <td>Kazman et al. 2015</td>\n      <td>10</td>\n      <td>A Case Study in Locating the Architectural Roo...</td>\n    </tr>\n    <tr>\n      <th>21</th>\n      <td>33</td>\n      <td>Nord et al. 2012</td>\n      <td>10</td>\n      <td>In Search of a Metric for Managing Architectur...</td>\n    </tr>\n    <tr>\n      <th>8</th>\n      <td>13</td>\n      <td>Xiao et al. 2016</td>\n      <td>11</td>\n      <td>Identifying and Quantifying Architectural Debt</td>\n    </tr>\n    <tr>\n      <th>27</th>\n      <td>51</td>\n      <td>Sas et al. 2019</td>\n      <td>11</td>\n      <td>Investigating Instability Architectural Smells...</td>\n    </tr>\n    <tr>\n      <th>31</th>\n      <td>69</td>\n      <td>Besker, Martini and Bosch 2017</td>\n      <td>11</td>\n      <td>The pricey bill of technical debt: When and by...</td>\n    </tr>\n    <tr>\n      <th>37</th>\n      <td>77</td>\n      <td>Bogner et al 2019</td>\n      <td>11</td>\n      <td>Assuring the Evolvability of Microservices: In...</td>\n    </tr>\n    <tr>\n      <th>5</th>\n      <td>7</td>\n      <td>Feng et al. 2019</td>\n      <td>12</td>\n      <td>Active Hotspot: An Issue-Oriented Model to Mon...</td>\n    </tr>\n    <tr>\n      <th>26</th>\n      <td>43</td>\n      <td>MacComark and Sturteant 2016</td>\n      <td>13</td>\n      <td>Technical debt and system architecture: The im...</td>\n    </tr>\n    <tr>\n      <th>41</th>\n      <td>85</td>\n      <td>Kumar et al 2018</td>\n      <td>13</td>\n      <td>Exploring multilateral cloud computing securit...</td>\n    </tr>\n  </tbody>\n</table>\n</div>"
     },
     "metadata": {},
     "execution_count": 16
    }
   ],
   "source": [
    "mask_aux2 = df_papers_from_6_to_15_pages['Number of Pages'] > 9\n",
    "print('Papers size of pages > 9 and < 15: {}'.format( len(df_papers_from_6_to_15_pages[mask_aux2].sort_values(by=['Number of Pages'])) ))\n",
    "df_papers_from_6_to_15_pages[mask_aux2].sort_values(by=['Number of Pages'])"
   ]
  },
  {
   "cell_type": "code",
   "execution_count": 17,
   "metadata": {},
   "outputs": [
    {
     "output_type": "stream",
     "name": "stdout",
     "text": [
      "Papers size of pages from 16 to 20 pages: 5\n"
     ]
    },
    {
     "output_type": "execute_result",
     "data": {
      "text/plain": [
       "    Paper Id                 Citation  Number of Pages  \\\n",
       "1          2       Martini et al 2017               16   \n",
       "16        30      Martini et al. 2018               16   \n",
       "35        35       Martini et al 2015               17   \n",
       "11        16   Martini and Bosch 2017               18   \n",
       "46        40  Damian A. Tamburri 2019               18   \n",
       "\n",
       "                                                Title  \n",
       "1   A semi-automated framework for the identificat...  \n",
       "16  Identifying and Prioritizing Architectural Deb...  \n",
       "35  Investigating Architectural Technical Debt acc...  \n",
       "11  On the interest of architectural technical deb...  \n",
       "46  Software Architecture Social Debt: Managing th...  "
      ],
      "text/html": "<div>\n<style scoped>\n    .dataframe tbody tr th:only-of-type {\n        vertical-align: middle;\n    }\n\n    .dataframe tbody tr th {\n        vertical-align: top;\n    }\n\n    .dataframe thead th {\n        text-align: right;\n    }\n</style>\n<table border=\"1\" class=\"dataframe\">\n  <thead>\n    <tr style=\"text-align: right;\">\n      <th></th>\n      <th>Paper Id</th>\n      <th>Citation</th>\n      <th>Number of Pages</th>\n      <th>Title</th>\n    </tr>\n  </thead>\n  <tbody>\n    <tr>\n      <th>1</th>\n      <td>2</td>\n      <td>Martini et al 2017</td>\n      <td>16</td>\n      <td>A semi-automated framework for the identificat...</td>\n    </tr>\n    <tr>\n      <th>16</th>\n      <td>30</td>\n      <td>Martini et al. 2018</td>\n      <td>16</td>\n      <td>Identifying and Prioritizing Architectural Deb...</td>\n    </tr>\n    <tr>\n      <th>35</th>\n      <td>35</td>\n      <td>Martini et al 2015</td>\n      <td>17</td>\n      <td>Investigating Architectural Technical Debt acc...</td>\n    </tr>\n    <tr>\n      <th>11</th>\n      <td>16</td>\n      <td>Martini and Bosch 2017</td>\n      <td>18</td>\n      <td>On the interest of architectural technical deb...</td>\n    </tr>\n    <tr>\n      <th>46</th>\n      <td>40</td>\n      <td>Damian A. Tamburri 2019</td>\n      <td>18</td>\n      <td>Software Architecture Social Debt: Managing th...</td>\n    </tr>\n  </tbody>\n</table>\n</div>"
     },
     "metadata": {},
     "execution_count": 17
    }
   ],
   "source": [
    "print('Papers size of pages from 16 to 20 pages: {}'.format( len(df_papers_from_16_to_20_pages)) )\n",
    "df_papers_from_16_to_20_pages"
   ]
  },
  {
   "cell_type": "code",
   "execution_count": 18,
   "metadata": {},
   "outputs": [
    {
     "output_type": "stream",
     "name": "stdout",
     "text": [
      "Papers size of pages from 15 to 20 pages: 2\n"
     ]
    },
    {
     "output_type": "execute_result",
     "data": {
      "text/plain": [
       "    Paper Id                     Citation  Number of Pages  \\\n",
       "36        24               Cai el al 2018               27   \n",
       "29        63  Spinellis and Avgeriou 2019               31   \n",
       "\n",
       "                                                Title  \n",
       "36  Design Rule Spaces: A New Model for Representi...  \n",
       "29  Evolution of the Unix System Architecture: An ...  "
      ],
      "text/html": "<div>\n<style scoped>\n    .dataframe tbody tr th:only-of-type {\n        vertical-align: middle;\n    }\n\n    .dataframe tbody tr th {\n        vertical-align: top;\n    }\n\n    .dataframe thead th {\n        text-align: right;\n    }\n</style>\n<table border=\"1\" class=\"dataframe\">\n  <thead>\n    <tr style=\"text-align: right;\">\n      <th></th>\n      <th>Paper Id</th>\n      <th>Citation</th>\n      <th>Number of Pages</th>\n      <th>Title</th>\n    </tr>\n  </thead>\n  <tbody>\n    <tr>\n      <th>36</th>\n      <td>24</td>\n      <td>Cai el al 2018</td>\n      <td>27</td>\n      <td>Design Rule Spaces: A New Model for Representi...</td>\n    </tr>\n    <tr>\n      <th>29</th>\n      <td>63</td>\n      <td>Spinellis and Avgeriou 2019</td>\n      <td>31</td>\n      <td>Evolution of the Unix System Architecture: An ...</td>\n    </tr>\n  </tbody>\n</table>\n</div>"
     },
     "metadata": {},
     "execution_count": 18
    }
   ],
   "source": [
    "print('Papers size of pages from 15 to 20 pages: {}'.format( len(df_papers_over_20_pages.sort_values(by=['Number of Pages'])) ))\n",
    "df_papers_over_20_pages.sort_values(by=['Number of Pages'])"
   ]
  },
  {
   "cell_type": "code",
   "execution_count": null,
   "metadata": {},
   "outputs": [],
   "source": []
  }
 ]
}