{
 "metadata": {
  "language_info": {
   "codemirror_mode": {
    "name": "ipython",
    "version": 3
   },
   "file_extension": ".py",
   "mimetype": "text/x-python",
   "name": "python",
   "nbconvert_exporter": "python",
   "pygments_lexer": "ipython3",
   "version": "3.6.3-final"
  },
  "orig_nbformat": 2,
  "kernelspec": {
   "name": "python3",
   "display_name": "Python 3.6.3 64-bit",
   "metadata": {
    "interpreter": {
     "hash": "05ece30799c2dcdac4c13b3af20453da19de8df0d9a1de52cff7e0b6e1e82bdd"
    }
   }
  }
 },
 "nbformat": 4,
 "nbformat_minor": 2,
 "cells": [
  {
   "cell_type": "code",
   "execution_count": 1,
   "metadata": {},
   "outputs": [],
   "source": [
    "import os\n",
    "import sys\n",
    "nb_dir = os.path.split(os.getcwd())[0]\n",
    "if nb_dir not in sys.path:\n",
    "    sys.path.append(nb_dir)\n",
    "\n",
    "import pandas as pd\n",
    "import util.utilities as util\n",
    "from collections import Counter"
   ]
  },
  {
   "cell_type": "code",
   "execution_count": 2,
   "metadata": {},
   "outputs": [],
   "source": [
    "df_sms_extraction = util.load_dataset(my_path='../../dataset/Extraction_form_basic.xlsx')\n",
    "df_sms_extraction = util.add_column_sp(df_sms_extraction)\n",
    "\n",
    "# 3.3) Q2 (Measure of ATD)\n",
    "\n",
    "## Papers grouped by Measure\n",
    "\n",
    "dict_q2 = {}\n",
    "for item in zip( list(df_sms_extraction['Paper Id']), list(df_sms_extraction['Q2(Measure)']) ):\n",
    "    id = item[0]\n",
    "    if (item[1] != ''):\n",
    "        q2 = str(item[1])\n",
    "        q2 = ' '.join(q2.split())\n",
    "        dict_q2[id] = q2.lower()"
   ]
  },
  {
   "cell_type": "code",
   "execution_count": 3,
   "metadata": {},
   "outputs": [],
   "source": [
    "## Papers grouped by kind of measurement\n",
    "\n",
    "# 1) RQ2 - measurement of ATD - The measure of ATD is defined as the amount of identified ATD item\n",
    "grouped_by_measurement = [(1, 'amount of software architecture rules violated in documents'), \n",
    "(2, 'amount of complexity measures of files'), \n",
    "(3, 'amount of architecture smells'), \n",
    "(4, 'amount of architectural root'),\n",
    "(5, 'coupling of files and architecture smells'),\n",
    "(7, 'amount of hotspots'),\n",
    "(9, 'modularity metrics'),\n",
    "(10, 'amount of software architecture rules violated in documents and source code'), \n",
    "(13, 'amount of architecture smells'),\n",
    "(14, 'amount of hotspots'),\n",
    "(15, 'amount of software architecture rules violated in source code'),\n",
    "(16, 'amount of contagious debt'),\n",
    "(21, 'amount of software architecture rules violated in documents'),\n",
    "(22, 'index of crisis point'),\n",
    "(27, 'modularity metrics'), \n",
    "(30, 'amount of architecture smells'),\n",
    "(38, 'amount of architectural root and index of Decoupling Level'),\n",
    "(48, 'amount of hotspots'),\n",
    "(20, 'amount of architecture smells'),\n",
    "(33, 'amount of software architecture rules violated in documents and source code'),\n",
    "(28, 'modularity metrics'),\n",
    "(31, 'dependency of components'),\n",
    "(43, 'amount of complexity measures of files'), \n",
    "(51, 'amount of architecture smells'),\n",
    "(52, 'amount of architecture smells'),\n",
    "(63, 'other'),\n",
    "(73, 'amount of software architecture rules violated in documents and source code'),\n",
    "(35, 'index of crisis point'),\n",
    "(24, 'amount of architectural root'),\n",
    "(81, 'amount of software architecture rules violated in source code'),\n",
    "(85, 'amount of software architecture rules violated in source code'),\n",
    "(88, 'amount of software architecture rules violated in source code'),\n",
    "(40, 'amount of software architecture rules violated in documents'),\n",
    "(107, 'amount of architecture smells'),\n",
    " (108, 'other'),\n",
    " (109, 'amount of software architecture rules violated in documents and source code'),\n",
    " (110, 'modularity metrics'),\n",
    " (111, 'amount of software architecture rules violated in source code'),\n",
    " (112, 'amount of complexity measures of files'),\n",
    " (113, 'amount of complexity measures of files'),\n",
    " (114, 'amount of software architecture rules violated in source code'),\n",
    " (115, 'amount of architecture smells'),\n",
    " (116, 'amount of architecture smells')]"
   ]
  },
  {
   "cell_type": "code",
   "execution_count": 4,
   "metadata": {},
   "outputs": [
    {
     "output_type": "stream",
     "name": "stdout",
     "text": [
      "Arquivo ../../latex/mytable_q2_distribution.tex  gerado com sucesso!\n",
      "/Library/Frameworks/Python.framework/Versions/3.6/lib/python3.6/site-packages/pandas/core/indexing.py:190: SettingWithCopyWarning: \n",
      "A value is trying to be set on a copy of a slice from a DataFrame\n",
      "\n",
      "See the caveats in the documentation: http://pandas.pydata.org/pandas-docs/stable/indexing.html#indexing-view-versus-copy\n",
      "  self._setitem_with_indexer(indexer, value)\n"
     ]
    },
    {
     "output_type": "execute_result",
     "data": {
      "text/plain": [
       "               q2  count  \\\n",
       "0        Measured     44   \n",
       "1              No     13   \n",
       "2  Not applicable      0   \n",
       "\n",
       "                                                                                                                                                                                                                                                               sp  \n",
       "0  [SP1, SP2, SP3, SP4, SP5, SP6, SP7, SP8, SP9, SP10, SP11, SP12, SP14, SP15, SP16, SP17, SP18, SP19, SP21, SP22, SP24, SP25, SP27, SP28, SP29, SP30, SP31, SP36, SP37, SP40, SP41, SP42, SP44, SP46, SP48, SP49, SP50, SP51, SP52, SP53, SP54, SP55, SP56, S...  \n",
       "1                                                                                                                                                                                  [SP13, SP20, SP23, SP26, SP32, SP33, SP34, SP35, SP38, SP39, SP43, SP45, SP47]  \n",
       "2                                                                                                                                                                                                                                                              []  "
      ],
      "text/html": "<div>\n<style scoped>\n    .dataframe tbody tr th:only-of-type {\n        vertical-align: middle;\n    }\n\n    .dataframe tbody tr th {\n        vertical-align: top;\n    }\n\n    .dataframe thead th {\n        text-align: right;\n    }\n</style>\n<table border=\"1\" class=\"dataframe\">\n  <thead>\n    <tr style=\"text-align: right;\">\n      <th></th>\n      <th>q2</th>\n      <th>count</th>\n      <th>sp</th>\n    </tr>\n  </thead>\n  <tbody>\n    <tr>\n      <th>0</th>\n      <td>Measured</td>\n      <td>44</td>\n      <td>[SP1, SP2, SP3, SP4, SP5, SP6, SP7, SP8, SP9, SP10, SP11, SP12, SP14, SP15, SP16, SP17, SP18, SP19, SP21, SP22, SP24, SP25, SP27, SP28, SP29, SP30, SP31, SP36, SP37, SP40, SP41, SP42, SP44, SP46, SP48, SP49, SP50, SP51, SP52, SP53, SP54, SP55, SP56, S...</td>\n    </tr>\n    <tr>\n      <th>1</th>\n      <td>No</td>\n      <td>13</td>\n      <td>[SP13, SP20, SP23, SP26, SP32, SP33, SP34, SP35, SP38, SP39, SP43, SP45, SP47]</td>\n    </tr>\n    <tr>\n      <th>2</th>\n      <td>Not applicable</td>\n      <td>0</td>\n      <td>[]</td>\n    </tr>\n  </tbody>\n</table>\n</div>"
     },
     "metadata": {},
     "execution_count": 4
    }
   ],
   "source": [
    "df_distribution_q2 = util.view_question_distribution(my_dict=dict_q2, my_list=['Measured', 'No', 'Not applicable'], my_question='q2')\n",
    "df_distribution_q2['sp'] = None\n",
    "\n",
    "df_distribution_q2 = util.view_question_distribution_update_sp(my_df_distribution=df_distribution_q2, my_df_data=df_sms_extraction, my_feature='Q2(Measure)')\n",
    "\n",
    "util.create_latex_table(my_df=df_distribution_q2, my_path='../../latex', my_file_name='mytable_q2_distribution.tex')\n",
    "\n",
    "df_distribution_q2"
   ]
  },
  {
   "cell_type": "code",
   "execution_count": 5,
   "metadata": {},
   "outputs": [
    {
     "output_type": "stream",
     "name": "stdout",
     "text": [
      "Measured : 0.754 (43 studies)\nNo measured : 0.246 (14 studies)\n"
     ]
    }
   ],
   "source": [
    "print('Measured : {} ({} studies)'.format( round(43/57 , 3), 43 ))\n",
    "print('No measured : {} ({} studies)'.format( round(14/57 , 3), 14 ))"
   ]
  },
  {
   "cell_type": "code",
   "execution_count": 6,
   "metadata": {},
   "outputs": [
    {
     "output_type": "stream",
     "name": "stdout",
     "text": [
      "Arquivo ../../latex/mytable_q2_distribution_detailed.tex  gerado com sucesso!\n"
     ]
    },
    {
     "output_type": "execute_result",
     "data": {
      "text/plain": [
       "                                                                        measure  \\\n",
       "0                                                 amount of architecture smells   \n",
       "1                 amount of software architecture rules violated in source code   \n",
       "2                                        amount of complexity measures of files   \n",
       "3                                                            modularity metrics   \n",
       "4   amount of software architecture rules violated in documents and source code   \n",
       "5                   amount of software architecture rules violated in documents   \n",
       "6                                                            amount of hotspots   \n",
       "7                                                  amount of architectural root   \n",
       "8                                                         index of crisis point   \n",
       "9                                                                         other   \n",
       "10                                    coupling of files and architecture smells   \n",
       "11                                                    amount of contagious debt   \n",
       "12                   amount of architectural root and index of Decoupling Level   \n",
       "13                                                     dependency of components   \n",
       "\n",
       "    count                                                    sp  \n",
       "0       9  [SP3, SP9, SP17, SP21, SP28, SP29, SP48, SP56, SP57]  \n",
       "1       6                  [SP11, SP40, SP41, SP42, SP52, SP55]  \n",
       "2       4                               [SP2, SP27, SP53, SP54]  \n",
       "3       4                               [SP7, SP16, SP24, SP51]  \n",
       "4       4                               [SP8, SP22, SP31, SP50]  \n",
       "5       3                                     [SP1, SP14, SP46]  \n",
       "6       3                                     [SP6, SP10, SP19]  \n",
       "7       2                                           [SP4, SP37]  \n",
       "8       2                                          [SP15, SP36]  \n",
       "9       2                                          [SP30, SP49]  \n",
       "10      1                                                 [SP5]  \n",
       "11      1                                                [SP12]  \n",
       "12      1                                                [SP18]  \n",
       "13      1                                                [SP25]  "
      ],
      "text/html": "<div>\n<style scoped>\n    .dataframe tbody tr th:only-of-type {\n        vertical-align: middle;\n    }\n\n    .dataframe tbody tr th {\n        vertical-align: top;\n    }\n\n    .dataframe thead th {\n        text-align: right;\n    }\n</style>\n<table border=\"1\" class=\"dataframe\">\n  <thead>\n    <tr style=\"text-align: right;\">\n      <th></th>\n      <th>measure</th>\n      <th>count</th>\n      <th>sp</th>\n    </tr>\n  </thead>\n  <tbody>\n    <tr>\n      <th>0</th>\n      <td>amount of architecture smells</td>\n      <td>9</td>\n      <td>[SP3, SP9, SP17, SP21, SP28, SP29, SP48, SP56, SP57]</td>\n    </tr>\n    <tr>\n      <th>1</th>\n      <td>amount of software architecture rules violated in source code</td>\n      <td>6</td>\n      <td>[SP11, SP40, SP41, SP42, SP52, SP55]</td>\n    </tr>\n    <tr>\n      <th>2</th>\n      <td>amount of complexity measures of files</td>\n      <td>4</td>\n      <td>[SP2, SP27, SP53, SP54]</td>\n    </tr>\n    <tr>\n      <th>3</th>\n      <td>modularity metrics</td>\n      <td>4</td>\n      <td>[SP7, SP16, SP24, SP51]</td>\n    </tr>\n    <tr>\n      <th>4</th>\n      <td>amount of software architecture rules violated in documents and source code</td>\n      <td>4</td>\n      <td>[SP8, SP22, SP31, SP50]</td>\n    </tr>\n    <tr>\n      <th>5</th>\n      <td>amount of software architecture rules violated in documents</td>\n      <td>3</td>\n      <td>[SP1, SP14, SP46]</td>\n    </tr>\n    <tr>\n      <th>6</th>\n      <td>amount of hotspots</td>\n      <td>3</td>\n      <td>[SP6, SP10, SP19]</td>\n    </tr>\n    <tr>\n      <th>7</th>\n      <td>amount of architectural root</td>\n      <td>2</td>\n      <td>[SP4, SP37]</td>\n    </tr>\n    <tr>\n      <th>8</th>\n      <td>index of crisis point</td>\n      <td>2</td>\n      <td>[SP15, SP36]</td>\n    </tr>\n    <tr>\n      <th>9</th>\n      <td>other</td>\n      <td>2</td>\n      <td>[SP30, SP49]</td>\n    </tr>\n    <tr>\n      <th>10</th>\n      <td>coupling of files and architecture smells</td>\n      <td>1</td>\n      <td>[SP5]</td>\n    </tr>\n    <tr>\n      <th>11</th>\n      <td>amount of contagious debt</td>\n      <td>1</td>\n      <td>[SP12]</td>\n    </tr>\n    <tr>\n      <th>12</th>\n      <td>amount of architectural root and index of Decoupling Level</td>\n      <td>1</td>\n      <td>[SP18]</td>\n    </tr>\n    <tr>\n      <th>13</th>\n      <td>dependency of components</td>\n      <td>1</td>\n      <td>[SP25]</td>\n    </tr>\n  </tbody>\n</table>\n</div>"
     },
     "metadata": {},
     "execution_count": 6
    }
   ],
   "source": [
    "# 2) Add new column grouped_by_measurement\n",
    "df_sms_extraction['grouped_by_measurement'] = None\n",
    "\n",
    "# 3) Updating df_sms_extraction['grouped_by_measurement']\n",
    "for each in grouped_by_measurement:\n",
    "    j = 0\n",
    "    for item in df_sms_extraction['Paper Id']:\n",
    "        if each[0] == item: \n",
    "            df_sms_extraction['grouped_by_measurement'].iloc[j] = each[1]\n",
    "        j = j + 1\n",
    "\n",
    "# 4) Creating list_by_measurement using count \n",
    "list_by_measurement = []\n",
    "for each in grouped_by_measurement: \n",
    "    list_by_measurement.append(each[1])\n",
    "\n",
    "list_by_measurement = Counter(list_by_measurement).most_common()\n",
    "\n",
    "# 5) Creating DataFrame df_my_measure\n",
    "measure = []\n",
    "count = []\n",
    "for each in list_by_measurement: \n",
    "    measure.append(each[0])\n",
    "    count.append(each[1])\n",
    "my_measure = {'measure': measure, 'count':count}\n",
    "my_measure\n",
    "\n",
    "my_measure_id = list(range(1,len(list_by_measurement)+1))\n",
    "my_measure_id\n",
    "\n",
    "df_my_measure = pd.DataFrame(data=my_measure, index=my_measure_id)\n",
    "df_my_measure.reset_index(drop=True, inplace=True)\n",
    "df_my_measure['sp'] = None\n",
    "\n",
    "# 6) Add new column with Selected Papers according grouped measurement\n",
    "i = 0\n",
    "for each in df_my_measure['measure']:\n",
    "    list_sp_novo = []\n",
    "    j = 0\n",
    "    for item in df_sms_extraction['grouped_by_measurement']:\n",
    "        if each == item: \n",
    "            list_sp_novo.append(df_sms_extraction['sp'].iloc[j])\n",
    "        j = j + 1\n",
    "    df_my_measure['sp'].iloc[i] = list_sp_novo\n",
    "    i = i + 1\n",
    "\n",
    "# 7) Save the latex table \n",
    "util.create_latex_table(my_df=df_my_measure, my_path='../../latex', my_file_name='mytable_q2_distribution_detailed.tex')\n",
    "\n",
    "df_my_measure"
   ]
  },
  {
   "cell_type": "code",
   "execution_count": 7,
   "metadata": {},
   "outputs": [
    {
     "output_type": "stream",
     "name": "stdout",
     "text": [
      "43\n"
     ]
    }
   ],
   "source": [
    "print(df_my_measure['count'].sum())"
   ]
  },
  {
   "cell_type": "code",
   "execution_count": 8,
   "metadata": {},
   "outputs": [
    {
     "output_type": "execute_result",
     "data": {
      "text/plain": [
       "                                                                       measure  \\\n",
       "0                                                amount of architecture smells   \n",
       "1                amount of software architecture rules violated in source code   \n",
       "2                                       amount of complexity measures of files   \n",
       "3                                                           modularity metrics   \n",
       "4  amount of software architecture rules violated in documents and source code   \n",
       "5                  amount of software architecture rules violated in documents   \n",
       "6                                                           amount of hotspots   \n",
       "\n",
       "   count  \n",
       "0      9  \n",
       "1      6  \n",
       "2      4  \n",
       "3      4  \n",
       "4      4  \n",
       "5      3  \n",
       "6      3  "
      ],
      "text/html": "<div>\n<style scoped>\n    .dataframe tbody tr th:only-of-type {\n        vertical-align: middle;\n    }\n\n    .dataframe tbody tr th {\n        vertical-align: top;\n    }\n\n    .dataframe thead th {\n        text-align: right;\n    }\n</style>\n<table border=\"1\" class=\"dataframe\">\n  <thead>\n    <tr style=\"text-align: right;\">\n      <th></th>\n      <th>measure</th>\n      <th>count</th>\n    </tr>\n  </thead>\n  <tbody>\n    <tr>\n      <th>0</th>\n      <td>amount of architecture smells</td>\n      <td>9</td>\n    </tr>\n    <tr>\n      <th>1</th>\n      <td>amount of software architecture rules violated in source code</td>\n      <td>6</td>\n    </tr>\n    <tr>\n      <th>2</th>\n      <td>amount of complexity measures of files</td>\n      <td>4</td>\n    </tr>\n    <tr>\n      <th>3</th>\n      <td>modularity metrics</td>\n      <td>4</td>\n    </tr>\n    <tr>\n      <th>4</th>\n      <td>amount of software architecture rules violated in documents and source code</td>\n      <td>4</td>\n    </tr>\n    <tr>\n      <th>5</th>\n      <td>amount of software architecture rules violated in documents</td>\n      <td>3</td>\n    </tr>\n    <tr>\n      <th>6</th>\n      <td>amount of hotspots</td>\n      <td>3</td>\n    </tr>\n  </tbody>\n</table>\n</div>"
     },
     "metadata": {},
     "execution_count": 8
    }
   ],
   "source": [
    "df_temp = df_my_measure.query('count >= 3')[['measure', 'count']]\n",
    "df_temp"
   ]
  },
  {
   "cell_type": "code",
   "execution_count": 9,
   "metadata": {},
   "outputs": [
    {
     "output_type": "stream",
     "name": "stdout",
     "text": [
      "amount of architecture smells 15.79\\% (9 studies)\namount of software architecture rules violated in source code 10.53\\% (6 studies)\namount of complexity measures of files 7.02\\% (4 studies)\nmodularity metrics 7.02\\% (4 studies)\namount of software architecture rules violated in documents and source code 7.02\\% (4 studies)\namount of software architecture rules violated in documents 5.26\\% (3 studies)\namount of hotspots 5.26\\% (3 studies)\n"
     ]
    }
   ],
   "source": [
    "my_total = 57\n",
    "for each in df_temp.values:\n",
    "    my_measure = each[0]\n",
    "    my_count = each[1]\n",
    "    print('{} {}\\% ({} studies)'.format(my_measure, round(my_count*100/my_total , 2), my_count ))"
   ]
  }
 ]
}