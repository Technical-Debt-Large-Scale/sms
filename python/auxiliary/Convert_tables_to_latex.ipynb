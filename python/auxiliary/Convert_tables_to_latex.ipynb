{
 "cells": [
  {
   "cell_type": "code",
   "execution_count": 33,
   "metadata": {},
   "outputs": [],
   "source": [
    "import os\n",
    "import sys\n",
    "nb_dir = os.path.split(os.getcwd())[0]\n",
    "if nb_dir not in sys.path:\n",
    "    sys.path.append(nb_dir)\n",
    "\n",
    "import pandas as pd\n",
    "import util.utilities as util\n",
    "import matplotlib.pyplot as plt\n",
    "import seaborn as sns\n",
    "from collections import Counter"
   ]
  },
  {
   "cell_type": "code",
   "execution_count": 34,
   "metadata": {},
   "outputs": [],
   "source": [
    "df_sms_extraction = pd.read_excel('../../dataset/Extraction_form_basic.xlsx')"
   ]
  },
  {
   "cell_type": "code",
   "execution_count": 35,
   "metadata": {},
   "outputs": [],
   "source": [
    "def isnan(value):\n",
    "  try:\n",
    "      import math\n",
    "      return math.isnan(float(value))\n",
    "  except:\n",
    "      return False\n",
    "\n",
    "def create_latex_table(my_df, my_path, my_file_name):\n",
    "    file_path = my_path + '/' + my_file_name\n",
    "    try:\n",
    "        with open(file_path,'w') as my_file:\n",
    "            my_file.write(my_df.to_latex(index=False))\n",
    "        print(\"Arquivo \" + file_path + \"  gerado com sucesso!\")\n",
    "    except:\n",
    "        print(\"Erro ao tentar gerar o arquivo latex!\" + file_path)\n",
    "\n",
    "def view_question_distribution(my_dict, my_list, my_question):\n",
    "    list_q_is_nan = []\n",
    "    list_q_is_no = []\n",
    "    list_q_feature = []\n",
    "    for key, value in my_dict.items():\n",
    "        if isnan(value):\n",
    "            list_q_is_nan.append((key, value))\n",
    "        if (value == 'no'):\n",
    "            list_q_is_no.append((key, value))\n",
    "        if ( not isnan(value) and (value != 'no') ):\n",
    "            list_q_feature.append((key, value))\n",
    "\n",
    "    list_of_most_common_q = []\n",
    "    list_of_most_common_q.append(len(list_q_feature))\n",
    "    list_of_most_common_q.append(len(list_q_is_no))\n",
    "    list_of_most_common_q.append(len(list_q_is_nan))\n",
    "\n",
    "    q = my_list\n",
    "    count_q = list_of_most_common_q\n",
    "    my_q = {my_question: q, 'count':count_q}\n",
    "    my_q\n",
    "\n",
    "    my_q_id = list(range(1,len(list_of_most_common_q)+1))\n",
    "    my_q_id\n",
    "\n",
    "    df_my_q = pd.DataFrame(data=my_q, index=my_q_id)\n",
    "    df_my_q.reset_index(drop=True, inplace=True)\n",
    "    return df_my_q"
   ]
  },
  {
   "source": [
    "# Selected papers"
   ],
   "cell_type": "markdown",
   "metadata": {}
  },
  {
   "cell_type": "code",
   "execution_count": 36,
   "metadata": {},
   "outputs": [
    {
     "output_type": "stream",
     "name": "stdout",
     "text": [
      "(SP1, Perez et al. 2019, A Proposed Model-driven Approach to Manage Architectural Technical Debt Life Cycle)\n(SP2, Martini et al 2017, A semi-automated framework for the identification and estimation of Architectural Technical Debt: A comparative case-study on the modularization of a software component)\n(SP3, Roveda et al. 2018, Towards an Architectural Debt Index)\n(SP4, Snipes et al. 2018, A Case Study of the Effects of Architecture Debt on Software Evolution Effort)\n(SP5, Nayebi et al. 2019, A Longitudinal Study of Identifying and Paying Down architecture debt)\n(SP6, Feng et al. 2019, Active Hotspot: An Issue-Oriented Model to Monitor Software Evolution and Degradation)\n(SP7, Li et al. 2014, An Empirical Investigation of Modularity Metrics for Indicating architectural technical debt)\n(SP8, Martini et al. 2016, An Empirically Developed Method to Aid Decisions on Architectural Technical Debt Refactoring: AnaConDebt)\n(SP9, Xiao et al. 2016, Identifying and Quantifying Architectural Debt)\n(SP10, Verdecchia 2018, Identifying Architectural Technical Debt in Android Applications through Automated Compliance Checking)\n(SP11, Zitzweitz et al. 2019, Mitigating Technical and Architectural Debt with Sonargraph Using static analysis to enforce architectural constraints)\n(SP12, Martini and Bosch 2017, On the interest of architectural technical debt: Uncovering the contagious debt phenomenon)\n(SP13, Fontana et al. 2016, Tool support for evaluating architectural debt of an existing system: An experience report)\n(SP14, Li et al. 2015, Architectural Technical Debt Identification based on Architecture Decisions and Change Scenarios)\n(SP15, Martini et al. 2014, Architecture Technical Debt: Understanding Causes and a Qualitative Model)\n(SP16, Martini et al. 2016, Estimating and Quantifying the Benefits of Refactoring to Improve a Component Modularity: a Case Study)\n(SP17, Martini et al. 2018, Identifying and Prioritizing Architectural Debt Through Architectural Smells: A Case Study in a Large Software Company)\n(SP18, Cai and Kazman 2016, Software Architecture Health Monitor)\n(SP19, Kazman et al. 2015, A Case Study in Locating the Architectural Roots of Technical Debt)\n(SP20, Martini and Bosch 2015, Towards Prioritizing Architecture Technical Debt: Information Needs of Architects and Product Owners)\n(SP21, Tommasel 2019, Applying Social Network Analysis Techniques to Architectural Smell Prediction)\n(SP22, Nord et al. 2012, In Search of a Metric for Managing Architectural Technical Debt)\n(SP23, Cai and Kazman 2019, DV8: Automated Architecture Analysis Tool Suites)\n(SP24, Skiada et al. 2018, Exploring the Relationship between Software Modularity and Technical Debt)\n(SP25, Eliasson et al. 2015, Identifying and Visualizing Architectural Debt and Its Efficiency Interest in the Automotive Domain: A Case Study)\n(SP26, Fontana et al. 2016, Technical Debt Indexes provided by tools: a preliminary discussion)\n(SP27, MacComark and Sturteant 2016, Technical debt and system architecture: The impact of coupling on defect-related activity)\n(SP28, Sas et al. 2019, Investigating Instability Architectural Smells Evolution: An Exploratory Case Study)\n(SP29, Fontana et al. 2019, PageRank and criticality of architectural smells)\n(SP30, Spinellis and Avgeriou 2019, Evolution of the Unix System Architecture: An Exploratory Case Study)\n(SP31, Izurieta et al. 2018, A position study to investigate technical debt associated with security weaknesses)\n(SP32, Besker, Martini and Bosch 2017, The pricey bill of technical debt: When and by whom will it be paid?)\n(SP33, Ampatzoglou et al 2016, The Perception of Technical Debt in the Embedded Systems Domain: An Industrial Case Study)\n(SP34, Martini, Besker and Bosch 2016, The Introduction of Technical Debt Tracking in Large Companies)\n(SP35, Aaramaa et al 2017, Requirements volatility in software architecture design: An exploratory case study)\n(SP36, Martini et al 2015, Investigating Architectural Technical Debt accumulation and refactoring over time: A multiple-case study)\n(SP37, Cai el al 2018, Design Rule Spaces: A New Model for Representing and Analyzing Software Architecture)\n(SP38, Bogner et al 2019, Assuring the Evolvability of Microservices: Insights into Industry Practices and Challenges)\n(SP39, Ludwig and Webber 2017, Compiling Static Software Metrics for Reliability and Maintainability from GitHub Repositories)\n(SP40, Curtis et al 2012, Estimating the principal of an applications technical debt)\n(SP41, Kumar et al 2018, Exploring multilateral cloud computing security architectural design debt in terms of technical debt)\n(SP42, Hanssen et al 2019, Identifying Scalability Debt in Open Systems)\n(SP43, Sierra et al 2019, Is Self-Admitted Technical Debt a Good Indicator of Architectural Divergences?)\n(SP44, Bogner et al 2018, Limiting technical debt with maintainability assurance: an industry survey on used techniques and differences with service and microservice-based systems)\n(SP45, Andrzej Zalewski 2017, Risk Appetite in Architectural Decision-Making)\n(SP46, Damian A. Tamburri 2019, Software Architecture Social Debt: Managing the Incommunicability Factor)\n"
     ]
    }
   ],
   "source": [
    "list_sp, list_citation, list_title = ([], [], [])\n",
    "id = 1\n",
    "for item in zip(list(df_sms_extraction['Citation']), list(df_sms_extraction['Title'])):\n",
    "    citation = item[0]\n",
    "    list_citation.append(citation)\n",
    "    title = ' '.join(item[1].split())\n",
    "    list_title.append(title)\n",
    "    sp = 'SP' + str(id)\n",
    "    list_sp.append(sp)\n",
    "    print('({}, {}, {})'.format(sp, citation, title))\n",
    "    id = id + 1"
   ]
  },
  {
   "cell_type": "code",
   "execution_count": 37,
   "metadata": {},
   "outputs": [
    {
     "output_type": "execute_result",
     "data": {
      "text/plain": [
       "      SP                        Citation  \\\n",
       "0    SP1               Perez et al. 2019   \n",
       "1    SP2              Martini et al 2017   \n",
       "2    SP3              Roveda et al. 2018   \n",
       "3    SP4              Snipes et al. 2018   \n",
       "4    SP5              Nayebi et al. 2019   \n",
       "5    SP6                Feng et al. 2019   \n",
       "6    SP7                  Li et al. 2014   \n",
       "7    SP8             Martini et al. 2016   \n",
       "8    SP9                Xiao et al. 2016   \n",
       "9   SP10                 Verdecchia 2018   \n",
       "10  SP11           Zitzweitz et al. 2019   \n",
       "11  SP12          Martini and Bosch 2017   \n",
       "12  SP13             Fontana et al. 2016   \n",
       "13  SP14                  Li et al. 2015   \n",
       "14  SP15             Martini et al. 2014   \n",
       "15  SP16             Martini et al. 2016   \n",
       "16  SP17             Martini et al. 2018   \n",
       "17  SP18             Cai and Kazman 2016   \n",
       "18  SP19              Kazman et al. 2015   \n",
       "19  SP20          Martini and Bosch 2015   \n",
       "20  SP21                   Tommasel 2019   \n",
       "21  SP22                Nord et al. 2012   \n",
       "22  SP23             Cai and Kazman 2019   \n",
       "23  SP24              Skiada et al. 2018   \n",
       "24  SP25            Eliasson et al. 2015   \n",
       "25  SP26             Fontana et al. 2016   \n",
       "26  SP27    MacComark and Sturteant 2016   \n",
       "27  SP28                 Sas et al. 2019   \n",
       "28  SP29             Fontana et al. 2019   \n",
       "29  SP30     Spinellis and Avgeriou 2019   \n",
       "30  SP31            Izurieta et al. 2018   \n",
       "31  SP32  Besker, Martini and Bosch 2017   \n",
       "32  SP33          Ampatzoglou et al 2016   \n",
       "33  SP34  Martini, Besker and Bosch 2016   \n",
       "34  SP35              Aaramaa et al 2017   \n",
       "35  SP36              Martini et al 2015   \n",
       "36  SP37                  Cai el al 2018   \n",
       "37  SP38               Bogner et al 2019   \n",
       "38  SP39          Ludwig and Webber 2017   \n",
       "39  SP40               Curtis et al 2012   \n",
       "40  SP41                Kumar et al 2018   \n",
       "41  SP42              Hanssen et al 2019   \n",
       "42  SP43               Sierra et al 2019   \n",
       "43  SP44               Bogner et al 2018   \n",
       "44  SP45           Andrzej Zalewski 2017   \n",
       "45  SP46         Damian A. Tamburri 2019   \n",
       "\n",
       "                                                Title  \n",
       "0   A Proposed Model-driven Approach to Manage Arc...  \n",
       "1   A semi-automated framework for the identificat...  \n",
       "2                 Towards an Architectural Debt Index  \n",
       "3   A Case Study of the Effects of Architecture De...  \n",
       "4   A Longitudinal Study of Identifying and Paying...  \n",
       "5   Active Hotspot: An Issue-Oriented Model to Mon...  \n",
       "6   An Empirical Investigation of Modularity Metri...  \n",
       "7   An Empirically Developed Method to Aid Decisio...  \n",
       "8      Identifying and Quantifying Architectural Debt  \n",
       "9   Identifying Architectural Technical Debt in An...  \n",
       "10  Mitigating Technical and Architectural Debt wi...  \n",
       "11  On the interest of architectural technical deb...  \n",
       "12  Tool support for evaluating architectural debt...  \n",
       "13  Architectural Technical Debt Identification ba...  \n",
       "14  Architecture Technical Debt: Understanding Cau...  \n",
       "15  Estimating and Quantifying the Benefits of Ref...  \n",
       "16  Identifying and Prioritizing Architectural Deb...  \n",
       "17               Software Architecture Health Monitor  \n",
       "18  A Case Study in Locating the Architectural Roo...  \n",
       "19  Towards Prioritizing Architecture Technical De...  \n",
       "20  Applying Social Network Analysis Techniques to...  \n",
       "21  In Search of a Metric for Managing Architectur...  \n",
       "22   DV8: Automated Architecture Analysis Tool Suites  \n",
       "23  Exploring the Relationship between Software Mo...  \n",
       "24  Identifying and Visualizing Architectural Debt...  \n",
       "25  Technical Debt Indexes provided by tools: a pr...  \n",
       "26  Technical debt and system architecture: The im...  \n",
       "27  Investigating Instability Architectural Smells...  \n",
       "28   PageRank and criticality of architectural smells  \n",
       "29  Evolution of the Unix System Architecture: An ...  \n",
       "30  A position study to investigate technical debt...  \n",
       "31  The pricey bill of technical debt: When and by...  \n",
       "32  The Perception of Technical Debt in the Embedd...  \n",
       "33  The Introduction of Technical Debt Tracking in...  \n",
       "34  Requirements volatility in software architectu...  \n",
       "35  Investigating Architectural Technical Debt acc...  \n",
       "36  Design Rule Spaces: A New Model for Representi...  \n",
       "37  Assuring the Evolvability of Microservices: In...  \n",
       "38  Compiling Static Software Metrics for Reliabil...  \n",
       "39  Estimating the principal of an applications te...  \n",
       "40  Exploring multilateral cloud computing securit...  \n",
       "41       Identifying Scalability Debt in Open Systems  \n",
       "42  Is Self-Admitted Technical Debt a Good Indicat...  \n",
       "43  Limiting technical debt with maintainability a...  \n",
       "44     Risk Appetite in Architectural Decision-Making  \n",
       "45  Software Architecture Social Debt: Managing th...  "
      ],
      "text/html": "<div>\n<style scoped>\n    .dataframe tbody tr th:only-of-type {\n        vertical-align: middle;\n    }\n\n    .dataframe tbody tr th {\n        vertical-align: top;\n    }\n\n    .dataframe thead th {\n        text-align: right;\n    }\n</style>\n<table border=\"1\" class=\"dataframe\">\n  <thead>\n    <tr style=\"text-align: right;\">\n      <th></th>\n      <th>SP</th>\n      <th>Citation</th>\n      <th>Title</th>\n    </tr>\n  </thead>\n  <tbody>\n    <tr>\n      <th>0</th>\n      <td>SP1</td>\n      <td>Perez et al. 2019</td>\n      <td>A Proposed Model-driven Approach to Manage Arc...</td>\n    </tr>\n    <tr>\n      <th>1</th>\n      <td>SP2</td>\n      <td>Martini et al 2017</td>\n      <td>A semi-automated framework for the identificat...</td>\n    </tr>\n    <tr>\n      <th>2</th>\n      <td>SP3</td>\n      <td>Roveda et al. 2018</td>\n      <td>Towards an Architectural Debt Index</td>\n    </tr>\n    <tr>\n      <th>3</th>\n      <td>SP4</td>\n      <td>Snipes et al. 2018</td>\n      <td>A Case Study of the Effects of Architecture De...</td>\n    </tr>\n    <tr>\n      <th>4</th>\n      <td>SP5</td>\n      <td>Nayebi et al. 2019</td>\n      <td>A Longitudinal Study of Identifying and Paying...</td>\n    </tr>\n    <tr>\n      <th>5</th>\n      <td>SP6</td>\n      <td>Feng et al. 2019</td>\n      <td>Active Hotspot: An Issue-Oriented Model to Mon...</td>\n    </tr>\n    <tr>\n      <th>6</th>\n      <td>SP7</td>\n      <td>Li et al. 2014</td>\n      <td>An Empirical Investigation of Modularity Metri...</td>\n    </tr>\n    <tr>\n      <th>7</th>\n      <td>SP8</td>\n      <td>Martini et al. 2016</td>\n      <td>An Empirically Developed Method to Aid Decisio...</td>\n    </tr>\n    <tr>\n      <th>8</th>\n      <td>SP9</td>\n      <td>Xiao et al. 2016</td>\n      <td>Identifying and Quantifying Architectural Debt</td>\n    </tr>\n    <tr>\n      <th>9</th>\n      <td>SP10</td>\n      <td>Verdecchia 2018</td>\n      <td>Identifying Architectural Technical Debt in An...</td>\n    </tr>\n    <tr>\n      <th>10</th>\n      <td>SP11</td>\n      <td>Zitzweitz et al. 2019</td>\n      <td>Mitigating Technical and Architectural Debt wi...</td>\n    </tr>\n    <tr>\n      <th>11</th>\n      <td>SP12</td>\n      <td>Martini and Bosch 2017</td>\n      <td>On the interest of architectural technical deb...</td>\n    </tr>\n    <tr>\n      <th>12</th>\n      <td>SP13</td>\n      <td>Fontana et al. 2016</td>\n      <td>Tool support for evaluating architectural debt...</td>\n    </tr>\n    <tr>\n      <th>13</th>\n      <td>SP14</td>\n      <td>Li et al. 2015</td>\n      <td>Architectural Technical Debt Identification ba...</td>\n    </tr>\n    <tr>\n      <th>14</th>\n      <td>SP15</td>\n      <td>Martini et al. 2014</td>\n      <td>Architecture Technical Debt: Understanding Cau...</td>\n    </tr>\n    <tr>\n      <th>15</th>\n      <td>SP16</td>\n      <td>Martini et al. 2016</td>\n      <td>Estimating and Quantifying the Benefits of Ref...</td>\n    </tr>\n    <tr>\n      <th>16</th>\n      <td>SP17</td>\n      <td>Martini et al. 2018</td>\n      <td>Identifying and Prioritizing Architectural Deb...</td>\n    </tr>\n    <tr>\n      <th>17</th>\n      <td>SP18</td>\n      <td>Cai and Kazman 2016</td>\n      <td>Software Architecture Health Monitor</td>\n    </tr>\n    <tr>\n      <th>18</th>\n      <td>SP19</td>\n      <td>Kazman et al. 2015</td>\n      <td>A Case Study in Locating the Architectural Roo...</td>\n    </tr>\n    <tr>\n      <th>19</th>\n      <td>SP20</td>\n      <td>Martini and Bosch 2015</td>\n      <td>Towards Prioritizing Architecture Technical De...</td>\n    </tr>\n    <tr>\n      <th>20</th>\n      <td>SP21</td>\n      <td>Tommasel 2019</td>\n      <td>Applying Social Network Analysis Techniques to...</td>\n    </tr>\n    <tr>\n      <th>21</th>\n      <td>SP22</td>\n      <td>Nord et al. 2012</td>\n      <td>In Search of a Metric for Managing Architectur...</td>\n    </tr>\n    <tr>\n      <th>22</th>\n      <td>SP23</td>\n      <td>Cai and Kazman 2019</td>\n      <td>DV8: Automated Architecture Analysis Tool Suites</td>\n    </tr>\n    <tr>\n      <th>23</th>\n      <td>SP24</td>\n      <td>Skiada et al. 2018</td>\n      <td>Exploring the Relationship between Software Mo...</td>\n    </tr>\n    <tr>\n      <th>24</th>\n      <td>SP25</td>\n      <td>Eliasson et al. 2015</td>\n      <td>Identifying and Visualizing Architectural Debt...</td>\n    </tr>\n    <tr>\n      <th>25</th>\n      <td>SP26</td>\n      <td>Fontana et al. 2016</td>\n      <td>Technical Debt Indexes provided by tools: a pr...</td>\n    </tr>\n    <tr>\n      <th>26</th>\n      <td>SP27</td>\n      <td>MacComark and Sturteant 2016</td>\n      <td>Technical debt and system architecture: The im...</td>\n    </tr>\n    <tr>\n      <th>27</th>\n      <td>SP28</td>\n      <td>Sas et al. 2019</td>\n      <td>Investigating Instability Architectural Smells...</td>\n    </tr>\n    <tr>\n      <th>28</th>\n      <td>SP29</td>\n      <td>Fontana et al. 2019</td>\n      <td>PageRank and criticality of architectural smells</td>\n    </tr>\n    <tr>\n      <th>29</th>\n      <td>SP30</td>\n      <td>Spinellis and Avgeriou 2019</td>\n      <td>Evolution of the Unix System Architecture: An ...</td>\n    </tr>\n    <tr>\n      <th>30</th>\n      <td>SP31</td>\n      <td>Izurieta et al. 2018</td>\n      <td>A position study to investigate technical debt...</td>\n    </tr>\n    <tr>\n      <th>31</th>\n      <td>SP32</td>\n      <td>Besker, Martini and Bosch 2017</td>\n      <td>The pricey bill of technical debt: When and by...</td>\n    </tr>\n    <tr>\n      <th>32</th>\n      <td>SP33</td>\n      <td>Ampatzoglou et al 2016</td>\n      <td>The Perception of Technical Debt in the Embedd...</td>\n    </tr>\n    <tr>\n      <th>33</th>\n      <td>SP34</td>\n      <td>Martini, Besker and Bosch 2016</td>\n      <td>The Introduction of Technical Debt Tracking in...</td>\n    </tr>\n    <tr>\n      <th>34</th>\n      <td>SP35</td>\n      <td>Aaramaa et al 2017</td>\n      <td>Requirements volatility in software architectu...</td>\n    </tr>\n    <tr>\n      <th>35</th>\n      <td>SP36</td>\n      <td>Martini et al 2015</td>\n      <td>Investigating Architectural Technical Debt acc...</td>\n    </tr>\n    <tr>\n      <th>36</th>\n      <td>SP37</td>\n      <td>Cai el al 2018</td>\n      <td>Design Rule Spaces: A New Model for Representi...</td>\n    </tr>\n    <tr>\n      <th>37</th>\n      <td>SP38</td>\n      <td>Bogner et al 2019</td>\n      <td>Assuring the Evolvability of Microservices: In...</td>\n    </tr>\n    <tr>\n      <th>38</th>\n      <td>SP39</td>\n      <td>Ludwig and Webber 2017</td>\n      <td>Compiling Static Software Metrics for Reliabil...</td>\n    </tr>\n    <tr>\n      <th>39</th>\n      <td>SP40</td>\n      <td>Curtis et al 2012</td>\n      <td>Estimating the principal of an applications te...</td>\n    </tr>\n    <tr>\n      <th>40</th>\n      <td>SP41</td>\n      <td>Kumar et al 2018</td>\n      <td>Exploring multilateral cloud computing securit...</td>\n    </tr>\n    <tr>\n      <th>41</th>\n      <td>SP42</td>\n      <td>Hanssen et al 2019</td>\n      <td>Identifying Scalability Debt in Open Systems</td>\n    </tr>\n    <tr>\n      <th>42</th>\n      <td>SP43</td>\n      <td>Sierra et al 2019</td>\n      <td>Is Self-Admitted Technical Debt a Good Indicat...</td>\n    </tr>\n    <tr>\n      <th>43</th>\n      <td>SP44</td>\n      <td>Bogner et al 2018</td>\n      <td>Limiting technical debt with maintainability a...</td>\n    </tr>\n    <tr>\n      <th>44</th>\n      <td>SP45</td>\n      <td>Andrzej Zalewski 2017</td>\n      <td>Risk Appetite in Architectural Decision-Making</td>\n    </tr>\n    <tr>\n      <th>45</th>\n      <td>SP46</td>\n      <td>Damian A. Tamburri 2019</td>\n      <td>Software Architecture Social Debt: Managing th...</td>\n    </tr>\n  </tbody>\n</table>\n</div>"
     },
     "metadata": {},
     "execution_count": 37
    }
   ],
   "source": [
    "my_data_papers = {\n",
    "    'SP' : list_sp, \n",
    "    'Citation' : list_citation, \n",
    "    'Title' : list_title\n",
    "}\n",
    "df_my_data_papers = pd.DataFrame(data=my_data_papers)\n",
    "df_my_data_papers"
   ]
  },
  {
   "cell_type": "code",
   "execution_count": 38,
   "metadata": {},
   "outputs": [
    {
     "output_type": "stream",
     "name": "stdout",
     "text": [
      "Arquivo ../../latex/mytable_papers.tex  gerado com sucesso!\n"
     ]
    }
   ],
   "source": [
    "create_latex_table(my_df=df_my_data_papers, my_path='../../latex', my_file_name='mytable_papers.tex')"
   ]
  },
  {
   "source": [
    "# Extraction form"
   ],
   "cell_type": "markdown",
   "metadata": {}
  },
  {
   "cell_type": "code",
   "execution_count": 117,
   "metadata": {},
   "outputs": [
    {
     "output_type": "execute_result",
     "data": {
      "text/plain": [
       "[1, 2, 3, 4, 5, 6, 7, 8, 9, 10, 11, 12, 13, 14, 15]"
      ]
     },
     "metadata": {},
     "execution_count": 117
    }
   ],
   "source": [
    "my_data_extraction_form = {\n",
    "    'Variável' : ['DC1', 'DC2', 'DC3', 'DC4', 'DC5', 'DC6', 'DC7', 'DC8', \n",
    "                  'DC9', 'DC10', 'DC11', 'DC12', 'DC13', 'DC14', 'DC15'], \n",
    "    'Informação Coletada' : ['Id do Artigo' , 'Autores', 'Título', 'Ano da Publicação', 'Abstract',\n",
    "                             'Local', 'Área do evento', 'Key words', 'Objetivo do artigo', \n",
    "                             'Técnicas, Abordagens, Métodos e ferramentas', 'Tipo de pesquisa', 'Q1', 'Q2', 'Q3', 'Q4'], \n",
    "    'Propósito' : ['Id único do artigo' , 'Autor principal e colegas', 'Título do Artigo', 'Ano da Publicação do Artigo',\n",
    "                   'Abstract do Artigo', \n",
    "                   'Local onde o artigo foi apresentado/pulicado', 'Área principal do artigo', 'Palavras chaves do artigo',\n",
    "                   'Descrição sumária do objetivo do artigo', 'Quais foram as técnicas, abordagens, métodos e ferramentas usadas no artigo'\n",
    "                   , 'A pesquisa descrita no artigo pode ser do tipo: Conceitual ou Empírica', \n",
    "                  'O artigo contempla a q1? (SIM/NÃO)' , \n",
    "                   'O artigo contempla a q2? (SIM/NÃO)',\n",
    "                   'O artigo contempla a q3? (SIM/NÃO)',\n",
    "                   'O artigo contempla a q4? (SIM/NÃO)'], \n",
    "}\n",
    "\n",
    "check_my_dictionary = len(my_data_extraction_form['Variável'])\n",
    "if (len(my_data_extraction_form['Variável']) == len(my_data_extraction_form['Informação Coletada']) and \n",
    "   len(my_data_extraction_form['Variável']) == len(my_data_extraction_form['Propósito'])): \n",
    "    my_data_extraction_form_id = list(range(1,len(my_data_extraction_form['Variável'])+1))\n",
    "else:\n",
    "    check_my_dictionary = -1\n",
    "\n",
    "my_data_extraction_form_id"
   ]
  },
  {
   "cell_type": "code",
   "execution_count": 118,
   "metadata": {},
   "outputs": [
    {
     "output_type": "execute_result",
     "data": {
      "text/plain": [
       "   Variável                          Informação Coletada  \\\n",
       "0       DC1                                 Id do Artigo   \n",
       "1       DC2                                      Autores   \n",
       "2       DC3                                       Título   \n",
       "3       DC4                            Ano da Publicação   \n",
       "4       DC5                                     Abstract   \n",
       "5       DC6                                        Local   \n",
       "6       DC7                               Área do evento   \n",
       "7       DC8                                    Key words   \n",
       "8       DC9                           Objetivo do artigo   \n",
       "9      DC10  Técnicas, Abordagens, Métodos e ferramentas   \n",
       "10     DC11                             Tipo de pesquisa   \n",
       "11     DC12                                           Q1   \n",
       "12     DC13                                           Q2   \n",
       "13     DC14                                           Q3   \n",
       "14     DC15                                           Q4   \n",
       "\n",
       "                                            Propósito  \n",
       "0                                  Id único do artigo  \n",
       "1                           Autor principal e colegas  \n",
       "2                                    Título do Artigo  \n",
       "3                         Ano da Publicação do Artigo  \n",
       "4                                  Abstract do Artigo  \n",
       "5        Local onde o artigo foi apresentado/pulicado  \n",
       "6                            Área principal do artigo  \n",
       "7                           Palavras chaves do artigo  \n",
       "8             Descrição sumária do objetivo do artigo  \n",
       "9   Quais foram as técnicas, abordagens, métodos e...  \n",
       "10  A pesquisa descrita no artigo pode ser do tipo...  \n",
       "11                 O artigo contempla a q1? (SIM/NÃO)  \n",
       "12                 O artigo contempla a q2? (SIM/NÃO)  \n",
       "13                 O artigo contempla a q3? (SIM/NÃO)  \n",
       "14                 O artigo contempla a q4? (SIM/NÃO)  "
      ],
      "text/html": "<div>\n<style scoped>\n    .dataframe tbody tr th:only-of-type {\n        vertical-align: middle;\n    }\n\n    .dataframe tbody tr th {\n        vertical-align: top;\n    }\n\n    .dataframe thead th {\n        text-align: right;\n    }\n</style>\n<table border=\"1\" class=\"dataframe\">\n  <thead>\n    <tr style=\"text-align: right;\">\n      <th></th>\n      <th>Variável</th>\n      <th>Informação Coletada</th>\n      <th>Propósito</th>\n    </tr>\n  </thead>\n  <tbody>\n    <tr>\n      <th>0</th>\n      <td>DC1</td>\n      <td>Id do Artigo</td>\n      <td>Id único do artigo</td>\n    </tr>\n    <tr>\n      <th>1</th>\n      <td>DC2</td>\n      <td>Autores</td>\n      <td>Autor principal e colegas</td>\n    </tr>\n    <tr>\n      <th>2</th>\n      <td>DC3</td>\n      <td>Título</td>\n      <td>Título do Artigo</td>\n    </tr>\n    <tr>\n      <th>3</th>\n      <td>DC4</td>\n      <td>Ano da Publicação</td>\n      <td>Ano da Publicação do Artigo</td>\n    </tr>\n    <tr>\n      <th>4</th>\n      <td>DC5</td>\n      <td>Abstract</td>\n      <td>Abstract do Artigo</td>\n    </tr>\n    <tr>\n      <th>5</th>\n      <td>DC6</td>\n      <td>Local</td>\n      <td>Local onde o artigo foi apresentado/pulicado</td>\n    </tr>\n    <tr>\n      <th>6</th>\n      <td>DC7</td>\n      <td>Área do evento</td>\n      <td>Área principal do artigo</td>\n    </tr>\n    <tr>\n      <th>7</th>\n      <td>DC8</td>\n      <td>Key words</td>\n      <td>Palavras chaves do artigo</td>\n    </tr>\n    <tr>\n      <th>8</th>\n      <td>DC9</td>\n      <td>Objetivo do artigo</td>\n      <td>Descrição sumária do objetivo do artigo</td>\n    </tr>\n    <tr>\n      <th>9</th>\n      <td>DC10</td>\n      <td>Técnicas, Abordagens, Métodos e ferramentas</td>\n      <td>Quais foram as técnicas, abordagens, métodos e...</td>\n    </tr>\n    <tr>\n      <th>10</th>\n      <td>DC11</td>\n      <td>Tipo de pesquisa</td>\n      <td>A pesquisa descrita no artigo pode ser do tipo...</td>\n    </tr>\n    <tr>\n      <th>11</th>\n      <td>DC12</td>\n      <td>Q1</td>\n      <td>O artigo contempla a q1? (SIM/NÃO)</td>\n    </tr>\n    <tr>\n      <th>12</th>\n      <td>DC13</td>\n      <td>Q2</td>\n      <td>O artigo contempla a q2? (SIM/NÃO)</td>\n    </tr>\n    <tr>\n      <th>13</th>\n      <td>DC14</td>\n      <td>Q3</td>\n      <td>O artigo contempla a q3? (SIM/NÃO)</td>\n    </tr>\n    <tr>\n      <th>14</th>\n      <td>DC15</td>\n      <td>Q4</td>\n      <td>O artigo contempla a q4? (SIM/NÃO)</td>\n    </tr>\n  </tbody>\n</table>\n</div>"
     },
     "metadata": {},
     "execution_count": 118
    }
   ],
   "source": [
    "if (check_my_dictionary > 0):\n",
    "    df_my_data_extraction_form = pd.DataFrame(data=my_data_extraction_form, index=my_data_extraction_form_id)\n",
    "    df_my_data_extraction_form.reset_index(drop=True, inplace=True)\n",
    "else:\n",
    "    print(\"Erro ao tentar criar o dataframe\")\n",
    "\n",
    "df_my_data_extraction_form"
   ]
  },
  {
   "cell_type": "code",
   "execution_count": 119,
   "metadata": {},
   "outputs": [
    {
     "output_type": "stream",
     "name": "stdout",
     "text": [
      "Erro ao tentar gerar o arquivo latex!\n"
     ]
    }
   ],
   "source": [
    "try:\n",
    "    with open('../../latex/mytable_extract_data.tex','w') as tf:\n",
    "        tf.write(df_my_data_extraction_form.to_latex(index=False))\n",
    "    print(\"Arquivo ../../latex/mytable_extract_data.tex gerado com sucesso!\")\n",
    "except:\n",
    "    print(\"Erro ao tentar gerar o arquivo latex!\")\n",
    "#create_latex_table(my_df=df_my_data_extraction_form, my_path='../../latex', my_file_name='mytable_extract_data.tex')    "
   ]
  },
  {
   "cell_type": "code",
   "execution_count": 46,
   "metadata": {},
   "outputs": [
    {
     "output_type": "execute_result",
     "data": {
      "text/plain": [
       "   Variable    Data collected  \\\n",
       "0       DC1          Paper id   \n",
       "1       DC2           Authors   \n",
       "2       DC3             Title   \n",
       "3       DC4  Publication Year   \n",
       "4       DC5          Abstract   \n",
       "5       DC6             Venue   \n",
       "6       DC7    Field of Venue   \n",
       "7       DC8         Key words   \n",
       "8       DC9   Paper main goal   \n",
       "9      DC10     Research Type   \n",
       "10     DC11               RQ1   \n",
       "11     DC12               RQ2   \n",
       "12     DC13               RQ3   \n",
       "13     DC14               RQ4   \n",
       "14     DC15               RQ5   \n",
       "15     DC16               RQ6   \n",
       "16     DC17               RQ7   \n",
       "\n",
       "                                                 Goal  \n",
       "0                                     Unique id paper  \n",
       "1                            Main author and colegues  \n",
       "2                                      Title of paper  \n",
       "3                           Year of Paper Publication  \n",
       "4                                      Paper Abstract  \n",
       "5     Venue the the paper was presented or publishide  \n",
       "6                                 Main field of paper  \n",
       "7                                     Paper key words  \n",
       "8                   Summary of main idea of the paper  \n",
       "9   Research type: Evaluation, Validation, Solutio...  \n",
       "10                           What is the type of ATD?  \n",
       "11                            How to measure the ATD?  \n",
       "12           How to monitor ATD in Software projects?  \n",
       "13  What are the techniques and tools are used to ...  \n",
       "14                              How to calculate ATD?  \n",
       "15                      How atd is management of ATD?  \n",
       "16                What kind of Research Type is used?  "
      ],
      "text/html": "<div>\n<style scoped>\n    .dataframe tbody tr th:only-of-type {\n        vertical-align: middle;\n    }\n\n    .dataframe tbody tr th {\n        vertical-align: top;\n    }\n\n    .dataframe thead th {\n        text-align: right;\n    }\n</style>\n<table border=\"1\" class=\"dataframe\">\n  <thead>\n    <tr style=\"text-align: right;\">\n      <th></th>\n      <th>Variable</th>\n      <th>Data collected</th>\n      <th>Goal</th>\n    </tr>\n  </thead>\n  <tbody>\n    <tr>\n      <th>0</th>\n      <td>DC1</td>\n      <td>Paper id</td>\n      <td>Unique id paper</td>\n    </tr>\n    <tr>\n      <th>1</th>\n      <td>DC2</td>\n      <td>Authors</td>\n      <td>Main author and colegues</td>\n    </tr>\n    <tr>\n      <th>2</th>\n      <td>DC3</td>\n      <td>Title</td>\n      <td>Title of paper</td>\n    </tr>\n    <tr>\n      <th>3</th>\n      <td>DC4</td>\n      <td>Publication Year</td>\n      <td>Year of Paper Publication</td>\n    </tr>\n    <tr>\n      <th>4</th>\n      <td>DC5</td>\n      <td>Abstract</td>\n      <td>Paper Abstract</td>\n    </tr>\n    <tr>\n      <th>5</th>\n      <td>DC6</td>\n      <td>Venue</td>\n      <td>Venue the the paper was presented or publishide</td>\n    </tr>\n    <tr>\n      <th>6</th>\n      <td>DC7</td>\n      <td>Field of Venue</td>\n      <td>Main field of paper</td>\n    </tr>\n    <tr>\n      <th>7</th>\n      <td>DC8</td>\n      <td>Key words</td>\n      <td>Paper key words</td>\n    </tr>\n    <tr>\n      <th>8</th>\n      <td>DC9</td>\n      <td>Paper main goal</td>\n      <td>Summary of main idea of the paper</td>\n    </tr>\n    <tr>\n      <th>9</th>\n      <td>DC10</td>\n      <td>Research Type</td>\n      <td>Research type: Evaluation, Validation, Solutio...</td>\n    </tr>\n    <tr>\n      <th>10</th>\n      <td>DC11</td>\n      <td>RQ1</td>\n      <td>What is the type of ATD?</td>\n    </tr>\n    <tr>\n      <th>11</th>\n      <td>DC12</td>\n      <td>RQ2</td>\n      <td>How to measure the ATD?</td>\n    </tr>\n    <tr>\n      <th>12</th>\n      <td>DC13</td>\n      <td>RQ3</td>\n      <td>How to monitor ATD in Software projects?</td>\n    </tr>\n    <tr>\n      <th>13</th>\n      <td>DC14</td>\n      <td>RQ4</td>\n      <td>What are the techniques and tools are used to ...</td>\n    </tr>\n    <tr>\n      <th>14</th>\n      <td>DC15</td>\n      <td>RQ5</td>\n      <td>How to calculate ATD?</td>\n    </tr>\n    <tr>\n      <th>15</th>\n      <td>DC16</td>\n      <td>RQ6</td>\n      <td>How atd is management of ATD?</td>\n    </tr>\n    <tr>\n      <th>16</th>\n      <td>DC17</td>\n      <td>RQ7</td>\n      <td>What kind of Research Type is used?</td>\n    </tr>\n  </tbody>\n</table>\n</div>"
     },
     "metadata": {},
     "execution_count": 46
    }
   ],
   "source": [
    "my_data_extraction_form_eg = {'Variable' : ['DC1', 'DC2', 'DC3', 'DC4', 'DC5', 'DC6', 'DC7', 'DC8', \n",
    "                  'DC9', 'DC10', 'DC11', 'DC12', 'DC13', 'DC14', 'DC15', 'DC16', 'DC17'],\n",
    "  'Data collected' : ['Paper id' , 'Authors', 'Title', 'Publication Year', 'Abstract','Venue', 'Field of Venue', 'Key words', 'Paper main goal', 'Research Type', 'RQ1', 'RQ2', 'RQ3', 'RQ4', 'RQ5', 'RQ6', 'RQ7'],\n",
    "    'Goal' : ['Unique id paper' , 'Main author and colegues', 'Title of paper', 'Year of Paper Publication',\n",
    "                   'Paper Abstract', 'Venue the the paper was presented or publishide', 'Main field of paper', 'Paper key words','Summary of main idea of the paper', 'Research type: Evaluation, Validation, Solution proposal, philosophical paper, other', 'What is the type of ATD?', 'How to measure the ATD?', 'How to monitor ATD in Software projects?', 'What are the techniques and tools are used to identify ATD in software projects?', 'How to calculate ATD?','How atd is management of ATD?', 'What kind of Research Type is used?']\n",
    "}\n",
    "my_data_extraction_form_eg_id = list(range(1,len(my_data_extraction_form_eg['Variable'])+1))\n",
    "\n",
    "df_my_data_extraction_form_eg = pd.DataFrame(data=my_data_extraction_form_eg, index=my_data_extraction_form_eg_id)\n",
    "df_my_data_extraction_form_eg.reset_index(drop=True, inplace=True)\n",
    "df_my_data_extraction_form_eg"
   ]
  },
  {
   "cell_type": "code",
   "execution_count": 47,
   "metadata": {},
   "outputs": [
    {
     "output_type": "stream",
     "name": "stdout",
     "text": [
      "Arquivo ../../latex/mytable_extract_data_eg.tex  gerado com sucesso!\n"
     ]
    }
   ],
   "source": [
    "create_latex_table(my_df=df_my_data_extraction_form_eg, my_path='../../latex', my_file_name='mytable_extract_data_eg.tex')"
   ]
  },
  {
   "source": [
    "# List of Venues"
   ],
   "cell_type": "markdown",
   "metadata": {}
  },
  {
   "cell_type": "code",
   "execution_count": 48,
   "metadata": {},
   "outputs": [
    {
     "output_type": "execute_result",
     "data": {
      "text/plain": [
       "                                                venue  count\n",
       "0   Euromicro Conference on Software Engineering a...      6\n",
       "1   International Conference on Technical Debt (Te...      6\n",
       "2    International Conference on Software Engineering      3\n",
       "3   International Workshop on Managing Technical D...      3\n",
       "4        European Conference on Software Architecture      2\n",
       "5   International Conference on Software Maintenan...      2\n",
       "6        Asia Pacific Software Engineering Conference      1\n",
       "7                  Conference on Software Achitecture      1\n",
       "8   Conference on Software Architecture and Europe...      1\n",
       "9             EE Transactions on Software Engineering      1\n",
       "10                                      IEEE Software      1\n",
       "11        Information and Software Technology Journal      1\n",
       "12  International Conference on Automated Software...      1\n",
       "13  International Conference on Mobile Software En...      1\n",
       "14  International Conference on Software Analysis,...      1\n",
       "15  International Conference on Software Architect...      1\n",
       "16  International Conference on Software Architect...      1\n",
       "17  International Conference on Software Engineeri...      1\n",
       "18  International Conference on Software Engineeri...      1\n",
       "19  International Conference on Software Maintenan...      1\n",
       "20  International Conference on Software and Syste...      1\n",
       "21  International Conference on Systems, Man, and ...      1\n",
       "22  International Workshop on Bringing Architectur...      1\n",
       "23         Jornal Information and Software Technology      1\n",
       "24         Journal of Software: Evolution and Process      1\n",
       "25                    Journal of Systems and Software      1\n",
       "26                          Springer Nature Singapore      1\n",
       "27                     Symposium on Applied Computing      1\n",
       "28       TRANSACTIONS ON COMPUTATIONAL SOCIAL SYSTEMS      1\n",
       "29  international ACM Sigsoft conference on Qualit...      1"
      ],
      "text/html": "<div>\n<style scoped>\n    .dataframe tbody tr th:only-of-type {\n        vertical-align: middle;\n    }\n\n    .dataframe tbody tr th {\n        vertical-align: top;\n    }\n\n    .dataframe thead th {\n        text-align: right;\n    }\n</style>\n<table border=\"1\" class=\"dataframe\">\n  <thead>\n    <tr style=\"text-align: right;\">\n      <th></th>\n      <th>venue</th>\n      <th>count</th>\n    </tr>\n  </thead>\n  <tbody>\n    <tr>\n      <th>0</th>\n      <td>Euromicro Conference on Software Engineering a...</td>\n      <td>6</td>\n    </tr>\n    <tr>\n      <th>1</th>\n      <td>International Conference on Technical Debt (Te...</td>\n      <td>6</td>\n    </tr>\n    <tr>\n      <th>2</th>\n      <td>International Conference on Software Engineering</td>\n      <td>3</td>\n    </tr>\n    <tr>\n      <th>3</th>\n      <td>International Workshop on Managing Technical D...</td>\n      <td>3</td>\n    </tr>\n    <tr>\n      <th>4</th>\n      <td>European Conference on Software Architecture</td>\n      <td>2</td>\n    </tr>\n    <tr>\n      <th>5</th>\n      <td>International Conference on Software Maintenan...</td>\n      <td>2</td>\n    </tr>\n    <tr>\n      <th>6</th>\n      <td>Asia Pacific Software Engineering Conference</td>\n      <td>1</td>\n    </tr>\n    <tr>\n      <th>7</th>\n      <td>Conference on Software Achitecture</td>\n      <td>1</td>\n    </tr>\n    <tr>\n      <th>8</th>\n      <td>Conference on Software Architecture and Europe...</td>\n      <td>1</td>\n    </tr>\n    <tr>\n      <th>9</th>\n      <td>EE Transactions on Software Engineering</td>\n      <td>1</td>\n    </tr>\n    <tr>\n      <th>10</th>\n      <td>IEEE Software</td>\n      <td>1</td>\n    </tr>\n    <tr>\n      <th>11</th>\n      <td>Information and Software Technology Journal</td>\n      <td>1</td>\n    </tr>\n    <tr>\n      <th>12</th>\n      <td>International Conference on Automated Software...</td>\n      <td>1</td>\n    </tr>\n    <tr>\n      <th>13</th>\n      <td>International Conference on Mobile Software En...</td>\n      <td>1</td>\n    </tr>\n    <tr>\n      <th>14</th>\n      <td>International Conference on Software Analysis,...</td>\n      <td>1</td>\n    </tr>\n    <tr>\n      <th>15</th>\n      <td>International Conference on Software Architect...</td>\n      <td>1</td>\n    </tr>\n    <tr>\n      <th>16</th>\n      <td>International Conference on Software Architect...</td>\n      <td>1</td>\n    </tr>\n    <tr>\n      <th>17</th>\n      <td>International Conference on Software Engineeri...</td>\n      <td>1</td>\n    </tr>\n    <tr>\n      <th>18</th>\n      <td>International Conference on Software Engineeri...</td>\n      <td>1</td>\n    </tr>\n    <tr>\n      <th>19</th>\n      <td>International Conference on Software Maintenan...</td>\n      <td>1</td>\n    </tr>\n    <tr>\n      <th>20</th>\n      <td>International Conference on Software and Syste...</td>\n      <td>1</td>\n    </tr>\n    <tr>\n      <th>21</th>\n      <td>International Conference on Systems, Man, and ...</td>\n      <td>1</td>\n    </tr>\n    <tr>\n      <th>22</th>\n      <td>International Workshop on Bringing Architectur...</td>\n      <td>1</td>\n    </tr>\n    <tr>\n      <th>23</th>\n      <td>Jornal Information and Software Technology</td>\n      <td>1</td>\n    </tr>\n    <tr>\n      <th>24</th>\n      <td>Journal of Software: Evolution and Process</td>\n      <td>1</td>\n    </tr>\n    <tr>\n      <th>25</th>\n      <td>Journal of Systems and Software</td>\n      <td>1</td>\n    </tr>\n    <tr>\n      <th>26</th>\n      <td>Springer Nature Singapore</td>\n      <td>1</td>\n    </tr>\n    <tr>\n      <th>27</th>\n      <td>Symposium on Applied Computing</td>\n      <td>1</td>\n    </tr>\n    <tr>\n      <th>28</th>\n      <td>TRANSACTIONS ON COMPUTATIONAL SOCIAL SYSTEMS</td>\n      <td>1</td>\n    </tr>\n    <tr>\n      <th>29</th>\n      <td>international ACM Sigsoft conference on Qualit...</td>\n      <td>1</td>\n    </tr>\n  </tbody>\n</table>\n</div>"
     },
     "metadata": {},
     "execution_count": 48
    }
   ],
   "source": [
    "list_of_venues = []\n",
    "for item in list(df_sms_extraction['Name of Venue']): \n",
    "    item = ' '.join(item.split())\n",
    "    list_of_venues.append(item)\n",
    "list_of_venues.sort()\n",
    "\n",
    "list_of_most_common_venues = Counter(list_of_venues).most_common()\n",
    "\n",
    "venue = []\n",
    "count = []\n",
    "for each in list_of_most_common_venues: \n",
    "    venue.append(each[0])\n",
    "    count.append(each[1])\n",
    "my_venues = {'venue': venue, 'count':count}\n",
    "my_venues\n",
    "\n",
    "my_venue_id = list(range(1,len(list_of_most_common_venues)+1))\n",
    "my_venue_id\n",
    "\n",
    "df_my_venues = pd.DataFrame(data=my_venues, index=my_venue_id)\n",
    "df_my_venues.reset_index(drop=True, inplace=True)\n",
    "df_my_venues"
   ]
  },
  {
   "cell_type": "code",
   "execution_count": 49,
   "metadata": {},
   "outputs": [
    {
     "output_type": "stream",
     "name": "stdout",
     "text": [
      "Arquivo ../../latex/mytable_venues.tex  gerado com sucesso!\n"
     ]
    }
   ],
   "source": [
    "create_latex_table(my_df=df_my_venues, my_path='../../latex', my_file_name='mytable_venues.tex')"
   ]
  },
  {
   "source": [
    "# Q1 (Type of ATD according Li el al. 2015)"
   ],
   "cell_type": "markdown",
   "metadata": {}
  },
  {
   "cell_type": "code",
   "execution_count": 50,
   "metadata": {},
   "outputs": [
    {
     "output_type": "execute_result",
     "data": {
      "text/plain": [
       "                                              q1  count\n",
       "0                Architectural compliance issues      7\n",
       "1          System-level structure quality issues      6\n",
       "2                            Architecture Smells      5\n",
       "3  Complex architectural behavioral dependencies      3\n",
       "4                                          Other      3\n",
       "5     Violations of good architectural practices      2"
      ],
      "text/html": "<div>\n<style scoped>\n    .dataframe tbody tr th:only-of-type {\n        vertical-align: middle;\n    }\n\n    .dataframe tbody tr th {\n        vertical-align: top;\n    }\n\n    .dataframe thead th {\n        text-align: right;\n    }\n</style>\n<table border=\"1\" class=\"dataframe\">\n  <thead>\n    <tr style=\"text-align: right;\">\n      <th></th>\n      <th>q1</th>\n      <th>count</th>\n    </tr>\n  </thead>\n  <tbody>\n    <tr>\n      <th>0</th>\n      <td>Architectural compliance issues</td>\n      <td>7</td>\n    </tr>\n    <tr>\n      <th>1</th>\n      <td>System-level structure quality issues</td>\n      <td>6</td>\n    </tr>\n    <tr>\n      <th>2</th>\n      <td>Architecture Smells</td>\n      <td>5</td>\n    </tr>\n    <tr>\n      <th>3</th>\n      <td>Complex architectural behavioral dependencies</td>\n      <td>3</td>\n    </tr>\n    <tr>\n      <th>4</th>\n      <td>Other</td>\n      <td>3</td>\n    </tr>\n    <tr>\n      <th>5</th>\n      <td>Violations of good architectural practices</td>\n      <td>2</td>\n    </tr>\n  </tbody>\n</table>\n</div>"
     },
     "metadata": {},
     "execution_count": 50
    }
   ],
   "source": [
    "list_of_q1 = []\n",
    "for item in list(df_sms_extraction['Q1 Type of ATD (Based on Li et al 2015)']): \n",
    "    if not (isnan(item)):\n",
    "        item = ' '.join(item.split())\n",
    "        list_of_q1.append(item)\n",
    "list_of_q1.sort()\n",
    "\n",
    "list_of_most_common_q1 = Counter(list_of_q1).most_common()\n",
    "\n",
    "q1 = []\n",
    "count_q1 = []\n",
    "for each in list_of_most_common_q1: \n",
    "    q1.append(each[0])\n",
    "    count_q1.append(each[1])\n",
    "my_q1 = {'q1': q1, 'count':count_q1}\n",
    "my_q1\n",
    "\n",
    "my_q1_id = list(range(1,len(list_of_most_common_q1)+1))\n",
    "my_q1_id\n",
    "\n",
    "df_my_q1 = pd.DataFrame(data=my_q1, index=my_q1_id)\n",
    "df_my_q1.reset_index(drop=True, inplace=True)\n",
    "df_my_q1"
   ]
  },
  {
   "cell_type": "code",
   "execution_count": 51,
   "metadata": {},
   "outputs": [
    {
     "output_type": "stream",
     "name": "stdout",
     "text": [
      "Arquivo ../../latex/mytable_q1.tex  gerado com sucesso!\n"
     ]
    }
   ],
   "source": [
    "create_latex_table(my_df=df_my_q1, my_path='../../latex', my_file_name='mytable_q1.tex')"
   ]
  },
  {
   "source": [
    "# Q2 (Measure of ATD)"
   ],
   "cell_type": "markdown",
   "metadata": {}
  },
  {
   "cell_type": "code",
   "execution_count": 52,
   "metadata": {},
   "outputs": [],
   "source": [
    "dict_q2 = {}\n",
    "for item in zip( list(df_sms_extraction['Paper Id']), list(df_sms_extraction['Q2(Measure)']) ):\n",
    "    id = item[0]\n",
    "    if (item[1] != ''):\n",
    "        q2 = str(item[1])\n",
    "        q2 = ' '.join(q2.split())\n",
    "        dict_q2[id] = q2.lower()\n",
    "dict_q2\n",
    "amount_of_q2 = len(dict_q2)"
   ]
  },
  {
   "cell_type": "code",
   "execution_count": 53,
   "metadata": {},
   "outputs": [
    {
     "output_type": "execute_result",
     "data": {
      "text/plain": [
       "               q2  count\n",
       "0        Measured     27\n",
       "1              No     12\n",
       "2  Not applicable      7"
      ],
      "text/html": "<div>\n<style scoped>\n    .dataframe tbody tr th:only-of-type {\n        vertical-align: middle;\n    }\n\n    .dataframe tbody tr th {\n        vertical-align: top;\n    }\n\n    .dataframe thead th {\n        text-align: right;\n    }\n</style>\n<table border=\"1\" class=\"dataframe\">\n  <thead>\n    <tr style=\"text-align: right;\">\n      <th></th>\n      <th>q2</th>\n      <th>count</th>\n    </tr>\n  </thead>\n  <tbody>\n    <tr>\n      <th>0</th>\n      <td>Measured</td>\n      <td>27</td>\n    </tr>\n    <tr>\n      <th>1</th>\n      <td>No</td>\n      <td>12</td>\n    </tr>\n    <tr>\n      <th>2</th>\n      <td>Not applicable</td>\n      <td>7</td>\n    </tr>\n  </tbody>\n</table>\n</div>"
     },
     "metadata": {},
     "execution_count": 53
    }
   ],
   "source": [
    "df_distribution_q2 = view_question_distribution(my_dict=dict_q2, my_list=['Measured', 'No', 'Not applicable'], my_question='q2')\n",
    "df_distribution_q2"
   ]
  },
  {
   "cell_type": "code",
   "execution_count": 54,
   "metadata": {},
   "outputs": [
    {
     "output_type": "stream",
     "name": "stdout",
     "text": [
      "Arquivo ../../latex/mytable_q2_distribution.tex  gerado com sucesso!\n"
     ]
    }
   ],
   "source": [
    "create_latex_table(my_df=df_distribution_q2, my_path='../../latex', my_file_name='mytable_q2_distribution.tex')"
   ]
  },
  {
   "source": [
    "# Q3 Monitoring ATD"
   ],
   "cell_type": "markdown",
   "metadata": {}
  },
  {
   "cell_type": "code",
   "execution_count": 55,
   "metadata": {},
   "outputs": [],
   "source": [
    "dict_q3 = {}\n",
    "for item in zip( list(df_sms_extraction['Paper Id']), list(df_sms_extraction['Q3(Monitoring)']) ):\n",
    "    id = item[0]\n",
    "    if (item[1] != ''):\n",
    "        q3 = str(item[1])\n",
    "        q3 = ' '.join(q3.split())\n",
    "        dict_q3[id] = q3.lower()"
   ]
  },
  {
   "cell_type": "code",
   "execution_count": 56,
   "metadata": {},
   "outputs": [
    {
     "output_type": "execute_result",
     "data": {
      "text/plain": [
       "               q3  count\n",
       "0      Monitoring     19\n",
       "1              No     20\n",
       "2  Not applicable      7"
      ],
      "text/html": "<div>\n<style scoped>\n    .dataframe tbody tr th:only-of-type {\n        vertical-align: middle;\n    }\n\n    .dataframe tbody tr th {\n        vertical-align: top;\n    }\n\n    .dataframe thead th {\n        text-align: right;\n    }\n</style>\n<table border=\"1\" class=\"dataframe\">\n  <thead>\n    <tr style=\"text-align: right;\">\n      <th></th>\n      <th>q3</th>\n      <th>count</th>\n    </tr>\n  </thead>\n  <tbody>\n    <tr>\n      <th>0</th>\n      <td>Monitoring</td>\n      <td>19</td>\n    </tr>\n    <tr>\n      <th>1</th>\n      <td>No</td>\n      <td>20</td>\n    </tr>\n    <tr>\n      <th>2</th>\n      <td>Not applicable</td>\n      <td>7</td>\n    </tr>\n  </tbody>\n</table>\n</div>"
     },
     "metadata": {},
     "execution_count": 56
    }
   ],
   "source": [
    "df_distribution_q3 = view_question_distribution(my_dict=dict_q3, my_list=['Monitoring', 'No', 'Not applicable'], my_question='q3')\n",
    "df_distribution_q3"
   ]
  },
  {
   "cell_type": "code",
   "execution_count": 57,
   "metadata": {},
   "outputs": [
    {
     "output_type": "stream",
     "name": "stdout",
     "text": [
      "Arquivo ../../latex/mytable_q3_distribution.tex  gerado com sucesso!\n"
     ]
    }
   ],
   "source": [
    "create_latex_table(my_df=df_distribution_q3, my_path='../../latex', my_file_name='mytable_q3_distribution.tex')"
   ]
  },
  {
   "source": [
    "# Q4 Tools and Methods"
   ],
   "cell_type": "markdown",
   "metadata": {}
  },
  {
   "cell_type": "code",
   "execution_count": 142,
   "metadata": {},
   "outputs": [],
   "source": [
    "## TBD..."
   ]
  },
  {
   "source": [
    "# Q5 Calculat the cost"
   ],
   "cell_type": "markdown",
   "metadata": {}
  },
  {
   "cell_type": "code",
   "execution_count": 58,
   "metadata": {},
   "outputs": [],
   "source": [
    "dict_q5 = {}\n",
    "for item in zip( list(df_sms_extraction['Paper Id']), list(df_sms_extraction['Q5(calculate the cost)']) ):\n",
    "    id = item[0]\n",
    "    if (item[1] != ''):\n",
    "        q5 = str(item[1])\n",
    "        q5 = ' '.join(q5.split())\n",
    "        dict_q5[id] = q5.lower()"
   ]
  },
  {
   "cell_type": "code",
   "execution_count": 59,
   "metadata": {},
   "outputs": [
    {
     "output_type": "execute_result",
     "data": {
      "text/plain": [
       "                   q5  count\n",
       "0  Calculate the cost     18\n",
       "1                  No     21\n",
       "2      Not applicable      7"
      ],
      "text/html": "<div>\n<style scoped>\n    .dataframe tbody tr th:only-of-type {\n        vertical-align: middle;\n    }\n\n    .dataframe tbody tr th {\n        vertical-align: top;\n    }\n\n    .dataframe thead th {\n        text-align: right;\n    }\n</style>\n<table border=\"1\" class=\"dataframe\">\n  <thead>\n    <tr style=\"text-align: right;\">\n      <th></th>\n      <th>q5</th>\n      <th>count</th>\n    </tr>\n  </thead>\n  <tbody>\n    <tr>\n      <th>0</th>\n      <td>Calculate the cost</td>\n      <td>18</td>\n    </tr>\n    <tr>\n      <th>1</th>\n      <td>No</td>\n      <td>21</td>\n    </tr>\n    <tr>\n      <th>2</th>\n      <td>Not applicable</td>\n      <td>7</td>\n    </tr>\n  </tbody>\n</table>\n</div>"
     },
     "metadata": {},
     "execution_count": 59
    }
   ],
   "source": [
    "df_distribution_q5 = view_question_distribution(my_dict=dict_q5, my_list=['Calculate the cost', 'No', 'Not applicable'], my_question='q5')\n",
    "df_distribution_q5"
   ]
  },
  {
   "cell_type": "code",
   "execution_count": 60,
   "metadata": {},
   "outputs": [
    {
     "output_type": "stream",
     "name": "stdout",
     "text": [
      "Arquivo ../../latex/mytable_q5_distribution.tex  gerado com sucesso!\n"
     ]
    }
   ],
   "source": [
    "create_latex_table(my_df=df_distribution_q5, my_path='../../latex', my_file_name='mytable_q5_distribution.tex')"
   ]
  },
  {
   "source": [
    "# Q6 ATD is managed?"
   ],
   "cell_type": "markdown",
   "metadata": {}
  },
  {
   "cell_type": "code",
   "execution_count": 62,
   "metadata": {},
   "outputs": [],
   "source": [
    "dict_q6 = {}\n",
    "for item in zip( list(df_sms_extraction['Paper Id']), list(df_sms_extraction['Q6(How ATD is management?)']) ):\n",
    "    id = item[0]\n",
    "    if (item[1] != ''):\n",
    "        q6 = str(item[1])\n",
    "        q6 = ' '.join(q6.split())\n",
    "        dict_q6[id] = q6.lower()"
   ]
  },
  {
   "cell_type": "code",
   "execution_count": 63,
   "metadata": {},
   "outputs": [
    {
     "output_type": "execute_result",
     "data": {
      "text/plain": [
       "               q6  count\n",
       "0      Management      0\n",
       "1              No      1\n",
       "2  Not applicable     45"
      ],
      "text/html": "<div>\n<style scoped>\n    .dataframe tbody tr th:only-of-type {\n        vertical-align: middle;\n    }\n\n    .dataframe tbody tr th {\n        vertical-align: top;\n    }\n\n    .dataframe thead th {\n        text-align: right;\n    }\n</style>\n<table border=\"1\" class=\"dataframe\">\n  <thead>\n    <tr style=\"text-align: right;\">\n      <th></th>\n      <th>q6</th>\n      <th>count</th>\n    </tr>\n  </thead>\n  <tbody>\n    <tr>\n      <th>0</th>\n      <td>Management</td>\n      <td>0</td>\n    </tr>\n    <tr>\n      <th>1</th>\n      <td>No</td>\n      <td>1</td>\n    </tr>\n    <tr>\n      <th>2</th>\n      <td>Not applicable</td>\n      <td>45</td>\n    </tr>\n  </tbody>\n</table>\n</div>"
     },
     "metadata": {},
     "execution_count": 63
    }
   ],
   "source": [
    "df_distribution_q6 = view_question_distribution(my_dict=dict_q6, my_list=['Management', 'No', 'Not applicable'], my_question='q6')\n",
    "df_distribution_q6"
   ]
  },
  {
   "cell_type": "code",
   "execution_count": 64,
   "metadata": {},
   "outputs": [
    {
     "output_type": "stream",
     "name": "stdout",
     "text": [
      "Arquivo ../../latex/mytable_q6_distribution.tex  gerado com sucesso!\n"
     ]
    }
   ],
   "source": [
    "create_latex_table(my_df=df_distribution_q6, my_path='../../latex', my_file_name='mytable_q6_distribution.tex')"
   ]
  },
  {
   "source": [
    "# Q7 - Research type"
   ],
   "cell_type": "markdown",
   "metadata": {}
  },
  {
   "cell_type": "code",
   "execution_count": 65,
   "metadata": {},
   "outputs": [],
   "source": [
    "dict_q7 = {}\n",
    "for item in zip( list(df_sms_extraction['Paper Id']), list(df_sms_extraction['Q7 Research Type (Evaluation Research, Validation Research, Solution Proposal, Philosophycal paper, Other)']) ):\n",
    "    id = item[0]\n",
    "    if (item[1] != ''):\n",
    "        q7 = str(item[1])\n",
    "        q7 = ' '.join(q7.split())\n",
    "        dict_q7[id] = q7.lower()"
   ]
  },
  {
   "cell_type": "code",
   "execution_count": 66,
   "metadata": {},
   "outputs": [
    {
     "output_type": "execute_result",
     "data": {
      "text/plain": [
       "               q7  count\n",
       "0   Research Type     38\n",
       "1              No      1\n",
       "2  Not applicable      7"
      ],
      "text/html": "<div>\n<style scoped>\n    .dataframe tbody tr th:only-of-type {\n        vertical-align: middle;\n    }\n\n    .dataframe tbody tr th {\n        vertical-align: top;\n    }\n\n    .dataframe thead th {\n        text-align: right;\n    }\n</style>\n<table border=\"1\" class=\"dataframe\">\n  <thead>\n    <tr style=\"text-align: right;\">\n      <th></th>\n      <th>q7</th>\n      <th>count</th>\n    </tr>\n  </thead>\n  <tbody>\n    <tr>\n      <th>0</th>\n      <td>Research Type</td>\n      <td>38</td>\n    </tr>\n    <tr>\n      <th>1</th>\n      <td>No</td>\n      <td>1</td>\n    </tr>\n    <tr>\n      <th>2</th>\n      <td>Not applicable</td>\n      <td>7</td>\n    </tr>\n  </tbody>\n</table>\n</div>"
     },
     "metadata": {},
     "execution_count": 66
    }
   ],
   "source": [
    "df_distribution_q7 = view_question_distribution(my_dict=dict_q7, my_list=['Research Type', 'No', 'Not applicable'], my_question='q7')\n",
    "df_distribution_q7"
   ]
  },
  {
   "cell_type": "code",
   "execution_count": 67,
   "metadata": {},
   "outputs": [
    {
     "output_type": "stream",
     "name": "stdout",
     "text": [
      "Arquivo ../../latex/mytable_q7_distribution.tex  gerado com sucesso!\n"
     ]
    }
   ],
   "source": [
    "create_latex_table(my_df=df_distribution_q7, my_path='../../latex', my_file_name='mytable_q7_distribution.tex')"
   ]
  },
  {
   "cell_type": "code",
   "execution_count": 68,
   "metadata": {},
   "outputs": [
    {
     "output_type": "execute_result",
     "data": {
      "text/plain": [
       "[('Evaluation research', 18),\n",
       " ('Evaluation research*', 10),\n",
       " ('nan', 7),\n",
       " ('Other', 6),\n",
       " ('Solution proposal', 3),\n",
       " ('No', 1),\n",
       " ('Philosophycal paper', 1)]"
      ]
     },
     "metadata": {},
     "execution_count": 68
    }
   ],
   "source": [
    "list_of_q7 = []\n",
    "for item in list(df_sms_extraction['Q7 Research Type (Evaluation Research, Validation Research, Solution Proposal, Philosophycal paper, Other)']): \n",
    "    item = str(item)\n",
    "    item = ' '.join(item.split())\n",
    "    list_of_q7.append(item)\n",
    "list_of_q7.sort()\n",
    "\n",
    "list_of_most_common_q7 = Counter(list_of_q7).most_common()\n",
    "list_of_most_common_q7"
   ]
  },
  {
   "cell_type": "code",
   "execution_count": 69,
   "metadata": {},
   "outputs": [
    {
     "output_type": "execute_result",
     "data": {
      "text/plain": [
       "               research  count\n",
       "0   Evaluation research     18\n",
       "1  Evaluation research*     10\n",
       "2                   nan      7\n",
       "3                 Other      6\n",
       "4     Solution proposal      3\n",
       "5                    No      1\n",
       "6   Philosophycal paper      1"
      ],
      "text/html": "<div>\n<style scoped>\n    .dataframe tbody tr th:only-of-type {\n        vertical-align: middle;\n    }\n\n    .dataframe tbody tr th {\n        vertical-align: top;\n    }\n\n    .dataframe thead th {\n        text-align: right;\n    }\n</style>\n<table border=\"1\" class=\"dataframe\">\n  <thead>\n    <tr style=\"text-align: right;\">\n      <th></th>\n      <th>research</th>\n      <th>count</th>\n    </tr>\n  </thead>\n  <tbody>\n    <tr>\n      <th>0</th>\n      <td>Evaluation research</td>\n      <td>18</td>\n    </tr>\n    <tr>\n      <th>1</th>\n      <td>Evaluation research*</td>\n      <td>10</td>\n    </tr>\n    <tr>\n      <th>2</th>\n      <td>nan</td>\n      <td>7</td>\n    </tr>\n    <tr>\n      <th>3</th>\n      <td>Other</td>\n      <td>6</td>\n    </tr>\n    <tr>\n      <th>4</th>\n      <td>Solution proposal</td>\n      <td>3</td>\n    </tr>\n    <tr>\n      <th>5</th>\n      <td>No</td>\n      <td>1</td>\n    </tr>\n    <tr>\n      <th>6</th>\n      <td>Philosophycal paper</td>\n      <td>1</td>\n    </tr>\n  </tbody>\n</table>\n</div>"
     },
     "metadata": {},
     "execution_count": 69
    }
   ],
   "source": [
    "rs = []\n",
    "count_rs = []\n",
    "for each in list_of_most_common_q7: \n",
    "    rs.append(each[0])\n",
    "    count_rs.append(each[1])\n",
    "my_rs = {'research': rs, 'count':count_rs}\n",
    "my_rs\n",
    "\n",
    "my_rs_id = list(range(1,len(list_of_most_common_q7)+1))\n",
    "my_rs_id\n",
    "\n",
    "df_my_rs = pd.DataFrame(data=my_rs, index=my_rs_id)\n",
    "df_my_rs.reset_index(drop=True, inplace=True)\n",
    "df_my_rs"
   ]
  },
  {
   "cell_type": "code",
   "execution_count": 70,
   "metadata": {},
   "outputs": [
    {
     "output_type": "stream",
     "name": "stdout",
     "text": [
      "Arquivo ../../latex/mytable_q7_distribution_detailed.tex  gerado com sucesso!\n"
     ]
    }
   ],
   "source": [
    "df_distribution_detailed_q7 = df_my_rs\n",
    "create_latex_table(my_df=df_distribution_detailed_q7, my_path='../../latex', my_file_name='mytable_q7_distribution_detailed.tex')"
   ]
  },
  {
   "cell_type": "code",
   "execution_count": null,
   "metadata": {},
   "outputs": [],
   "source": []
  }
 ],
 "metadata": {
  "kernelspec": {
   "display_name": "Python 3",
   "language": "python",
   "name": "python3"
  },
  "language_info": {
   "codemirror_mode": {
    "name": "ipython",
    "version": 3
   },
   "file_extension": ".py",
   "mimetype": "text/x-python",
   "name": "python",
   "nbconvert_exporter": "python",
   "pygments_lexer": "ipython3",
   "version": "3.6.3-final"
  }
 },
 "nbformat": 4,
 "nbformat_minor": 2
}