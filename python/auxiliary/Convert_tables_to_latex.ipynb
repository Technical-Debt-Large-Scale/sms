{
 "cells": [
  {
   "cell_type": "code",
   "execution_count": 116,
   "metadata": {},
   "outputs": [],
   "source": [
    "import os\n",
    "import sys\n",
    "nb_dir = os.path.split(os.getcwd())[0]\n",
    "if nb_dir not in sys.path:\n",
    "    sys.path.append(nb_dir)\n",
    "\n",
    "import pandas as pd\n",
    "import util.utilities as util\n",
    "import matplotlib.pyplot as plt\n",
    "import seaborn as sns\n",
    "from collections import Counter"
   ]
  },
  {
   "source": [
    "# 1) Dataset"
   ],
   "cell_type": "markdown",
   "metadata": {}
  },
  {
   "cell_type": "code",
   "execution_count": 117,
   "metadata": {},
   "outputs": [
    {
     "output_type": "execute_result",
     "data": {
      "text/plain": [
       "   Paper Id            Citation Google Scholar  Year  \\\n",
       "0         1   Perez et al. 2019              4  2019   \n",
       "1         2  Martini et al 2017             13  2017   \n",
       "\n",
       "                                        Authors  \\\n",
       "0  Boris Perez, Dario Correal, Hernan Astudillo   \n",
       "1  Antonio Martini, Erik Sikander, Niel Madlani   \n",
       "\n",
       "                                                                                                                                                                       Title  \\\n",
       "0                                                                                      A Proposed Model-driven Approach to Manage Architectural Technical Debt Life Cycle \\n   \n",
       "1  A semi-automated framework for the identification and estimation of Architectural Technical Debt: A comparative case-study on the modularization of a software component    \n",
       "\n",
       "   Publication Year  \\\n",
       "0              2019   \n",
       "1              2017   \n",
       "\n",
       "                                                                                                                                                                                                                                                         Abstract  \\\n",
       "0  Architectural Technical Debt (ATD) is a metaphor used to describe consciously decisions taken by software architects to accomplish short-term goals but possibly negatively affecting the long-term health of the system. However, difficulties arise when ...   \n",
       "1  Context: Research and industry’s attention has been focusing on developing systems that enable fast time to market in the short term, but would assure a sustainable delivery of business value and maintenance operations in the long run. A related pheno...   \n",
       "\n",
       "   Venue Type  \\\n",
       "0  Conference   \n",
       "1     Journal   \n",
       "\n",
       "                                                                 Venue  ...  \\\n",
       "0  2019 IEEE/ACM International Conference on Technical Debt (TechDebt)  ...   \n",
       "1                           Jornal Information and Software Technology  ...   \n",
       "\n",
       "                                                                                                                            Strong Aspects  \\\n",
       "0         The authors propose an approuch to identify ATD using documents and models without to get access to source code of the software.   \n",
       "1  The authors proposed a semi-automated method to identify and calculate the cost of ATD in terms of estimated hours to fix the ATD item.   \n",
       "\n",
       "                                                                                                                                Weak Aspects  \\\n",
       "0                                There is no calculation formula about cost of ATD in terms of time or money to fix the ATD item identified.   \n",
       "1  It is necessary an expert evaluation to estimate the effort to fix the ATD item. Besides, the authors did not talk about the future work.   \n",
       "\n",
       "                                                                                                                                                                                                                                        Process Rigor  \\\n",
       "0                                                                                                     problem characterization: yes, bibliographic review: yes, data collection: yes, hypothesis: no, experimentation: yes, results: yes, final: good   \n",
       "1  problem characterization: yes, bibliographic review: yes, data collection: yes, hypothesis: no, experimentation: yes, results: yes, final: good,extra:\\nThis paper used quantitative and qualitative research to evaluate the proposed framework.    \n",
       "\n",
       "                                                                                                   General relevance  \\\n",
       "0                         good; due to the authors propose an approuch to identify ATD wihout static code analysis.    \n",
       "1  Great;The paper provides a way to identify and estimate ATD effort in hours using the modularity of components\\n    \n",
       "\n",
       "                                                                                                                                                                                                                                                      Limitations  \\\n",
       "0  In this research we faced several challenges that became evident in the case study. First, much of the software architec- ture decisions were not fully documented. Client does not pay for documentation. Rationale of decisions is divided among several ...   \n",
       "1                                                                                                              To estimate the effort to fix the ATD is necessary, an evaluation of developers. So, it is necessary for a manual process to evaluate the efort.\\n   \n",
       "\n",
       "                                                                                                                                                                                                                                                     Future Works  \\\n",
       "0  Future work will include convolutional neural networks to train a model to understand diagrams made in PowerPoint or another tool and saved as an image, such as IMEAV [19]. We also plan to include a recommendation system to suggests repayment strategi...   \n",
       "1                                                                                                                                                                                                                                                              No   \n",
       "\n",
       "       Read SP Index SP Aux   sp  \n",
       "0  Complete        1     SP  SP1  \n",
       "1  Complete        2     SP  SP2  \n",
       "\n",
       "[2 rows x 38 columns]"
      ],
      "text/html": "<div>\n<style scoped>\n    .dataframe tbody tr th:only-of-type {\n        vertical-align: middle;\n    }\n\n    .dataframe tbody tr th {\n        vertical-align: top;\n    }\n\n    .dataframe thead th {\n        text-align: right;\n    }\n</style>\n<table border=\"1\" class=\"dataframe\">\n  <thead>\n    <tr style=\"text-align: right;\">\n      <th></th>\n      <th>Paper Id</th>\n      <th>Citation</th>\n      <th>Google Scholar</th>\n      <th>Year</th>\n      <th>Authors</th>\n      <th>Title</th>\n      <th>Publication Year</th>\n      <th>Abstract</th>\n      <th>Venue Type</th>\n      <th>Venue</th>\n      <th>...</th>\n      <th>Strong Aspects</th>\n      <th>Weak Aspects</th>\n      <th>Process Rigor</th>\n      <th>General relevance</th>\n      <th>Limitations</th>\n      <th>Future Works</th>\n      <th>Read</th>\n      <th>SP Index</th>\n      <th>SP Aux</th>\n      <th>sp</th>\n    </tr>\n  </thead>\n  <tbody>\n    <tr>\n      <th>0</th>\n      <td>1</td>\n      <td>Perez et al. 2019</td>\n      <td>4</td>\n      <td>2019</td>\n      <td>Boris Perez, Dario Correal, Hernan Astudillo</td>\n      <td>A Proposed Model-driven Approach to Manage Architectural Technical Debt Life Cycle \\n</td>\n      <td>2019</td>\n      <td>Architectural Technical Debt (ATD) is a metaphor used to describe consciously decisions taken by software architects to accomplish short-term goals but possibly negatively affecting the long-term health of the system. However, difficulties arise when ...</td>\n      <td>Conference</td>\n      <td>2019 IEEE/ACM International Conference on Technical Debt (TechDebt)</td>\n      <td>...</td>\n      <td>The authors propose an approuch to identify ATD using documents and models without to get access to source code of the software.</td>\n      <td>There is no calculation formula about cost of ATD in terms of time or money to fix the ATD item identified.</td>\n      <td>problem characterization: yes, bibliographic review: yes, data collection: yes, hypothesis: no, experimentation: yes, results: yes, final: good</td>\n      <td>good; due to the authors propose an approuch to identify ATD wihout static code analysis.</td>\n      <td>In this research we faced several challenges that became evident in the case study. First, much of the software architec- ture decisions were not fully documented. Client does not pay for documentation. Rationale of decisions is divided among several ...</td>\n      <td>Future work will include convolutional neural networks to train a model to understand diagrams made in PowerPoint or another tool and saved as an image, such as IMEAV [19]. We also plan to include a recommendation system to suggests repayment strategi...</td>\n      <td>Complete</td>\n      <td>1</td>\n      <td>SP</td>\n      <td>SP1</td>\n    </tr>\n    <tr>\n      <th>1</th>\n      <td>2</td>\n      <td>Martini et al 2017</td>\n      <td>13</td>\n      <td>2017</td>\n      <td>Antonio Martini, Erik Sikander, Niel Madlani</td>\n      <td>A semi-automated framework for the identification and estimation of Architectural Technical Debt: A comparative case-study on the modularization of a software component</td>\n      <td>2017</td>\n      <td>Context: Research and industry’s attention has been focusing on developing systems that enable fast time to market in the short term, but would assure a sustainable delivery of business value and maintenance operations in the long run. A related pheno...</td>\n      <td>Journal</td>\n      <td>Jornal Information and Software Technology</td>\n      <td>...</td>\n      <td>The authors proposed a semi-automated method to identify and calculate the cost of ATD in terms of estimated hours to fix the ATD item.</td>\n      <td>It is necessary an expert evaluation to estimate the effort to fix the ATD item. Besides, the authors did not talk about the future work.</td>\n      <td>problem characterization: yes, bibliographic review: yes, data collection: yes, hypothesis: no, experimentation: yes, results: yes, final: good,extra:\\nThis paper used quantitative and qualitative research to evaluate the proposed framework.</td>\n      <td>Great;The paper provides a way to identify and estimate ATD effort in hours using the modularity of components\\n</td>\n      <td>To estimate the effort to fix the ATD is necessary, an evaluation of developers. So, it is necessary for a manual process to evaluate the efort.\\n</td>\n      <td>No</td>\n      <td>Complete</td>\n      <td>2</td>\n      <td>SP</td>\n      <td>SP2</td>\n    </tr>\n  </tbody>\n</table>\n<p>2 rows × 38 columns</p>\n</div>"
     },
     "metadata": {},
     "execution_count": 117
    }
   ],
   "source": [
    "df_sms_extraction = pd.read_excel('../../dataset/Extraction_form_basic.xlsx')\n",
    "pd.set_option('display.max_colwidth',255)\n",
    "\n",
    "# Adding new column sp (Selected Paper)\n",
    "df_sms_extraction['SP Index'] = df_sms_extraction.index+1\n",
    "df_sms_extraction['SP Aux'] = 'SP' \n",
    "df_sms_extraction['sp'] = [y + str(x) for x, y in zip(df_sms_extraction['SP Index'], df_sms_extraction['SP Aux'])]\n",
    "df_sms_extraction.head(2)"
   ]
  },
  {
   "source": [
    "# 2) Selected papers"
   ],
   "cell_type": "markdown",
   "metadata": {}
  },
  {
   "cell_type": "code",
   "execution_count": 118,
   "metadata": {},
   "outputs": [
    {
     "output_type": "stream",
     "name": "stdout",
     "text": [
      "Arquivo ../../latex/mytable_papers.tex  gerado com sucesso!\n"
     ]
    },
    {
     "output_type": "execute_result",
     "data": {
      "text/plain": [
       "      sp                        Citation  \\\n",
       "0    SP1               Perez et al. 2019   \n",
       "1    SP2              Martini et al 2017   \n",
       "2    SP3              Roveda et al. 2018   \n",
       "3    SP4              Snipes et al. 2018   \n",
       "4    SP5              Nayebi et al. 2019   \n",
       "5    SP6                Feng et al. 2019   \n",
       "6    SP7                  Li et al. 2014   \n",
       "7    SP8             Martini et al. 2016   \n",
       "8    SP9                Xiao et al. 2016   \n",
       "9   SP10                 Verdecchia 2018   \n",
       "10  SP11           Zitzweitz et al. 2019   \n",
       "11  SP12          Martini and Bosch 2017   \n",
       "12  SP13             Fontana et al. 2016   \n",
       "13  SP14                  Li et al. 2015   \n",
       "14  SP15             Martini et al. 2014   \n",
       "15  SP16             Martini et al. 2016   \n",
       "16  SP17             Martini et al. 2018   \n",
       "17  SP18             Cai and Kazman 2016   \n",
       "18  SP19              Kazman et al. 2015   \n",
       "19  SP20          Martini and Bosch 2015   \n",
       "20  SP21                   Tommasel 2019   \n",
       "21  SP22                Nord et al. 2012   \n",
       "22  SP23             Cai and Kazman 2019   \n",
       "23  SP24              Skiada et al. 2018   \n",
       "24  SP25            Eliasson et al. 2015   \n",
       "25  SP26             Fontana et al. 2016   \n",
       "26  SP27    MacComark and Sturteant 2016   \n",
       "27  SP28                 Sas et al. 2019   \n",
       "28  SP29             Fontana et al. 2019   \n",
       "29  SP30     Spinellis and Avgeriou 2019   \n",
       "30  SP31            Izurieta et al. 2018   \n",
       "31  SP32  Besker, Martini and Bosch 2017   \n",
       "32  SP33          Ampatzoglou et al 2016   \n",
       "33  SP34  Martini, Besker and Bosch 2016   \n",
       "34  SP35              Aaramaa et al 2017   \n",
       "35  SP36              Martini et al 2015   \n",
       "36  SP37                  Cai el al 2018   \n",
       "37  SP38               Bogner et al 2019   \n",
       "38  SP39          Ludwig and Webber 2017   \n",
       "39  SP40               Curtis et al 2012   \n",
       "40  SP41                Kumar et al 2018   \n",
       "41  SP42              Hanssen et al 2019   \n",
       "42  SP43               Sierra et al 2019   \n",
       "43  SP44               Bogner et al 2018   \n",
       "44  SP45           Andrzej Zalewski 2017   \n",
       "45  SP46         Damian A. Tamburri 2019   \n",
       "\n",
       "                                                                                                                                                                        Title  \n",
       "0                                                                                       A Proposed Model-driven Approach to Manage Architectural Technical Debt Life Cycle \\n  \n",
       "1   A semi-automated framework for the identification and estimation of Architectural Technical Debt: A comparative case-study on the modularization of a software component   \n",
       "2                                                                                                                                         Towards an Architectural Debt Index  \n",
       "3                                                                                              A Case Study of the Effects of Architecture Debt on Software Evolution Effort   \n",
       "4                                                                                                      A Longitudinal Study of Identifying and Paying Down architecture debt   \n",
       "5                                                                                      Active Hotspot: An Issue-Oriented Model to Monitor Software Evolution and Degradation   \n",
       "6                                                                               An  Empirical Investigation of Modularity Metrics for Indicating architectural technical debt  \n",
       "7                                                                   An Empirically Developed Method to Aid Decisions on Architectural Technical Debt Refactoring: AnaConDebt   \n",
       "8                                                                                                                             Identifying and Quantifying Architectural Debt   \n",
       "9                                                                     Identifying Architectural Technical Debt in Android Applications through Automated Compliance Checking   \n",
       "10                                                    Mitigating Technical and Architectural Debt with Sonargraph Using static analysis to enforce architectural constraints   \n",
       "11                                                                                On the interest of architectural technical debt: Uncovering the contagious debt phenomenon   \n",
       "12                                                                                Tool support for evaluating architectural debt of an existing system: An experience report   \n",
       "13                                                                          Architectural Technical Debt Identification based on Architecture Decisions and Change Scenarios   \n",
       "14                                                                                                 Architecture Technical Debt: Understanding Causes and a Qualitative Model   \n",
       "15                                                                    Estimating and Quantifying the Benefits of Refactoring to Improve a Component Modularity: a Case Study   \n",
       "16                                                     Identifying and Prioritizing Architectural Debt Through Architectural Smells: A Case Study in a Large Software Company  \n",
       "17                                                                                                                                       Software Architecture Health Monitor  \n",
       "18                                                                                                         A Case Study in Locating the Architectural Roots of Technical Debt  \n",
       "19                                                                      Towards Prioritizing Architecture Technical Debt: Information Needs of Architects and Product Owners   \n",
       "20                                                                                             Applying Social Network Analysis Techniques to Architectural Smell Prediction   \n",
       "21                                                                                                         In Search of a Metric for Managing Architectural Technical Debt \\n  \n",
       "22                                                                                                                          DV8: Automated Architecture Analysis Tool Suites   \n",
       "23                                                                                                 Exploring the Relationship between Software Modularity and Technical Debt   \n",
       "24                                                          Identifying and Visualizing Architectural Debt and Its Efficiency Interest in the Automotive Domain: A Case Study  \n",
       "25                                                                                                      Technical Debt Indexes provided by tools: a preliminary discussion \\n  \n",
       "26                                                                                 Technical debt and system architecture: The impact of coupling on defect-related activity   \n",
       "27                                                                                        Investigating Instability Architectural Smells Evolution: An Exploratory Case Study  \n",
       "28                                                                                                                           PageRank and criticality of architectural smells  \n",
       "29                                                                                                     Evolution of the Unix System Architecture: An Exploratory Case Study    \n",
       "30                                                                                         A position study to investigate technical debt associated with security weaknesses  \n",
       "31                                                                                                       The pricey bill of technical debt: When and by whom will it be paid?  \n",
       "32                                                                                The Perception of Technical Debt in the Embedded Systems Domain: An Industrial Case Study    \n",
       "33                                                                                                             The Introduction of Technical Debt Tracking in Large Companies  \n",
       "34                                                                                         Requirements volatility in software architecture design: An exploratory case study  \n",
       "35                                                                  Investigating Architectural Technical Debt accumulation and refactoring over time: A multiple-case study   \n",
       "36                                                                                       Design Rule Spaces: A New Model for Representing and Analyzing Software Architecture  \n",
       "37                                                                              Assuring the Evolvability of Microservices: Insights into Industry Practices and Challenges    \n",
       "38                                                                          Compiling Static Software Metrics for Reliability and Maintainability from GitHub Repositories \\n  \n",
       "39                                                                                                                 Estimating the principal of an applications technical debt  \n",
       "40                                                                     Exploring multilateral cloud computing security architectural design debt in terms of technical debt    \n",
       "41                                                                                                                               Identifying Scalability Debt in Open Systems  \n",
       "42                                                                                         Is Self-Admitted Technical Debt a Good Indicator of Architectural Divergences?  \\t  \n",
       "43                  Limiting technical debt with maintainability assurance: an industry survey on used techniques and differences with service and microservice-based systems  \n",
       "44                                                                                                                             Risk Appetite in Architectural Decision-Making  \n",
       "45                                                                                                   Software Architecture Social Debt: Managing the Incommunicability Factor  "
      ],
      "text/html": "<div>\n<style scoped>\n    .dataframe tbody tr th:only-of-type {\n        vertical-align: middle;\n    }\n\n    .dataframe tbody tr th {\n        vertical-align: top;\n    }\n\n    .dataframe thead th {\n        text-align: right;\n    }\n</style>\n<table border=\"1\" class=\"dataframe\">\n  <thead>\n    <tr style=\"text-align: right;\">\n      <th></th>\n      <th>sp</th>\n      <th>Citation</th>\n      <th>Title</th>\n    </tr>\n  </thead>\n  <tbody>\n    <tr>\n      <th>0</th>\n      <td>SP1</td>\n      <td>Perez et al. 2019</td>\n      <td>A Proposed Model-driven Approach to Manage Architectural Technical Debt Life Cycle \\n</td>\n    </tr>\n    <tr>\n      <th>1</th>\n      <td>SP2</td>\n      <td>Martini et al 2017</td>\n      <td>A semi-automated framework for the identification and estimation of Architectural Technical Debt: A comparative case-study on the modularization of a software component</td>\n    </tr>\n    <tr>\n      <th>2</th>\n      <td>SP3</td>\n      <td>Roveda et al. 2018</td>\n      <td>Towards an Architectural Debt Index</td>\n    </tr>\n    <tr>\n      <th>3</th>\n      <td>SP4</td>\n      <td>Snipes et al. 2018</td>\n      <td>A Case Study of the Effects of Architecture Debt on Software Evolution Effort</td>\n    </tr>\n    <tr>\n      <th>4</th>\n      <td>SP5</td>\n      <td>Nayebi et al. 2019</td>\n      <td>A Longitudinal Study of Identifying and Paying Down architecture debt</td>\n    </tr>\n    <tr>\n      <th>5</th>\n      <td>SP6</td>\n      <td>Feng et al. 2019</td>\n      <td>Active Hotspot: An Issue-Oriented Model to Monitor Software Evolution and Degradation</td>\n    </tr>\n    <tr>\n      <th>6</th>\n      <td>SP7</td>\n      <td>Li et al. 2014</td>\n      <td>An  Empirical Investigation of Modularity Metrics for Indicating architectural technical debt</td>\n    </tr>\n    <tr>\n      <th>7</th>\n      <td>SP8</td>\n      <td>Martini et al. 2016</td>\n      <td>An Empirically Developed Method to Aid Decisions on Architectural Technical Debt Refactoring: AnaConDebt</td>\n    </tr>\n    <tr>\n      <th>8</th>\n      <td>SP9</td>\n      <td>Xiao et al. 2016</td>\n      <td>Identifying and Quantifying Architectural Debt</td>\n    </tr>\n    <tr>\n      <th>9</th>\n      <td>SP10</td>\n      <td>Verdecchia 2018</td>\n      <td>Identifying Architectural Technical Debt in Android Applications through Automated Compliance Checking</td>\n    </tr>\n    <tr>\n      <th>10</th>\n      <td>SP11</td>\n      <td>Zitzweitz et al. 2019</td>\n      <td>Mitigating Technical and Architectural Debt with Sonargraph Using static analysis to enforce architectural constraints</td>\n    </tr>\n    <tr>\n      <th>11</th>\n      <td>SP12</td>\n      <td>Martini and Bosch 2017</td>\n      <td>On the interest of architectural technical debt: Uncovering the contagious debt phenomenon</td>\n    </tr>\n    <tr>\n      <th>12</th>\n      <td>SP13</td>\n      <td>Fontana et al. 2016</td>\n      <td>Tool support for evaluating architectural debt of an existing system: An experience report</td>\n    </tr>\n    <tr>\n      <th>13</th>\n      <td>SP14</td>\n      <td>Li et al. 2015</td>\n      <td>Architectural Technical Debt Identification based on Architecture Decisions and Change Scenarios</td>\n    </tr>\n    <tr>\n      <th>14</th>\n      <td>SP15</td>\n      <td>Martini et al. 2014</td>\n      <td>Architecture Technical Debt: Understanding Causes and a Qualitative Model</td>\n    </tr>\n    <tr>\n      <th>15</th>\n      <td>SP16</td>\n      <td>Martini et al. 2016</td>\n      <td>Estimating and Quantifying the Benefits of Refactoring to Improve a Component Modularity: a Case Study</td>\n    </tr>\n    <tr>\n      <th>16</th>\n      <td>SP17</td>\n      <td>Martini et al. 2018</td>\n      <td>Identifying and Prioritizing Architectural Debt Through Architectural Smells: A Case Study in a Large Software Company</td>\n    </tr>\n    <tr>\n      <th>17</th>\n      <td>SP18</td>\n      <td>Cai and Kazman 2016</td>\n      <td>Software Architecture Health Monitor</td>\n    </tr>\n    <tr>\n      <th>18</th>\n      <td>SP19</td>\n      <td>Kazman et al. 2015</td>\n      <td>A Case Study in Locating the Architectural Roots of Technical Debt</td>\n    </tr>\n    <tr>\n      <th>19</th>\n      <td>SP20</td>\n      <td>Martini and Bosch 2015</td>\n      <td>Towards Prioritizing Architecture Technical Debt: Information Needs of Architects and Product Owners</td>\n    </tr>\n    <tr>\n      <th>20</th>\n      <td>SP21</td>\n      <td>Tommasel 2019</td>\n      <td>Applying Social Network Analysis Techniques to Architectural Smell Prediction</td>\n    </tr>\n    <tr>\n      <th>21</th>\n      <td>SP22</td>\n      <td>Nord et al. 2012</td>\n      <td>In Search of a Metric for Managing Architectural Technical Debt \\n</td>\n    </tr>\n    <tr>\n      <th>22</th>\n      <td>SP23</td>\n      <td>Cai and Kazman 2019</td>\n      <td>DV8: Automated Architecture Analysis Tool Suites</td>\n    </tr>\n    <tr>\n      <th>23</th>\n      <td>SP24</td>\n      <td>Skiada et al. 2018</td>\n      <td>Exploring the Relationship between Software Modularity and Technical Debt</td>\n    </tr>\n    <tr>\n      <th>24</th>\n      <td>SP25</td>\n      <td>Eliasson et al. 2015</td>\n      <td>Identifying and Visualizing Architectural Debt and Its Efficiency Interest in the Automotive Domain: A Case Study</td>\n    </tr>\n    <tr>\n      <th>25</th>\n      <td>SP26</td>\n      <td>Fontana et al. 2016</td>\n      <td>Technical Debt Indexes provided by tools: a preliminary discussion \\n</td>\n    </tr>\n    <tr>\n      <th>26</th>\n      <td>SP27</td>\n      <td>MacComark and Sturteant 2016</td>\n      <td>Technical debt and system architecture: The impact of coupling on defect-related activity</td>\n    </tr>\n    <tr>\n      <th>27</th>\n      <td>SP28</td>\n      <td>Sas et al. 2019</td>\n      <td>Investigating Instability Architectural Smells Evolution: An Exploratory Case Study</td>\n    </tr>\n    <tr>\n      <th>28</th>\n      <td>SP29</td>\n      <td>Fontana et al. 2019</td>\n      <td>PageRank and criticality of architectural smells</td>\n    </tr>\n    <tr>\n      <th>29</th>\n      <td>SP30</td>\n      <td>Spinellis and Avgeriou 2019</td>\n      <td>Evolution of the Unix System Architecture: An Exploratory Case Study</td>\n    </tr>\n    <tr>\n      <th>30</th>\n      <td>SP31</td>\n      <td>Izurieta et al. 2018</td>\n      <td>A position study to investigate technical debt associated with security weaknesses</td>\n    </tr>\n    <tr>\n      <th>31</th>\n      <td>SP32</td>\n      <td>Besker, Martini and Bosch 2017</td>\n      <td>The pricey bill of technical debt: When and by whom will it be paid?</td>\n    </tr>\n    <tr>\n      <th>32</th>\n      <td>SP33</td>\n      <td>Ampatzoglou et al 2016</td>\n      <td>The Perception of Technical Debt in the Embedded Systems Domain: An Industrial Case Study</td>\n    </tr>\n    <tr>\n      <th>33</th>\n      <td>SP34</td>\n      <td>Martini, Besker and Bosch 2016</td>\n      <td>The Introduction of Technical Debt Tracking in Large Companies</td>\n    </tr>\n    <tr>\n      <th>34</th>\n      <td>SP35</td>\n      <td>Aaramaa et al 2017</td>\n      <td>Requirements volatility in software architecture design: An exploratory case study</td>\n    </tr>\n    <tr>\n      <th>35</th>\n      <td>SP36</td>\n      <td>Martini et al 2015</td>\n      <td>Investigating Architectural Technical Debt accumulation and refactoring over time: A multiple-case study</td>\n    </tr>\n    <tr>\n      <th>36</th>\n      <td>SP37</td>\n      <td>Cai el al 2018</td>\n      <td>Design Rule Spaces: A New Model for Representing and Analyzing Software Architecture</td>\n    </tr>\n    <tr>\n      <th>37</th>\n      <td>SP38</td>\n      <td>Bogner et al 2019</td>\n      <td>Assuring the Evolvability of Microservices: Insights into Industry Practices and Challenges</td>\n    </tr>\n    <tr>\n      <th>38</th>\n      <td>SP39</td>\n      <td>Ludwig and Webber 2017</td>\n      <td>Compiling Static Software Metrics for Reliability and Maintainability from GitHub Repositories \\n</td>\n    </tr>\n    <tr>\n      <th>39</th>\n      <td>SP40</td>\n      <td>Curtis et al 2012</td>\n      <td>Estimating the principal of an applications technical debt</td>\n    </tr>\n    <tr>\n      <th>40</th>\n      <td>SP41</td>\n      <td>Kumar et al 2018</td>\n      <td>Exploring multilateral cloud computing security architectural design debt in terms of technical debt</td>\n    </tr>\n    <tr>\n      <th>41</th>\n      <td>SP42</td>\n      <td>Hanssen et al 2019</td>\n      <td>Identifying Scalability Debt in Open Systems</td>\n    </tr>\n    <tr>\n      <th>42</th>\n      <td>SP43</td>\n      <td>Sierra et al 2019</td>\n      <td>Is Self-Admitted Technical Debt a Good Indicator of Architectural Divergences?  \\t</td>\n    </tr>\n    <tr>\n      <th>43</th>\n      <td>SP44</td>\n      <td>Bogner et al 2018</td>\n      <td>Limiting technical debt with maintainability assurance: an industry survey on used techniques and differences with service and microservice-based systems</td>\n    </tr>\n    <tr>\n      <th>44</th>\n      <td>SP45</td>\n      <td>Andrzej Zalewski 2017</td>\n      <td>Risk Appetite in Architectural Decision-Making</td>\n    </tr>\n    <tr>\n      <th>45</th>\n      <td>SP46</td>\n      <td>Damian A. Tamburri 2019</td>\n      <td>Software Architecture Social Debt: Managing the Incommunicability Factor</td>\n    </tr>\n  </tbody>\n</table>\n</div>"
     },
     "metadata": {},
     "execution_count": 118
    }
   ],
   "source": [
    "df_my_data_papers = df_sms_extraction[['sp', 'Citation', 'Title']]\n",
    "\n",
    "util.create_latex_table(my_df=df_my_data_papers, my_path='../../latex', my_file_name='mytable_papers.tex')\n",
    "\n",
    "df_my_data_papers"
   ]
  },
  {
   "source": [
    "# 3) Extraction form"
   ],
   "cell_type": "markdown",
   "metadata": {}
  },
  {
   "cell_type": "code",
   "execution_count": 119,
   "metadata": {},
   "outputs": [
    {
     "output_type": "stream",
     "name": "stdout",
     "text": [
      "Erro ao tentar gerar o arquivo latex!\n"
     ]
    },
    {
     "output_type": "execute_result",
     "data": {
      "text/plain": [
       "  Variável Informação Coletada                  Propósito\n",
       "0      DC1        Id do Artigo         Id único do artigo\n",
       "1      DC2             Autores  Autor principal e colegas\n",
       "2      DC3              Título           Título do Artigo"
      ],
      "text/html": "<div>\n<style scoped>\n    .dataframe tbody tr th:only-of-type {\n        vertical-align: middle;\n    }\n\n    .dataframe tbody tr th {\n        vertical-align: top;\n    }\n\n    .dataframe thead th {\n        text-align: right;\n    }\n</style>\n<table border=\"1\" class=\"dataframe\">\n  <thead>\n    <tr style=\"text-align: right;\">\n      <th></th>\n      <th>Variável</th>\n      <th>Informação Coletada</th>\n      <th>Propósito</th>\n    </tr>\n  </thead>\n  <tbody>\n    <tr>\n      <th>0</th>\n      <td>DC1</td>\n      <td>Id do Artigo</td>\n      <td>Id único do artigo</td>\n    </tr>\n    <tr>\n      <th>1</th>\n      <td>DC2</td>\n      <td>Autores</td>\n      <td>Autor principal e colegas</td>\n    </tr>\n    <tr>\n      <th>2</th>\n      <td>DC3</td>\n      <td>Título</td>\n      <td>Título do Artigo</td>\n    </tr>\n  </tbody>\n</table>\n</div>"
     },
     "metadata": {},
     "execution_count": 119
    }
   ],
   "source": [
    "my_data_extraction_form = {\n",
    "    'Variável' : ['DC1', 'DC2', 'DC3', 'DC4', 'DC5', 'DC6', 'DC7', 'DC8', \n",
    "                  'DC9', 'DC10', 'DC11', 'DC12', 'DC13', 'DC14', 'DC15'], \n",
    "    'Informação Coletada' : ['Id do Artigo' , 'Autores', 'Título', 'Ano da Publicação', 'Abstract',\n",
    "                             'Local', 'Área do evento', 'Key words', 'Objetivo do artigo', \n",
    "                             'Técnicas, Abordagens, Métodos e ferramentas', 'Tipo de pesquisa', 'Q1', 'Q2', 'Q3', 'Q4'], \n",
    "    'Propósito' : ['Id único do artigo' , 'Autor principal e colegas', 'Título do Artigo', 'Ano da Publicação do Artigo','Abstract do Artigo', \n",
    "                   'Local onde o artigo foi apresentado/pulicado', 'Área principal do artigo', 'Palavras chaves do artigo',\n",
    "                   'Descrição sumária do objetivo do artigo', 'Quais foram as técnicas, abordagens, métodos e ferramentas usadas no artigo'\n",
    "                   , 'A pesquisa descrita no artigo pode ser do tipo: Conceitual ou Empírica', \n",
    "                  'O artigo contempla a q1? (SIM/NÃO)' , \n",
    "                   'O artigo contempla a q2? (SIM/NÃO)',\n",
    "                   'O artigo contempla a q3? (SIM/NÃO)',\n",
    "                   'O artigo contempla a q4? (SIM/NÃO)']\n",
    "}\n",
    "\n",
    "check_my_dictionary = len(my_data_extraction_form['Variável'])\n",
    "if (len(my_data_extraction_form['Variável']) == len(my_data_extraction_form['Informação Coletada']) and \n",
    "   len(my_data_extraction_form['Variável']) == len(my_data_extraction_form['Propósito'])): \n",
    "    my_data_extraction_form_id = list(range(1,len(my_data_extraction_form['Variável'])+1))\n",
    "else:\n",
    "    check_my_dictionary = -1\n",
    "\n",
    "if (check_my_dictionary > 0):\n",
    "    df_my_data_extraction_form = pd.DataFrame(data=my_data_extraction_form, index=my_data_extraction_form_id)\n",
    "    df_my_data_extraction_form.reset_index(drop=True, inplace=True)\n",
    "else:\n",
    "    print(\"Erro ao tentar criar o dataframe\")\n",
    "\n",
    "try:\n",
    "    with open('../../latex/mytable_extract_data.tex','w') as tf:\n",
    "        tf.write(df_my_data_extraction_form.to_latex(index=False))\n",
    "    print(\"Arquivo ../../latex/mytable_extract_data.tex gerado com sucesso!\")\n",
    "except:\n",
    "    print(\"Erro ao tentar gerar o arquivo latex!\")\n",
    "\n",
    "df_my_data_extraction_form.head(3)"
   ]
  },
  {
   "cell_type": "code",
   "execution_count": 120,
   "metadata": {},
   "outputs": [
    {
     "output_type": "stream",
     "name": "stdout",
     "text": [
      "Arquivo ../../latex/mytable_extract_data_eg.tex  gerado com sucesso!\n"
     ]
    },
    {
     "output_type": "execute_result",
     "data": {
      "text/plain": [
       "   Variable    Data collected  \\\n",
       "0       DC1          Paper id   \n",
       "1       DC2           Authors   \n",
       "2       DC3             Title   \n",
       "3       DC4  Publication Year   \n",
       "4       DC5          Abstract   \n",
       "5       DC6             Venue   \n",
       "6       DC7    Field of Venue   \n",
       "7       DC8         Key words   \n",
       "8       DC9   Paper main goal   \n",
       "9      DC10     Research Type   \n",
       "10     DC11               RQ1   \n",
       "11     DC12               RQ2   \n",
       "12     DC13               RQ3   \n",
       "13     DC14               RQ4   \n",
       "14     DC15               RQ5   \n",
       "\n",
       "                                                                                    Goal  \n",
       "0                                                                        Unique id paper  \n",
       "1                                                               Main author and colegues  \n",
       "2                                                                         Title of paper  \n",
       "3                                                              Year of Paper Publication  \n",
       "4                                                                         Paper Abstract  \n",
       "5                                        Venue the the paper was presented or publishide  \n",
       "6                                                                    Main field of paper  \n",
       "7                                                                        Paper key words  \n",
       "8                                                      Summary of main idea of the paper  \n",
       "9   Research type: Evaluation, Validation, Solution proposal, philosophical paper, other  \n",
       "10                                                              What is the type of ATD?  \n",
       "11                                                               How to measure the ATD?  \n",
       "12                                              How to monitor ATD in Software projects?  \n",
       "13      What are the techniques and tools are used to identify ATD in software projects?  \n",
       "14                                                                 How to calculate ATD?  "
      ],
      "text/html": "<div>\n<style scoped>\n    .dataframe tbody tr th:only-of-type {\n        vertical-align: middle;\n    }\n\n    .dataframe tbody tr th {\n        vertical-align: top;\n    }\n\n    .dataframe thead th {\n        text-align: right;\n    }\n</style>\n<table border=\"1\" class=\"dataframe\">\n  <thead>\n    <tr style=\"text-align: right;\">\n      <th></th>\n      <th>Variable</th>\n      <th>Data collected</th>\n      <th>Goal</th>\n    </tr>\n  </thead>\n  <tbody>\n    <tr>\n      <th>0</th>\n      <td>DC1</td>\n      <td>Paper id</td>\n      <td>Unique id paper</td>\n    </tr>\n    <tr>\n      <th>1</th>\n      <td>DC2</td>\n      <td>Authors</td>\n      <td>Main author and colegues</td>\n    </tr>\n    <tr>\n      <th>2</th>\n      <td>DC3</td>\n      <td>Title</td>\n      <td>Title of paper</td>\n    </tr>\n    <tr>\n      <th>3</th>\n      <td>DC4</td>\n      <td>Publication Year</td>\n      <td>Year of Paper Publication</td>\n    </tr>\n    <tr>\n      <th>4</th>\n      <td>DC5</td>\n      <td>Abstract</td>\n      <td>Paper Abstract</td>\n    </tr>\n    <tr>\n      <th>5</th>\n      <td>DC6</td>\n      <td>Venue</td>\n      <td>Venue the the paper was presented or publishide</td>\n    </tr>\n    <tr>\n      <th>6</th>\n      <td>DC7</td>\n      <td>Field of Venue</td>\n      <td>Main field of paper</td>\n    </tr>\n    <tr>\n      <th>7</th>\n      <td>DC8</td>\n      <td>Key words</td>\n      <td>Paper key words</td>\n    </tr>\n    <tr>\n      <th>8</th>\n      <td>DC9</td>\n      <td>Paper main goal</td>\n      <td>Summary of main idea of the paper</td>\n    </tr>\n    <tr>\n      <th>9</th>\n      <td>DC10</td>\n      <td>Research Type</td>\n      <td>Research type: Evaluation, Validation, Solution proposal, philosophical paper, other</td>\n    </tr>\n    <tr>\n      <th>10</th>\n      <td>DC11</td>\n      <td>RQ1</td>\n      <td>What is the type of ATD?</td>\n    </tr>\n    <tr>\n      <th>11</th>\n      <td>DC12</td>\n      <td>RQ2</td>\n      <td>How to measure the ATD?</td>\n    </tr>\n    <tr>\n      <th>12</th>\n      <td>DC13</td>\n      <td>RQ3</td>\n      <td>How to monitor ATD in Software projects?</td>\n    </tr>\n    <tr>\n      <th>13</th>\n      <td>DC14</td>\n      <td>RQ4</td>\n      <td>What are the techniques and tools are used to identify ATD in software projects?</td>\n    </tr>\n    <tr>\n      <th>14</th>\n      <td>DC15</td>\n      <td>RQ5</td>\n      <td>How to calculate ATD?</td>\n    </tr>\n  </tbody>\n</table>\n</div>"
     },
     "metadata": {},
     "execution_count": 120
    }
   ],
   "source": [
    "my_data_extraction_form_eg = {'Variable' : ['DC1', 'DC2', 'DC3', 'DC4', 'DC5', 'DC6', 'DC7', 'DC8', 'DC9', 'DC10', 'DC11', 'DC12', 'DC13', 'DC14', 'DC15'],\n",
    "  'Data collected' : ['Paper id' , 'Authors', 'Title', 'Publication Year', 'Abstract','Venue', 'Field of Venue', 'Key words', 'Paper main goal', 'Research Type', 'RQ1', 'RQ2', 'RQ3', 'RQ4', 'RQ5'],\n",
    "    'Goal' : ['Unique id paper' , 'Main author and colegues', 'Title of paper', 'Year of Paper Publication',\n",
    "                   'Paper Abstract', 'Venue the the paper was presented or publishide', 'Main field of paper', 'Paper key words','Summary of main idea of the paper', 'Research type: Evaluation, Validation, Solution proposal, philosophical paper, other', 'What is the type of ATD?', 'How to measure the ATD?', 'How to monitor ATD in Software projects?', 'What are the techniques and tools are used to identify ATD in software projects?', 'How to calculate ATD?']\n",
    "}\n",
    "my_data_extraction_form_eg_id = list(range(1,len(my_data_extraction_form_eg['Variable'])+1))\n",
    "\n",
    "df_my_data_extraction_form_eg = pd.DataFrame(data=my_data_extraction_form_eg, index=my_data_extraction_form_eg_id)\n",
    "df_my_data_extraction_form_eg.reset_index(drop=True, inplace=True)\n",
    "\n",
    "util.create_latex_table(my_df=df_my_data_extraction_form_eg, my_path='../../latex', my_file_name='mytable_extract_data_eg.tex')\n",
    "\n",
    "df_my_data_extraction_form_eg"
   ]
  },
  {
   "cell_type": "code",
   "execution_count": 121,
   "metadata": {},
   "outputs": [
    {
     "output_type": "execute_result",
     "data": {
      "text/plain": [
       "84"
      ]
     },
     "metadata": {},
     "execution_count": 121
    }
   ],
   "source": [
    "teste = 'Research type: Evaluation, Validation, Solution proposal, philosophical paper, other'\n",
    "len(teste)"
   ]
  },
  {
   "source": [
    "# 3.1) List of Venues"
   ],
   "cell_type": "markdown",
   "metadata": {}
  },
  {
   "cell_type": "code",
   "execution_count": 122,
   "metadata": {},
   "outputs": [],
   "source": [
    "# Clean Name of Venue\n",
    "i = 0\n",
    "for each in df_sms_extraction['Name of Venue']: \n",
    "    temp = df_sms_extraction['Name of Venue'].iloc[i]\n",
    "    df_sms_extraction['Name of Venue'].iloc[i] = ' '.join(temp.split())\n",
    "    i = i + 1\n",
    "\n",
    "# Create a auxiliar Dataframe Name of Venue group by Name of Venue\n",
    "list_of_venues = []\n",
    "for item in list(df_sms_extraction['Name of Venue']): \n",
    "    item = ' '.join(item.split())\n",
    "    list_of_venues.append(item)\n",
    "list_of_venues.sort()\n",
    "\n",
    "list_of_most_common_venues = Counter(list_of_venues).most_common()\n",
    "\n",
    "venue = []\n",
    "count = []\n",
    "for each in list_of_most_common_venues: \n",
    "    venue.append(each[0])\n",
    "    count.append(each[1])\n",
    "my_venues = {'venue': venue, 'count':count}\n",
    "my_venues\n",
    "\n",
    "my_venue_id = list(range(1,len(list_of_most_common_venues)+1))\n",
    "my_venue_id\n",
    "\n",
    "df_my_venues = pd.DataFrame(data=my_venues, index=my_venue_id)\n",
    "df_my_venues.reset_index(drop=True, inplace=True)\n",
    "df_my_venues['sp'] = None"
   ]
  },
  {
   "cell_type": "code",
   "execution_count": 123,
   "metadata": {
    "tags": []
   },
   "outputs": [
    {
     "output_type": "stream",
     "name": "stdout",
     "text": [
      "Arquivo ../../latex/mytable_venues.tex  gerado com sucesso!\n"
     ]
    },
    {
     "output_type": "execute_result",
     "data": {
      "text/plain": [
       "                                                                                   venue  \\\n",
       "0                 Euromicro Conference on Software Engineering and Advanced Applications   \n",
       "1                                  International Conference on Technical Debt (TechDebt)   \n",
       "2                                       International Conference on Software Engineering   \n",
       "3                                International Workshop on Managing Technical Debt (MTD)   \n",
       "4                                           European Conference on Software Architecture   \n",
       "5                 International Conference on Software Maintenance and Evolution (ICSME)   \n",
       "6                                           Asia Pacific Software Engineering Conference   \n",
       "7                                                     Conference on Software Achitecture   \n",
       "8   Conference on Software Architecture and European Conference on Software Architecture   \n",
       "9                                                EE Transactions on Software Engineering   \n",
       "10                                                                         IEEE Software   \n",
       "11                                           Information and Software Technology Journal   \n",
       "12                      International Conference on Automated Software Engineering (ASE)   \n",
       "13                   International Conference on Mobile Software Engineering and Systems   \n",
       "14            International Conference on Software Analysis, Evolution and Reengineering   \n",
       "15                  International Conference on Software Architecture Companion (ICSA-C)   \n",
       "16                   International Conference on Software Architecture Workshops (ICSAW)   \n",
       "17                            International Conference on Software Engineering Companion   \n",
       "18    International Conference on Software Engineering: Software Engineering in Practice   \n",
       "19                        International Conference on Software Maintenance and Evolution   \n",
       "20                               International Conference on Software and System Process   \n",
       "21                       International Conference on Systems, Man, and Cybernetics (SMC)   \n",
       "22                      International Workshop on Bringing Architectural Design Thinking   \n",
       "23                                            Jornal Information and Software Technology   \n",
       "24                                            Journal of Software: Evolution and Process   \n",
       "25                                                       Journal of Systems and Software   \n",
       "26                                                             Springer Nature Singapore   \n",
       "27                                                        Symposium on Applied Computing   \n",
       "28                                          TRANSACTIONS ON COMPUTATIONAL SOCIAL SYSTEMS   \n",
       "29             international ACM Sigsoft conference on Quality of software architectures   \n",
       "\n",
       "    count                                   sp  \n",
       "0       6   [SP3, SP4, SP15, SP16, SP20, SP24]  \n",
       "1       6  [SP1, SP11, SP23, SP31, SP42, SP44]  \n",
       "2       3                    [SP9, SP19, SP37]  \n",
       "3       3                   [SP25, SP26, SP33]  \n",
       "4       2                         [SP17, SP29]  \n",
       "5       2                         [SP28, SP38]  \n",
       "6       1                               [SP34]  \n",
       "7       1                               [SP14]  \n",
       "8       1                               [SP22]  \n",
       "9       1                               [SP30]  \n",
       "10      1                               [SP40]  \n",
       "11      1                               [SP36]  \n",
       "12      1                                [SP6]  \n",
       "13      1                               [SP10]  \n",
       "14      1                               [SP43]  \n",
       "15      1                               [SP21]  \n",
       "16      1                               [SP45]  \n",
       "17      1                                [SP8]  \n",
       "18      1                                [SP5]  \n",
       "19      1                               [SP32]  \n",
       "20      1                               [SP35]  \n",
       "21      1                               [SP39]  \n",
       "22      1                               [SP18]  \n",
       "23      1                                [SP2]  \n",
       "24      1                               [SP12]  \n",
       "25      1                               [SP27]  \n",
       "26      1                               [SP41]  \n",
       "27      1                               [SP13]  \n",
       "28      1                               [SP46]  \n",
       "29      1                                [SP7]  "
      ],
      "text/html": "<div>\n<style scoped>\n    .dataframe tbody tr th:only-of-type {\n        vertical-align: middle;\n    }\n\n    .dataframe tbody tr th {\n        vertical-align: top;\n    }\n\n    .dataframe thead th {\n        text-align: right;\n    }\n</style>\n<table border=\"1\" class=\"dataframe\">\n  <thead>\n    <tr style=\"text-align: right;\">\n      <th></th>\n      <th>venue</th>\n      <th>count</th>\n      <th>sp</th>\n    </tr>\n  </thead>\n  <tbody>\n    <tr>\n      <th>0</th>\n      <td>Euromicro Conference on Software Engineering and Advanced Applications</td>\n      <td>6</td>\n      <td>[SP3, SP4, SP15, SP16, SP20, SP24]</td>\n    </tr>\n    <tr>\n      <th>1</th>\n      <td>International Conference on Technical Debt (TechDebt)</td>\n      <td>6</td>\n      <td>[SP1, SP11, SP23, SP31, SP42, SP44]</td>\n    </tr>\n    <tr>\n      <th>2</th>\n      <td>International Conference on Software Engineering</td>\n      <td>3</td>\n      <td>[SP9, SP19, SP37]</td>\n    </tr>\n    <tr>\n      <th>3</th>\n      <td>International Workshop on Managing Technical Debt (MTD)</td>\n      <td>3</td>\n      <td>[SP25, SP26, SP33]</td>\n    </tr>\n    <tr>\n      <th>4</th>\n      <td>European Conference on Software Architecture</td>\n      <td>2</td>\n      <td>[SP17, SP29]</td>\n    </tr>\n    <tr>\n      <th>5</th>\n      <td>International Conference on Software Maintenance and Evolution (ICSME)</td>\n      <td>2</td>\n      <td>[SP28, SP38]</td>\n    </tr>\n    <tr>\n      <th>6</th>\n      <td>Asia Pacific Software Engineering Conference</td>\n      <td>1</td>\n      <td>[SP34]</td>\n    </tr>\n    <tr>\n      <th>7</th>\n      <td>Conference on Software Achitecture</td>\n      <td>1</td>\n      <td>[SP14]</td>\n    </tr>\n    <tr>\n      <th>8</th>\n      <td>Conference on Software Architecture and European Conference on Software Architecture</td>\n      <td>1</td>\n      <td>[SP22]</td>\n    </tr>\n    <tr>\n      <th>9</th>\n      <td>EE Transactions on Software Engineering</td>\n      <td>1</td>\n      <td>[SP30]</td>\n    </tr>\n    <tr>\n      <th>10</th>\n      <td>IEEE Software</td>\n      <td>1</td>\n      <td>[SP40]</td>\n    </tr>\n    <tr>\n      <th>11</th>\n      <td>Information and Software Technology Journal</td>\n      <td>1</td>\n      <td>[SP36]</td>\n    </tr>\n    <tr>\n      <th>12</th>\n      <td>International Conference on Automated Software Engineering (ASE)</td>\n      <td>1</td>\n      <td>[SP6]</td>\n    </tr>\n    <tr>\n      <th>13</th>\n      <td>International Conference on Mobile Software Engineering and Systems</td>\n      <td>1</td>\n      <td>[SP10]</td>\n    </tr>\n    <tr>\n      <th>14</th>\n      <td>International Conference on Software Analysis, Evolution and Reengineering</td>\n      <td>1</td>\n      <td>[SP43]</td>\n    </tr>\n    <tr>\n      <th>15</th>\n      <td>International Conference on Software Architecture Companion (ICSA-C)</td>\n      <td>1</td>\n      <td>[SP21]</td>\n    </tr>\n    <tr>\n      <th>16</th>\n      <td>International Conference on Software Architecture Workshops (ICSAW)</td>\n      <td>1</td>\n      <td>[SP45]</td>\n    </tr>\n    <tr>\n      <th>17</th>\n      <td>International Conference on Software Engineering Companion</td>\n      <td>1</td>\n      <td>[SP8]</td>\n    </tr>\n    <tr>\n      <th>18</th>\n      <td>International Conference on Software Engineering: Software Engineering in Practice</td>\n      <td>1</td>\n      <td>[SP5]</td>\n    </tr>\n    <tr>\n      <th>19</th>\n      <td>International Conference on Software Maintenance and Evolution</td>\n      <td>1</td>\n      <td>[SP32]</td>\n    </tr>\n    <tr>\n      <th>20</th>\n      <td>International Conference on Software and System Process</td>\n      <td>1</td>\n      <td>[SP35]</td>\n    </tr>\n    <tr>\n      <th>21</th>\n      <td>International Conference on Systems, Man, and Cybernetics (SMC)</td>\n      <td>1</td>\n      <td>[SP39]</td>\n    </tr>\n    <tr>\n      <th>22</th>\n      <td>International Workshop on Bringing Architectural Design Thinking</td>\n      <td>1</td>\n      <td>[SP18]</td>\n    </tr>\n    <tr>\n      <th>23</th>\n      <td>Jornal Information and Software Technology</td>\n      <td>1</td>\n      <td>[SP2]</td>\n    </tr>\n    <tr>\n      <th>24</th>\n      <td>Journal of Software: Evolution and Process</td>\n      <td>1</td>\n      <td>[SP12]</td>\n    </tr>\n    <tr>\n      <th>25</th>\n      <td>Journal of Systems and Software</td>\n      <td>1</td>\n      <td>[SP27]</td>\n    </tr>\n    <tr>\n      <th>26</th>\n      <td>Springer Nature Singapore</td>\n      <td>1</td>\n      <td>[SP41]</td>\n    </tr>\n    <tr>\n      <th>27</th>\n      <td>Symposium on Applied Computing</td>\n      <td>1</td>\n      <td>[SP13]</td>\n    </tr>\n    <tr>\n      <th>28</th>\n      <td>TRANSACTIONS ON COMPUTATIONAL SOCIAL SYSTEMS</td>\n      <td>1</td>\n      <td>[SP46]</td>\n    </tr>\n    <tr>\n      <th>29</th>\n      <td>international ACM Sigsoft conference on Quality of software architectures</td>\n      <td>1</td>\n      <td>[SP7]</td>\n    </tr>\n  </tbody>\n</table>\n</div>"
     },
     "metadata": {},
     "execution_count": 123
    }
   ],
   "source": [
    "# Add new column with Selected Papers according grouped Venue\n",
    "i = 0\n",
    "for each in df_my_venues['venue']:\n",
    "    list_sp_novo = []\n",
    "    j = 0\n",
    "    for item in df_sms_extraction['Name of Venue']:\n",
    "        if each == item: \n",
    "            list_sp_novo.append(df_sms_extraction['sp'].iloc[j])\n",
    "        j = j + 1\n",
    "    df_my_venues['sp'].iloc[i] = list_sp_novo\n",
    "    i = i + 1\n",
    "\n",
    "util.create_latex_table(my_df=df_my_venues, my_path='../../latex', my_file_name='mytable_venues.tex')\n",
    "\n",
    "df_my_venues"
   ]
  },
  {
   "source": [
    "# 3.2) Q1 (Type of ATD according Li el al. 2015)"
   ],
   "cell_type": "markdown",
   "metadata": {}
  },
  {
   "cell_type": "code",
   "execution_count": 124,
   "metadata": {},
   "outputs": [
    {
     "output_type": "stream",
     "name": "stdout",
     "text": [
      "Arquivo ../../latex/mytable_q1.tex  gerado com sucesso!\n"
     ]
    },
    {
     "output_type": "execute_result",
     "data": {
      "text/plain": [
       "                                              q1  count  \\\n",
       "0                Architectural compliance issues      8   \n",
       "1                            Architecture Smells      8   \n",
       "2          System-level structure quality issues      7   \n",
       "3                                          Other      6   \n",
       "4  Complex architectural behavioral dependencies      3   \n",
       "5     Violations of good architectural practices      2   \n",
       "\n",
       "                                               sp  \n",
       "0  [SP7, SP8, SP14, SP15, SP20, SP22, SP31, SP41]  \n",
       "1  [SP3, SP9, SP17, SP18, SP21, SP28, SP29, SP37]  \n",
       "2       [SP6, SP16, SP19, SP24, SP27, SP30, SP42]  \n",
       "3             [SP1, SP10, SP12, SP36, SP43, SP46]  \n",
       "4                                 [SP2, SP4, SP5]  \n",
       "5                                    [SP25, SP40]  "
      ],
      "text/html": "<div>\n<style scoped>\n    .dataframe tbody tr th:only-of-type {\n        vertical-align: middle;\n    }\n\n    .dataframe tbody tr th {\n        vertical-align: top;\n    }\n\n    .dataframe thead th {\n        text-align: right;\n    }\n</style>\n<table border=\"1\" class=\"dataframe\">\n  <thead>\n    <tr style=\"text-align: right;\">\n      <th></th>\n      <th>q1</th>\n      <th>count</th>\n      <th>sp</th>\n    </tr>\n  </thead>\n  <tbody>\n    <tr>\n      <th>0</th>\n      <td>Architectural compliance issues</td>\n      <td>8</td>\n      <td>[SP7, SP8, SP14, SP15, SP20, SP22, SP31, SP41]</td>\n    </tr>\n    <tr>\n      <th>1</th>\n      <td>Architecture Smells</td>\n      <td>8</td>\n      <td>[SP3, SP9, SP17, SP18, SP21, SP28, SP29, SP37]</td>\n    </tr>\n    <tr>\n      <th>2</th>\n      <td>System-level structure quality issues</td>\n      <td>7</td>\n      <td>[SP6, SP16, SP19, SP24, SP27, SP30, SP42]</td>\n    </tr>\n    <tr>\n      <th>3</th>\n      <td>Other</td>\n      <td>6</td>\n      <td>[SP1, SP10, SP12, SP36, SP43, SP46]</td>\n    </tr>\n    <tr>\n      <th>4</th>\n      <td>Complex architectural behavioral dependencies</td>\n      <td>3</td>\n      <td>[SP2, SP4, SP5]</td>\n    </tr>\n    <tr>\n      <th>5</th>\n      <td>Violations of good architectural practices</td>\n      <td>2</td>\n      <td>[SP25, SP40]</td>\n    </tr>\n  </tbody>\n</table>\n</div>"
     },
     "metadata": {},
     "execution_count": 124
    }
   ],
   "source": [
    "list_of_q1 = []\n",
    "for item in list(df_sms_extraction['Q1 Type of ATD (Based on Li et al 2015)']): \n",
    "    if not (util.isnan(item)):\n",
    "        item = ' '.join(item.split())\n",
    "        list_of_q1.append(item)\n",
    "list_of_q1.sort()\n",
    "\n",
    "list_of_most_common_q1 = Counter(list_of_q1).most_common()\n",
    "\n",
    "q1 = []\n",
    "count_q1 = []\n",
    "for each in list_of_most_common_q1: \n",
    "    q1.append(each[0])\n",
    "    count_q1.append(each[1])\n",
    "my_q1 = {'q1': q1, 'count':count_q1}\n",
    "my_q1\n",
    "\n",
    "my_q1_id = list(range(1,len(list_of_most_common_q1)+1))\n",
    "my_q1_id\n",
    "\n",
    "df_my_q1 = pd.DataFrame(data=my_q1, index=my_q1_id)\n",
    "df_my_q1.reset_index(drop=True, inplace=True)\n",
    "df_my_q1\n",
    "\n",
    "df_my_q1['sp'] = None\n",
    "\n",
    "# Add new column with Selected Papers according grouped q1\n",
    "i = 0\n",
    "for each in df_my_q1['q1']:\n",
    "    list_sp_novo = []\n",
    "    j = 0\n",
    "    for item in df_sms_extraction['Q1 Type of ATD (Based on Li et al 2015)']:\n",
    "        if each == item: \n",
    "            list_sp_novo.append(df_sms_extraction['sp'].iloc[j])\n",
    "        j = j + 1\n",
    "    df_my_q1['sp'].iloc[i] = list_sp_novo\n",
    "    i = i + 1\n",
    "\n",
    "util.create_latex_table(my_df=df_my_q1, my_path='../../latex', my_file_name='mytable_q1.tex')\n",
    "\n",
    "df_my_q1"
   ]
  },
  {
   "source": [
    "# 3.3) Q2 (Measure of ATD)"
   ],
   "cell_type": "markdown",
   "metadata": {}
  },
  {
   "source": [
    "## Papers grouped by Measure"
   ],
   "cell_type": "markdown",
   "metadata": {}
  },
  {
   "cell_type": "code",
   "execution_count": 125,
   "metadata": {},
   "outputs": [
    {
     "output_type": "stream",
     "name": "stdout",
     "text": [
      "Arquivo ../../latex/mytable_q2_distribution.tex  gerado com sucesso!\n"
     ]
    },
    {
     "output_type": "execute_result",
     "data": {
      "text/plain": [
       "               q2  count  \\\n",
       "0        Measured     34   \n",
       "1              No     12   \n",
       "2  Not applicable      0   \n",
       "\n",
       "                                                                                                                                                                                                    sp  \n",
       "0  [SP1, SP2, SP3, SP4, SP5, SP6, SP7, SP8, SP9, SP10, SP11, SP12, SP14, SP15, SP16, SP17, SP18, SP19, SP21, SP22, SP24, SP25, SP27, SP28, SP29, SP30, SP31, SP36, SP37, SP40, SP41, SP42, SP44, SP46]  \n",
       "1                                                                                                                             [SP13, SP20, SP23, SP26, SP32, SP33, SP34, SP35, SP38, SP39, SP43, SP45]  \n",
       "2                                                                                                                                                                                                   []  "
      ],
      "text/html": "<div>\n<style scoped>\n    .dataframe tbody tr th:only-of-type {\n        vertical-align: middle;\n    }\n\n    .dataframe tbody tr th {\n        vertical-align: top;\n    }\n\n    .dataframe thead th {\n        text-align: right;\n    }\n</style>\n<table border=\"1\" class=\"dataframe\">\n  <thead>\n    <tr style=\"text-align: right;\">\n      <th></th>\n      <th>q2</th>\n      <th>count</th>\n      <th>sp</th>\n    </tr>\n  </thead>\n  <tbody>\n    <tr>\n      <th>0</th>\n      <td>Measured</td>\n      <td>34</td>\n      <td>[SP1, SP2, SP3, SP4, SP5, SP6, SP7, SP8, SP9, SP10, SP11, SP12, SP14, SP15, SP16, SP17, SP18, SP19, SP21, SP22, SP24, SP25, SP27, SP28, SP29, SP30, SP31, SP36, SP37, SP40, SP41, SP42, SP44, SP46]</td>\n    </tr>\n    <tr>\n      <th>1</th>\n      <td>No</td>\n      <td>12</td>\n      <td>[SP13, SP20, SP23, SP26, SP32, SP33, SP34, SP35, SP38, SP39, SP43, SP45]</td>\n    </tr>\n    <tr>\n      <th>2</th>\n      <td>Not applicable</td>\n      <td>0</td>\n      <td>[]</td>\n    </tr>\n  </tbody>\n</table>\n</div>"
     },
     "metadata": {},
     "execution_count": 125
    }
   ],
   "source": [
    "dict_q2 = {}\n",
    "for item in zip( list(df_sms_extraction['Paper Id']), list(df_sms_extraction['Q2(Measure)']) ):\n",
    "    id = item[0]\n",
    "    if (item[1] != ''):\n",
    "        q2 = str(item[1])\n",
    "        q2 = ' '.join(q2.split())\n",
    "        dict_q2[id] = q2.lower()\n",
    "dict_q2\n",
    "\n",
    "df_distribution_q2 = util.view_question_distribution(my_dict=dict_q2, my_list=['Measured', 'No', 'Not applicable'], my_question='q2')\n",
    "df_distribution_q2['sp'] = None\n",
    "\n",
    "df_distribution_q2 = util.view_question_distribution_update_sp(my_df_distribution=df_distribution_q2, my_df_data=df_sms_extraction, my_feature='Q2(Measure)')\n",
    "\n",
    "util.create_latex_table(my_df=df_distribution_q2, my_path='../../latex', my_file_name='mytable_q2_distribution.tex')\n",
    "\n",
    "df_distribution_q2"
   ]
  },
  {
   "source": [
    "## Papers grouped by kind of measurement"
   ],
   "cell_type": "markdown",
   "metadata": {}
  },
  {
   "cell_type": "code",
   "execution_count": 126,
   "metadata": {},
   "outputs": [],
   "source": [
    "# 1) RQ2 - measurement of ATD - The measure of ATD is defined as the amount of identified ATD item\n",
    "grouped_by_measurement = [(1, 'amount of software architecture rules violated in documents'), \n",
    "(2, 'amount of complexity measures of files'), \n",
    "(3, 'amount of architecture smells'), \n",
    "(4, 'amount of architectural root'),\n",
    "(5, 'coupling of files and architecture smells'),\n",
    "(7, 'amount of hotspots'),\n",
    "(9, 'modularity metrics'),\n",
    "(10, 'amount of software architecture rules violated in documents and source code'), \n",
    "(13, 'amount of architecture smells'),\n",
    "(14, 'amount of hotspots'),\n",
    "(15, 'amount of software architecture rules violated in source code'),\n",
    "(16, 'amount of contagious debt'),\n",
    "(21, 'amount of software architecture rules violated in documents'),\n",
    "(22, 'index of crisis point'),\n",
    "(27, 'modularity metrics'), \n",
    "(30, 'amount of architecture smells'),\n",
    "(38, 'amount of architectural root and index of Decoupling Level'),\n",
    "(48, 'amount of hotspots'),\n",
    "(20, 'amount of architecture smells'),\n",
    "(33, 'amount of software architecture rules violated in documents and source code'),\n",
    "(28, 'modularity metrics'),\n",
    "(31, 'dependency of components'),\n",
    "(43, 'amount of complexity measures of files'), \n",
    "(51, 'amount of architecture smells'),\n",
    "(52, 'amount of architecture smells'),\n",
    "(63, 'other'),\n",
    "(73, 'amount of software architecture rules violated in documents and source code'),\n",
    "(35, 'index of crisis point'),\n",
    "(24, 'amount of architectural root'),\n",
    "(81, 'amount of software architecture rules violated in source code'),\n",
    "(85, 'amount of software architecture rules violated in source code'),\n",
    "(88, 'amount of software architecture rules violated in source code'),\n",
    "(40, 'amount of software architecture rules violated in documents')]"
   ]
  },
  {
   "cell_type": "code",
   "execution_count": 127,
   "metadata": {},
   "outputs": [
    {
     "output_type": "stream",
     "name": "stdout",
     "text": [
      "Arquivo ../../latex/mytable_q2_distribution_detailed.tex  gerado com sucesso!\n"
     ]
    },
    {
     "output_type": "execute_result",
     "data": {
      "text/plain": [
       "                                                                        measure  \\\n",
       "0                                                 amount of architecture smells   \n",
       "1                 amount of software architecture rules violated in source code   \n",
       "2                   amount of software architecture rules violated in documents   \n",
       "3                                                            amount of hotspots   \n",
       "4                                                            modularity metrics   \n",
       "5   amount of software architecture rules violated in documents and source code   \n",
       "6                                        amount of complexity measures of files   \n",
       "7                                                  amount of architectural root   \n",
       "8                                                         index of crisis point   \n",
       "9                                     coupling of files and architecture smells   \n",
       "10                                                    amount of contagious debt   \n",
       "11                   amount of architectural root and index of Decoupling Level   \n",
       "12                                                     dependency of components   \n",
       "13                                                                        other   \n",
       "\n",
       "    count                                  sp  \n",
       "0       6  [SP3, SP9, SP17, SP21, SP28, SP29]  \n",
       "1       4            [SP11, SP40, SP41, SP42]  \n",
       "2       3                   [SP1, SP14, SP46]  \n",
       "3       3                   [SP6, SP10, SP19]  \n",
       "4       3                   [SP7, SP16, SP24]  \n",
       "5       3                   [SP8, SP22, SP31]  \n",
       "6       2                         [SP2, SP27]  \n",
       "7       2                         [SP4, SP37]  \n",
       "8       2                        [SP15, SP36]  \n",
       "9       1                               [SP5]  \n",
       "10      1                              [SP12]  \n",
       "11      1                              [SP18]  \n",
       "12      1                              [SP25]  \n",
       "13      1                              [SP30]  "
      ],
      "text/html": "<div>\n<style scoped>\n    .dataframe tbody tr th:only-of-type {\n        vertical-align: middle;\n    }\n\n    .dataframe tbody tr th {\n        vertical-align: top;\n    }\n\n    .dataframe thead th {\n        text-align: right;\n    }\n</style>\n<table border=\"1\" class=\"dataframe\">\n  <thead>\n    <tr style=\"text-align: right;\">\n      <th></th>\n      <th>measure</th>\n      <th>count</th>\n      <th>sp</th>\n    </tr>\n  </thead>\n  <tbody>\n    <tr>\n      <th>0</th>\n      <td>amount of architecture smells</td>\n      <td>6</td>\n      <td>[SP3, SP9, SP17, SP21, SP28, SP29]</td>\n    </tr>\n    <tr>\n      <th>1</th>\n      <td>amount of software architecture rules violated in source code</td>\n      <td>4</td>\n      <td>[SP11, SP40, SP41, SP42]</td>\n    </tr>\n    <tr>\n      <th>2</th>\n      <td>amount of software architecture rules violated in documents</td>\n      <td>3</td>\n      <td>[SP1, SP14, SP46]</td>\n    </tr>\n    <tr>\n      <th>3</th>\n      <td>amount of hotspots</td>\n      <td>3</td>\n      <td>[SP6, SP10, SP19]</td>\n    </tr>\n    <tr>\n      <th>4</th>\n      <td>modularity metrics</td>\n      <td>3</td>\n      <td>[SP7, SP16, SP24]</td>\n    </tr>\n    <tr>\n      <th>5</th>\n      <td>amount of software architecture rules violated in documents and source code</td>\n      <td>3</td>\n      <td>[SP8, SP22, SP31]</td>\n    </tr>\n    <tr>\n      <th>6</th>\n      <td>amount of complexity measures of files</td>\n      <td>2</td>\n      <td>[SP2, SP27]</td>\n    </tr>\n    <tr>\n      <th>7</th>\n      <td>amount of architectural root</td>\n      <td>2</td>\n      <td>[SP4, SP37]</td>\n    </tr>\n    <tr>\n      <th>8</th>\n      <td>index of crisis point</td>\n      <td>2</td>\n      <td>[SP15, SP36]</td>\n    </tr>\n    <tr>\n      <th>9</th>\n      <td>coupling of files and architecture smells</td>\n      <td>1</td>\n      <td>[SP5]</td>\n    </tr>\n    <tr>\n      <th>10</th>\n      <td>amount of contagious debt</td>\n      <td>1</td>\n      <td>[SP12]</td>\n    </tr>\n    <tr>\n      <th>11</th>\n      <td>amount of architectural root and index of Decoupling Level</td>\n      <td>1</td>\n      <td>[SP18]</td>\n    </tr>\n    <tr>\n      <th>12</th>\n      <td>dependency of components</td>\n      <td>1</td>\n      <td>[SP25]</td>\n    </tr>\n    <tr>\n      <th>13</th>\n      <td>other</td>\n      <td>1</td>\n      <td>[SP30]</td>\n    </tr>\n  </tbody>\n</table>\n</div>"
     },
     "metadata": {},
     "execution_count": 127
    }
   ],
   "source": [
    "# 2) Add new column grouped_by_measurement\n",
    "df_sms_extraction['grouped_by_measurement'] = None\n",
    "\n",
    "# 3) Updating df_sms_extraction['grouped_by_measurement']\n",
    "for each in grouped_by_measurement:\n",
    "    j = 0\n",
    "    for item in df_sms_extraction['Paper Id']:\n",
    "        if each[0] == item: \n",
    "            df_sms_extraction['grouped_by_measurement'].iloc[j] = each[1]\n",
    "        j = j + 1\n",
    "\n",
    "# 4) Creating list_by_measurement using count \n",
    "list_by_measurement = []\n",
    "for each in grouped_by_measurement: \n",
    "    list_by_measurement.append(each[1])\n",
    "\n",
    "list_by_measurement = Counter(list_by_measurement).most_common()\n",
    "\n",
    "# 5) Creating DataFrame df_my_measure\n",
    "measure = []\n",
    "count = []\n",
    "for each in list_by_measurement: \n",
    "    measure.append(each[0])\n",
    "    count.append(each[1])\n",
    "my_measure = {'measure': measure, 'count':count}\n",
    "my_measure\n",
    "\n",
    "my_measure_id = list(range(1,len(list_by_measurement)+1))\n",
    "my_measure_id\n",
    "\n",
    "df_my_measure = pd.DataFrame(data=my_measure, index=my_measure_id)\n",
    "df_my_measure.reset_index(drop=True, inplace=True)\n",
    "df_my_measure['sp'] = None\n",
    "\n",
    "# 6) Add new column with Selected Papers according grouped measurement\n",
    "i = 0\n",
    "for each in df_my_measure['measure']:\n",
    "    list_sp_novo = []\n",
    "    j = 0\n",
    "    for item in df_sms_extraction['grouped_by_measurement']:\n",
    "        if each == item: \n",
    "            list_sp_novo.append(df_sms_extraction['sp'].iloc[j])\n",
    "        j = j + 1\n",
    "    df_my_measure['sp'].iloc[i] = list_sp_novo\n",
    "    i = i + 1\n",
    "\n",
    "# 7) Save the latex table \n",
    "util.create_latex_table(my_df=df_my_measure, my_path='../../latex', my_file_name='mytable_q2_distribution_detailed.tex')\n",
    "\n",
    "df_my_measure"
   ]
  },
  {
   "source": [
    "# 3.4) Q3 Monitoring ATD"
   ],
   "cell_type": "markdown",
   "metadata": {}
  },
  {
   "source": [
    "## Papers grouped by monitoring"
   ],
   "cell_type": "markdown",
   "metadata": {}
  },
  {
   "cell_type": "code",
   "execution_count": 128,
   "metadata": {},
   "outputs": [
    {
     "output_type": "stream",
     "name": "stdout",
     "text": [
      "Arquivo ../../latex/mytable_q3_distribution.tex  gerado com sucesso!\n"
     ]
    },
    {
     "output_type": "execute_result",
     "data": {
      "text/plain": [
       "               q3  count  \\\n",
       "0      Monitoring     24   \n",
       "1              No     22   \n",
       "2  Not applicable      0   \n",
       "\n",
       "                                                                                                                                        sp  \n",
       "0  [SP1, SP2, SP3, SP4, SP5, SP6, SP7, SP8, SP9, SP11, SP12, SP14, SP15, SP16, SP17, SP18, SP19, SP21, SP22, SP25, SP28, SP30, SP36, SP37]  \n",
       "1     [SP10, SP13, SP20, SP23, SP24, SP26, SP27, SP29, SP31, SP32, SP33, SP34, SP35, SP38, SP39, SP40, SP41, SP42, SP43, SP44, SP45, SP46]  \n",
       "2                                                                                                                                       []  "
      ],
      "text/html": "<div>\n<style scoped>\n    .dataframe tbody tr th:only-of-type {\n        vertical-align: middle;\n    }\n\n    .dataframe tbody tr th {\n        vertical-align: top;\n    }\n\n    .dataframe thead th {\n        text-align: right;\n    }\n</style>\n<table border=\"1\" class=\"dataframe\">\n  <thead>\n    <tr style=\"text-align: right;\">\n      <th></th>\n      <th>q3</th>\n      <th>count</th>\n      <th>sp</th>\n    </tr>\n  </thead>\n  <tbody>\n    <tr>\n      <th>0</th>\n      <td>Monitoring</td>\n      <td>24</td>\n      <td>[SP1, SP2, SP3, SP4, SP5, SP6, SP7, SP8, SP9, SP11, SP12, SP14, SP15, SP16, SP17, SP18, SP19, SP21, SP22, SP25, SP28, SP30, SP36, SP37]</td>\n    </tr>\n    <tr>\n      <th>1</th>\n      <td>No</td>\n      <td>22</td>\n      <td>[SP10, SP13, SP20, SP23, SP24, SP26, SP27, SP29, SP31, SP32, SP33, SP34, SP35, SP38, SP39, SP40, SP41, SP42, SP43, SP44, SP45, SP46]</td>\n    </tr>\n    <tr>\n      <th>2</th>\n      <td>Not applicable</td>\n      <td>0</td>\n      <td>[]</td>\n    </tr>\n  </tbody>\n</table>\n</div>"
     },
     "metadata": {},
     "execution_count": 128
    }
   ],
   "source": [
    "dict_q3 = {}\n",
    "for item in zip( list(df_sms_extraction['Paper Id']), list(df_sms_extraction['Q3(Monitoring)']) ):\n",
    "    id = item[0]\n",
    "    if (item[1] != ''):\n",
    "        q3 = str(item[1])\n",
    "        q3 = ' '.join(q3.split())\n",
    "        dict_q3[id] = q3.lower()\n",
    "\n",
    "df_distribution_q3 = util.view_question_distribution(my_dict=dict_q3, my_list=['Monitoring', 'No', 'Not applicable'], my_question='q3')\n",
    "df_distribution_q3['sp'] = None\n",
    "\n",
    "df_distribution_q3 = util.view_question_distribution_update_sp(my_df_distribution=df_distribution_q3, my_df_data=df_sms_extraction, my_feature='Q3(Monitoring)')\n",
    "\n",
    "util.create_latex_table(my_df=df_distribution_q3, my_path='../../latex', my_file_name='mytable_q3_distribution.tex')\n",
    "\n",
    "df_distribution_q3"
   ]
  },
  {
   "cell_type": "code",
   "execution_count": 129,
   "metadata": {
    "tags": []
   },
   "outputs": [
    {
     "output_type": "stream",
     "name": "stdout",
     "text": [
      "Papers that monitoring ATD 24 - List of papers: ['A Proposed Model-driven Approach to Manage Architectural Technical Debt Life Cycle \\n', 'A semi-automated framework for the identification and estimation of Architectural Technical Debt: A comparative case-study on the modularization of a software component ', 'Towards an Architectural Debt Index', 'A Case Study of the Effects of Architecture Debt on Software Evolution Effort ', 'A Longitudinal Study of Identifying and Paying Down architecture debt ', 'Active Hotspot: An Issue-Oriented Model to Monitor Software Evolution and Degradation ', 'An  Empirical Investigation of Modularity Metrics for Indicating architectural technical debt', 'An Empirically Developed Method to Aid Decisions on Architectural Technical Debt Refactoring: AnaConDebt ', 'Identifying and Quantifying Architectural Debt ', 'Identifying Architectural Technical Debt in Android Applications through Automated Compliance Checking ', 'Mitigating Technical and Architectural Debt with Sonargraph Using static analysis to enforce architectural constraints ', 'On the interest of architectural technical debt: Uncovering the contagious debt phenomenon ', 'Tool support for evaluating architectural debt of an existing system: An experience report ', 'Architectural Technical Debt Identification based on Architecture Decisions and Change Scenarios ', 'Architecture Technical Debt: Understanding Causes and a Qualitative Model ', 'Estimating and Quantifying the Benefits of Refactoring to Improve a Component Modularity: a Case Study ', 'Identifying and Prioritizing Architectural Debt Through Architectural Smells: A Case Study in a Large Software Company', 'Software Architecture Health Monitor', 'A Case Study in Locating the Architectural Roots of Technical Debt', 'Towards Prioritizing Architecture Technical Debt: Information Needs of Architects and Product Owners ', 'Applying Social Network Analysis Techniques to Architectural Smell Prediction ', 'In Search of a Metric for Managing Architectural Technical Debt \\n', 'DV8: Automated Architecture Analysis Tool Suites ', 'Exploring the Relationship between Software Modularity and Technical Debt ']\n"
     ]
    }
   ],
   "source": [
    "df_distribution_monitoring = df_distribution_q3\n",
    "papers_atd_monitored = df_distribution_monitoring['sp'][0]\n",
    "\n",
    "list_title_papers_atd_monitored = []\n",
    "\n",
    "i = 0\n",
    "for each in papers_atd_monitored: \n",
    "    j = 0 \n",
    "    for item in df_my_data_papers['sp']: \n",
    "        if (each == df_my_data_papers['sp'].iloc[j]):\n",
    "            list_title_papers_atd_monitored.append(df_my_data_papers['Title'].iloc[i])\n",
    "        j = j + 1\n",
    "    i = i + 1\n",
    "\n",
    "print('Papers that monitoring ATD {} - List of papers: {}'.format(len(list_title_papers_atd_monitored), list_title_papers_atd_monitored))"
   ]
  },
  {
   "cell_type": "code",
   "execution_count": 130,
   "metadata": {},
   "outputs": [
    {
     "output_type": "execute_result",
     "data": {
      "text/plain": [
       "   Paper Id   sp            Citation  \\\n",
       "0         1  SP1   Perez et al. 2019   \n",
       "1         2  SP2  Martini et al 2017   \n",
       "2         3  SP3  Roveda et al. 2018   \n",
       "\n",
       "                                                                                                                                                                       Title  \\\n",
       "0                                                                                      A Proposed Model-driven Approach to Manage Architectural Technical Debt Life Cycle \\n   \n",
       "1  A semi-automated framework for the identification and estimation of Architectural Technical Debt: A comparative case-study on the modularization of a software component    \n",
       "2                                                                                                                                        Towards an Architectural Debt Index   \n",
       "\n",
       "                                                                                           Q3(Monitoring)  \n",
       "0    The method performed a monitoring process for each release planning evaluated during the case study.  \n",
       "1  The framework performed a monitoring process for each release version evaluated during the case study.  \n",
       "2                           The method performed a monitoring for each version analysed during the study.  "
      ],
      "text/html": "<div>\n<style scoped>\n    .dataframe tbody tr th:only-of-type {\n        vertical-align: middle;\n    }\n\n    .dataframe tbody tr th {\n        vertical-align: top;\n    }\n\n    .dataframe thead th {\n        text-align: right;\n    }\n</style>\n<table border=\"1\" class=\"dataframe\">\n  <thead>\n    <tr style=\"text-align: right;\">\n      <th></th>\n      <th>Paper Id</th>\n      <th>sp</th>\n      <th>Citation</th>\n      <th>Title</th>\n      <th>Q3(Monitoring)</th>\n    </tr>\n  </thead>\n  <tbody>\n    <tr>\n      <th>0</th>\n      <td>1</td>\n      <td>SP1</td>\n      <td>Perez et al. 2019</td>\n      <td>A Proposed Model-driven Approach to Manage Architectural Technical Debt Life Cycle \\n</td>\n      <td>The method performed a monitoring process for each release planning evaluated during the case study.</td>\n    </tr>\n    <tr>\n      <th>1</th>\n      <td>2</td>\n      <td>SP2</td>\n      <td>Martini et al 2017</td>\n      <td>A semi-automated framework for the identification and estimation of Architectural Technical Debt: A comparative case-study on the modularization of a software component</td>\n      <td>The framework performed a monitoring process for each release version evaluated during the case study.</td>\n    </tr>\n    <tr>\n      <th>2</th>\n      <td>3</td>\n      <td>SP3</td>\n      <td>Roveda et al. 2018</td>\n      <td>Towards an Architectural Debt Index</td>\n      <td>The method performed a monitoring for each version analysed during the study.</td>\n    </tr>\n  </tbody>\n</table>\n</div>"
     },
     "metadata": {},
     "execution_count": 130
    }
   ],
   "source": [
    "query_list_of_papers_atd_monitored = 'sp in ' + str(papers_atd_monitored)\n",
    "df_distribution_papers_monitored = df_sms_extraction[['Paper Id', 'sp', 'Citation', 'Title', 'Q3(Monitoring)']].query(query_list_of_papers_atd_monitored)\n",
    "\n",
    "df_distribution_papers_monitored.head(3)"
   ]
  },
  {
   "source": [
    "## Papers grouped by Kind of Monitoring"
   ],
   "cell_type": "markdown",
   "metadata": {}
  },
  {
   "cell_type": "code",
   "execution_count": 131,
   "metadata": {},
   "outputs": [
    {
     "output_type": "execute_result",
     "data": {
      "text/plain": [
       "[(1,\n",
       "  'The method performed a monitoring process for each release planning evaluated during the case study.'),\n",
       " (2,\n",
       "  'The framework performed a monitoring process for each release version evaluated during the case study.'),\n",
       " (3,\n",
       "  'The method performed a monitoring for each version analysed during the study.')]"
      ]
     },
     "metadata": {},
     "execution_count": 131
    }
   ],
   "source": [
    "list_of_my_tuple_of_monitored_papers = []\n",
    "for each in df_distribution_papers_monitored[['Paper Id', 'sp', 'Q3(Monitoring)']].values: \n",
    "    list_of_my_tuple_of_monitored_papers.append((each[0], each[2]))\n",
    "\n",
    "list_of_my_tuple_of_monitored_papers[0:3]"
   ]
  },
  {
   "cell_type": "code",
   "execution_count": 132,
   "metadata": {},
   "outputs": [],
   "source": [
    "temp_list_tuple_id_monitored = [(1, 'For each release plan'),\n",
    " (2, 'For each release plan'),\n",
    " (3, 'For each version analysed'),\n",
    " (4, 'For each revision history'),\n",
    " (5, 'For each release analysed'),\n",
    " (7, 'For each revision history and issues related to version'),\n",
    " (9, 'For each revision history'),\n",
    " (10, 'For each release analysed'),\n",
    " (13, 'For each release analysed'),\n",
    " (15, 'For each revision history and issues related to version'),\n",
    " (16, 'For each release analysed'),\n",
    " (21, 'For each release analysed'),\n",
    " (22, 'For each release plan'),\n",
    " (27, 'For each release analysed'),\n",
    " (30, 'For each release analysed'),\n",
    " (38, 'For each version analysed'),\n",
    " (48, 'For each release analysed'),\n",
    " (20, 'For each release analysed'),\n",
    " (33, 'For each release analysed'),\n",
    " (31, 'For each release plan'),\n",
    " (51, 'For each release analysed'),\n",
    " (63, 'For each release analysed'),\n",
    " (35, 'Other'),\n",
    " (24, 'For each release analysed')]"
   ]
  },
  {
   "cell_type": "code",
   "execution_count": 133,
   "metadata": {},
   "outputs": [
    {
     "output_type": "stream",
     "name": "stdout",
     "text": [
      "Arquivo ../../latex/mytable_q3_distribution_detailed.tex  gerado com sucesso!\n"
     ]
    },
    {
     "output_type": "execute_result",
     "data": {
      "text/plain": [
       "                                                monitoring  count  \\\n",
       "0                                For each release analysed     13   \n",
       "1                                    For each release plan      4   \n",
       "2                                For each version analysed      2   \n",
       "3                                For each revision history      2   \n",
       "4  For each revision history and issues related to version      2   \n",
       "5                                                    Other      1   \n",
       "\n",
       "                                                                            sp  \n",
       "0  [SP5, SP8, SP9, SP12, SP14, SP16, SP17, SP19, SP21, SP22, SP28, SP30, SP37]  \n",
       "1                                                       [SP1, SP2, SP15, SP25]  \n",
       "2                                                                  [SP3, SP18]  \n",
       "3                                                                   [SP4, SP7]  \n",
       "4                                                                  [SP6, SP11]  \n",
       "5                                                                       [SP36]  "
      ],
      "text/html": "<div>\n<style scoped>\n    .dataframe tbody tr th:only-of-type {\n        vertical-align: middle;\n    }\n\n    .dataframe tbody tr th {\n        vertical-align: top;\n    }\n\n    .dataframe thead th {\n        text-align: right;\n    }\n</style>\n<table border=\"1\" class=\"dataframe\">\n  <thead>\n    <tr style=\"text-align: right;\">\n      <th></th>\n      <th>monitoring</th>\n      <th>count</th>\n      <th>sp</th>\n    </tr>\n  </thead>\n  <tbody>\n    <tr>\n      <th>0</th>\n      <td>For each release analysed</td>\n      <td>13</td>\n      <td>[SP5, SP8, SP9, SP12, SP14, SP16, SP17, SP19, SP21, SP22, SP28, SP30, SP37]</td>\n    </tr>\n    <tr>\n      <th>1</th>\n      <td>For each release plan</td>\n      <td>4</td>\n      <td>[SP1, SP2, SP15, SP25]</td>\n    </tr>\n    <tr>\n      <th>2</th>\n      <td>For each version analysed</td>\n      <td>2</td>\n      <td>[SP3, SP18]</td>\n    </tr>\n    <tr>\n      <th>3</th>\n      <td>For each revision history</td>\n      <td>2</td>\n      <td>[SP4, SP7]</td>\n    </tr>\n    <tr>\n      <th>4</th>\n      <td>For each revision history and issues related to version</td>\n      <td>2</td>\n      <td>[SP6, SP11]</td>\n    </tr>\n    <tr>\n      <th>5</th>\n      <td>Other</td>\n      <td>1</td>\n      <td>[SP36]</td>\n    </tr>\n  </tbody>\n</table>\n</div>"
     },
     "metadata": {},
     "execution_count": 133
    }
   ],
   "source": [
    "# 1) Add new column grouped_by_monitoring\n",
    "df_sms_extraction['grouped_by_monitoring'] = None\n",
    "\n",
    "grouped_by_monitoring = temp_list_tuple_id_monitored\n",
    "# 2) Updating df_sms_extraction['grouped_by_monitoring']\n",
    "for each in grouped_by_monitoring:\n",
    "    j = 0\n",
    "    for item in df_sms_extraction['Paper Id']:\n",
    "        if each[0] == item: \n",
    "            df_sms_extraction['grouped_by_monitoring'].iloc[j] = each[1]\n",
    "        j = j + 1\n",
    "\n",
    "# 3) Creating list_by_monitoring using count \n",
    "list_by_monitoring = []\n",
    "for each in grouped_by_monitoring: \n",
    "    list_by_monitoring.append(each[1])\n",
    "\n",
    "list_by_monitoring = Counter(list_by_monitoring).most_common()\n",
    "\n",
    "# 5) Creating DataFrame df_my_monitoring\n",
    "monitoring = []\n",
    "count = []\n",
    "for each in list_by_monitoring: \n",
    "    monitoring.append(each[0])\n",
    "    count.append(each[1])\n",
    "my_monitoring = {'monitoring': monitoring, 'count':count}\n",
    "my_monitoring\n",
    "\n",
    "my_monitoring_id = list(range(1,len(list_by_monitoring)+1))\n",
    "my_monitoring_id\n",
    "\n",
    "df_my_monitoring = pd.DataFrame(data=my_monitoring, index=my_monitoring_id)\n",
    "df_my_monitoring.reset_index(drop=True, inplace=True)\n",
    "df_my_monitoring['sp'] = None\n",
    "\n",
    "# 5) Add new column with Selected Papers according grouped monitoring\n",
    "i = 0\n",
    "for each in df_my_monitoring['monitoring']:\n",
    "    list_sp_novo = []\n",
    "    j = 0\n",
    "    for item in df_sms_extraction['grouped_by_monitoring']:\n",
    "        if each == item: \n",
    "            list_sp_novo.append(df_sms_extraction['sp'].iloc[j])\n",
    "        j = j + 1\n",
    "    df_my_monitoring['sp'].iloc[i] = list_sp_novo\n",
    "    i = i + 1\n",
    "\n",
    "# 6) Save the latex table \n",
    "util.create_latex_table(my_df=df_my_monitoring, my_path='../../latex', my_file_name='mytable_q3_distribution_detailed.tex')\n",
    "\n",
    "df_my_monitoring"
   ]
  },
  {
   "source": [
    "# 3.5) Q4 Tools and Methods"
   ],
   "cell_type": "markdown",
   "metadata": {}
  },
  {
   "cell_type": "code",
   "execution_count": 134,
   "metadata": {},
   "outputs": [],
   "source": [
    "## TBD..."
   ]
  },
  {
   "source": [
    "# 3.6) Q5 Calculat the cost"
   ],
   "cell_type": "markdown",
   "metadata": {}
  },
  {
   "source": [
    "## Papers grouped by calculus"
   ],
   "cell_type": "markdown",
   "metadata": {}
  },
  {
   "cell_type": "code",
   "execution_count": 135,
   "metadata": {},
   "outputs": [
    {
     "output_type": "stream",
     "name": "stdout",
     "text": [
      "Arquivo ../../latex/mytable_q5_distribution.tex  gerado com sucesso!\n"
     ]
    },
    {
     "output_type": "execute_result",
     "data": {
      "text/plain": [
       "                   q5  count  \\\n",
       "0  Calculate the cost     23   \n",
       "1                  No     23   \n",
       "2      Not applicable      0   \n",
       "\n",
       "                                                                                                                                          sp  \n",
       "0         [SP1, SP2, SP4, SP5, SP6, SP7, SP8, SP9, SP12, SP14, SP15, SP16, SP17, SP18, SP19, SP22, SP25, SP27, SP31, SP36, SP37, SP40, SP46]  \n",
       "1  [SP3, SP10, SP11, SP13, SP20, SP21, SP23, SP24, SP26, SP28, SP29, SP30, SP32, SP33, SP34, SP35, SP38, SP39, SP41, SP42, SP43, SP44, SP45]  \n",
       "2                                                                                                                                         []  "
      ],
      "text/html": "<div>\n<style scoped>\n    .dataframe tbody tr th:only-of-type {\n        vertical-align: middle;\n    }\n\n    .dataframe tbody tr th {\n        vertical-align: top;\n    }\n\n    .dataframe thead th {\n        text-align: right;\n    }\n</style>\n<table border=\"1\" class=\"dataframe\">\n  <thead>\n    <tr style=\"text-align: right;\">\n      <th></th>\n      <th>q5</th>\n      <th>count</th>\n      <th>sp</th>\n    </tr>\n  </thead>\n  <tbody>\n    <tr>\n      <th>0</th>\n      <td>Calculate the cost</td>\n      <td>23</td>\n      <td>[SP1, SP2, SP4, SP5, SP6, SP7, SP8, SP9, SP12, SP14, SP15, SP16, SP17, SP18, SP19, SP22, SP25, SP27, SP31, SP36, SP37, SP40, SP46]</td>\n    </tr>\n    <tr>\n      <th>1</th>\n      <td>No</td>\n      <td>23</td>\n      <td>[SP3, SP10, SP11, SP13, SP20, SP21, SP23, SP24, SP26, SP28, SP29, SP30, SP32, SP33, SP34, SP35, SP38, SP39, SP41, SP42, SP43, SP44, SP45]</td>\n    </tr>\n    <tr>\n      <th>2</th>\n      <td>Not applicable</td>\n      <td>0</td>\n      <td>[]</td>\n    </tr>\n  </tbody>\n</table>\n</div>"
     },
     "metadata": {},
     "execution_count": 135
    }
   ],
   "source": [
    "dict_q5 = {}\n",
    "for item in zip( list(df_sms_extraction['Paper Id']), list(df_sms_extraction['Q5(calculate the cost)']) ):\n",
    "    id = item[0]\n",
    "    if (item[1] != ''):\n",
    "        q5 = str(item[1])\n",
    "        q5 = ' '.join(q5.split())\n",
    "        dict_q5[id] = q5.lower()\n",
    "\n",
    "df_distribution_q5 = util.view_question_distribution(my_dict=dict_q5, my_list=['Calculate the cost', 'No', 'Not applicable'], my_question='q5')\n",
    "df_distribution_q5['sp'] = None\n",
    "\n",
    "df_distribution_q5 = util.view_question_distribution_update_sp(my_df_distribution=df_distribution_q5, my_df_data=df_sms_extraction, my_feature='Q5(calculate the cost)')\n",
    "\n",
    "util.create_latex_table(my_df=df_distribution_q5, my_path='../../latex', my_file_name='mytable_q5_distribution.tex')\n",
    "\n",
    "df_distribution_q5"
   ]
  },
  {
   "source": [
    "## Papers grouped by kind of calculus"
   ],
   "cell_type": "markdown",
   "metadata": {}
  },
  {
   "cell_type": "code",
   "execution_count": 136,
   "metadata": {},
   "outputs": [
    {
     "output_type": "execute_result",
     "data": {
      "text/plain": [
       "   Paper Id   sp            Citation  \\\n",
       "0         1  SP1   Perez et al. 2019   \n",
       "1         2  SP2  Martini et al 2017   \n",
       "3         4  SP4  Snipes et al. 2018   \n",
       "\n",
       "                                                                                                                                                                       Title  \\\n",
       "0                                                                                      A Proposed Model-driven Approach to Manage Architectural Technical Debt Life Cycle \\n   \n",
       "1  A semi-automated framework for the identification and estimation of Architectural Technical Debt: A comparative case-study on the modularization of a software component    \n",
       "3                                                                                             A Case Study of the Effects of Architecture Debt on Software Evolution Effort    \n",
       "\n",
       "                                                                                                                                                                                                                                                Q2(Measure)  \\\n",
       "0  REBEL focuses on finding ATD items at architecture level only (documents), measuring the impact of its repayment strategy based on architecture decisions and allowing the debt to be anticipated or corrected before the implementation process begins.   \n",
       "1                                                                                                                                                                                                                              Complexity measures of files   \n",
       "3                                                                                                                                                                                                                                        Architectural Root   \n",
       "\n",
       "                                        grouped_by_measurement  \\\n",
       "0  amount of software architecture rules violated in documents   \n",
       "1                       amount of complexity measures of files   \n",
       "3                                 amount of architectural root   \n",
       "\n",
       "                                                                                                                                                                                                                                           Q5(calculate the cost)  \n",
       "0  Yes. The amount of architectural decisions impacted by the ATD item is 3. This way, Impact = 3 * 5 * (3*3) = 135. If our ATD repayment strategy would not affect other decisions, the Impact would be I = 3 * 1 * (1*3) = 9. From these results, software a...  \n",
       "1                                                                                                                                Developer Work Months (DWM). DWM is defined in this study as the amount of effort one developer generates each month.  Man-hours  \n",
       "3                                                                   The method proposed can calculate the expected effort spent on the amount of files in detected architecture roots during the analysed cycle in X staff-days to fix the ATD items identified.   "
      ],
      "text/html": "<div>\n<style scoped>\n    .dataframe tbody tr th:only-of-type {\n        vertical-align: middle;\n    }\n\n    .dataframe tbody tr th {\n        vertical-align: top;\n    }\n\n    .dataframe thead th {\n        text-align: right;\n    }\n</style>\n<table border=\"1\" class=\"dataframe\">\n  <thead>\n    <tr style=\"text-align: right;\">\n      <th></th>\n      <th>Paper Id</th>\n      <th>sp</th>\n      <th>Citation</th>\n      <th>Title</th>\n      <th>Q2(Measure)</th>\n      <th>grouped_by_measurement</th>\n      <th>Q5(calculate the cost)</th>\n    </tr>\n  </thead>\n  <tbody>\n    <tr>\n      <th>0</th>\n      <td>1</td>\n      <td>SP1</td>\n      <td>Perez et al. 2019</td>\n      <td>A Proposed Model-driven Approach to Manage Architectural Technical Debt Life Cycle \\n</td>\n      <td>REBEL focuses on finding ATD items at architecture level only (documents), measuring the impact of its repayment strategy based on architecture decisions and allowing the debt to be anticipated or corrected before the implementation process begins.</td>\n      <td>amount of software architecture rules violated in documents</td>\n      <td>Yes. The amount of architectural decisions impacted by the ATD item is 3. This way, Impact = 3 * 5 * (3*3) = 135. If our ATD repayment strategy would not affect other decisions, the Impact would be I = 3 * 1 * (1*3) = 9. From these results, software a...</td>\n    </tr>\n    <tr>\n      <th>1</th>\n      <td>2</td>\n      <td>SP2</td>\n      <td>Martini et al 2017</td>\n      <td>A semi-automated framework for the identification and estimation of Architectural Technical Debt: A comparative case-study on the modularization of a software component</td>\n      <td>Complexity measures of files</td>\n      <td>amount of complexity measures of files</td>\n      <td>Developer Work Months (DWM). DWM is defined in this study as the amount of effort one developer generates each month.  Man-hours</td>\n    </tr>\n    <tr>\n      <th>3</th>\n      <td>4</td>\n      <td>SP4</td>\n      <td>Snipes et al. 2018</td>\n      <td>A Case Study of the Effects of Architecture Debt on Software Evolution Effort</td>\n      <td>Architectural Root</td>\n      <td>amount of architectural root</td>\n      <td>The method proposed can calculate the expected effort spent on the amount of files in detected architecture roots during the analysed cycle in X staff-days to fix the ATD items identified.</td>\n    </tr>\n  </tbody>\n</table>\n</div>"
     },
     "metadata": {},
     "execution_count": 136
    }
   ],
   "source": [
    "papers_atd_calculated = df_distribution_q5['sp'][0]\n",
    "\n",
    "query_list_of_papers_atd_calculated = 'sp in ' + str(papers_atd_calculated)\n",
    "df_distribution_papers_calculated = df_sms_extraction[['Paper Id', 'sp', 'Citation', 'Title', 'Q2(Measure)', 'grouped_by_measurement', 'Q5(calculate the cost)']].query(query_list_of_papers_atd_calculated)\n",
    "\n",
    "df_distribution_papers_calculated.head(3)"
   ]
  },
  {
   "cell_type": "code",
   "execution_count": 137,
   "metadata": {},
   "outputs": [],
   "source": [
    "list_of_my_tuple_of_calculated_papers = []\n",
    "for each in df_distribution_papers_calculated[['Paper Id', 'sp', 'Q2(Measure)', 'grouped_by_measurement', 'Q5(calculate the cost)']].values: \n",
    "    list_of_my_tuple_of_calculated_papers.append((each[0], each[2], each[3], each[4]))"
   ]
  },
  {
   "cell_type": "code",
   "execution_count": 138,
   "metadata": {},
   "outputs": [],
   "source": [
    "list_of_my_tuple_of_calculated_papers2 = [(1,\n",
    "  'REBEL focuses on finding ATD items at architecture level only (documents), measuring the impact of its repayment strategy based on architecture decisions and allowing the debt to be anticipated or corrected before the implementation process begins.',\n",
    "  'amount of software architecture rules violated in documents',\n",
    "  'Yes. The amount of architectural decisions impacted by the ATD item is 3. This way, Impact = 3 * 5 * (3*3) = 135. If our ATD repayment strategy would not affect other decisions, the Impact would be I = 3 * 1 * (1*3) = 9. From these results, software architect understand the impact of a repayment strategy.', 'expert evaluation using proprietary numeric scale to calculate the impact of architecture rule violated'),\n",
    " (2,\n",
    "  'Complexity measures of files',\n",
    "  'amount of complexity measures of files',\n",
    "  'Developer Work Months (DWM). DWM is defined in this study as the amount of effort one developer generates each month.  Man-hours', 'expert evaluation using proprietary formula to calculate Developer Work Months (DWM) in Man-hours'),\n",
    " (4,\n",
    "  'Architectural Root',\n",
    "  'amount of architectural root',\n",
    "  'The method proposed can calculate the expected effort spent on the amount of files in detected architecture roots during the analysed cycle in X staff-days to fix the ATD items identified. ', 'expert evaluation using proprietary formula to calculate effort in days'),\n",
    " (5,\n",
    "  'In this study we measured architecture debt in two ways: 1) in terms of system-wide coupling measures, and 2) in terms of the number and severity of architecture flaws.',\n",
    "  'coupling of files and architecture smells',\n",
    "  'The method proposed check the time effort refactoring to fix the ATD items identified during the case study.', 'expert evaluation using proprietary formula to calculate effort in hours'),\n",
    " (7,\n",
    "  'Hotspot. Calculate a hotspot to detect problematic files and architecture debts, in terms of timelines and efficiency',\n",
    "  'amount of hotspots',\n",
    "  'No. The method proposed just check if the hotspot is increasing or decreasing and show the problematic files. There is no calculus to fix the ATD items.', 'Other'),\n",
    " (9,\n",
    "  'Index of Package Changing Impact (IPCI),  Index of Package Goal Focus (IPGF), Average Number of Modified Components per Commit (ANMCC)',\n",
    "  'modularity metrics',\n",
    "  'No. The method proposed just calculates the ATD indexes but does not calculate the cost to fix it.', 'Other'),\n",
    " (10,\n",
    "  'Principal and Interest of ATD. There is a set of pre-defined ATD based on a set of previously analyzed cases. These set of ATD is used the identify ATD based on software architect.',\n",
    "  'amount of software architecture rules violated in documents and source code',\n",
    "  'Using particular formulas created by AnaConDebt framework related to principal and interest to calculate the effort to fix the ATD Item identified.', 'expert evaluation using proprietary formula to calculate effort in days'),\n",
    " (13,\n",
    "  'It was created a specific concept about ArchDebt that derives a set of formulas. It is described in terms of group of files.',\n",
    "  'amount of architecture smells',\n",
    "  'It was calculated the cost of interest for identifying ArchDebt using a linear regression model in terms of set of files.', 'expert evaluation using proprietary formula to calculate effort in days'),\n",
    " (16,\n",
    "  'Contagious debt',\n",
    "  'amount of contagious debt',\n",
    "  \"It is provided by a formula that is a sum of cost ATDI estimated by developer's participation. \", 'expert evaluation using proprietary formula to calculate effort in days'),\n",
    " (21,\n",
    "  'ATD Itens based on templated suggested by authors',\n",
    "  'amount of software architecture rules violated in documents',\n",
    "  'For each ATD item is calculated principal and interest using person-days as unit to measurement. ', 'expert evaluation using proprietary formula to calculate effort in days'),\n",
    " (22,\n",
    "  'The authors proposed a crisis point based on ATD accumulation from itens collected using ATD Taxonomy.',\n",
    "  'index of crisis point',\n",
    "  'The authors have been defined a crisis point over the time to calculate the moment to pay the ATD.', 'Other'),\n",
    " (27,\n",
    "  'It is calculated the effort of modularization in Files that was not modularized. ',\n",
    "  'modularity metrics',\n",
    "  'It is used a formula to calculate the effort in time to fix the ATD items. The effort use the unit DWM/Mounth that means man-hours each month.', 'expert evaluation using proprietary formula to calculate Developer Work Months (DWM) in Man-hours'),\n",
    " (30,\n",
    "  'Yes',\n",
    "  'amount of architecture smells',\n",
    "  'Yes, using a owner formula to calculate the team effort to fix the architecture smell', 'expert evaluation using proprietary formula to calculate effort in days'),\n",
    " (38,\n",
    "  'Architectural Root',\n",
    "  'amount of architectural root and index of Decoupling Level',\n",
    "  'Yes, using a owner formula to calculate the effort to fix the architecture smell', 'expert evaluation using proprietary formula to calculate effort in days'),\n",
    " (48,\n",
    "  'Hotspot. Calculate a hotspot to detect problematic files and architecture debts, in terms of timelines and efficiency.',\n",
    "  'amount of hotspots',\n",
    "  'The Architectural Debt was quantified using Technical Debt Calculation framework proposed by authors.\\u2028\\u2028The effort about ATD is calculated based on number of defects and number of lines of changes. The effort of refactoring and ROI (Return of Investiment is calculate based on PM (Person per month) via Software Architecture and Project Management of the studied project. Thus, it is necessary a specialist analysis to calculate the principal of Architectural Technical Debt.', 'expert evaluation using proprietary formula to calculate effort in days'),\n",
    " (33,\n",
    "  'ATD based in Software Architecture estimation in hours',\n",
    "  'amount of software architecture rules violated in documents and source code',\n",
    "  'The cost to pay ATDI is estimated in hours according a formula proposed by authros.\\nThe Total Cost T of release n is a function of the implementation and rework costs, Ci and Cr : \\nT F(Ci,Cr)', 'expert evaluation using proprietary formula to calculate effort in hours'),\n",
    " (31,\n",
    "  'Misplaced LC interest based on scale of weight proposed by the authors. ',\n",
    "  'dependency of components',\n",
    "  'Misplaced LC interest based on scale of weight proposed by the authors. ', 'expert evaluation using proprietary formula to calculate effort in days'),\n",
    " (43,\n",
    "  'Complexity, coupling and cyclical dependencies  using DSM (Dependent Structure Matrix). The time spends on maintenance.',\n",
    "  'amount of complexity measures of files',\n",
    "  'The cust was based on the time spends on maintanance record in issue tracker. The authors defined a standard cost of U$ 100 per hour to calculate the cust of activity.', 'expert evaluation using proprietary formula to calculate effort in hours'),\n",
    " (73,\n",
    "  'Security TD using a catalog of Security Issues provided by CWE (Common Weakness Enumeration)',\n",
    "  'amount of software architecture rules violated in documents and source code',\n",
    "  'PrincipalTD-Security = Cost of the maintenance and refactoring associated with fixing architectural CWEs \\n', 'expert evaluation using proprietary formula to calculate effort in hours'),\n",
    " (35,\n",
    "  'Yes',\n",
    "  'index of crisis point',\n",
    "  'Yes, using quality model to check increasing or decreasing of ATD accumulation', 'Other'),\n",
    " (24,\n",
    "  'Architectural Root',\n",
    "  'amount of architectural root',\n",
    "  'Yes, using a owner formula to calculate the effort to fix the architecture root', 'expert evaluation using proprietary formula to calculate effort in hours'),\n",
    " (81,\n",
    "  'yes, it was meausre a number of detected violations based on qualite attributes (Performance, Robustness, Security Transferabililty, Changeability)',\n",
    "  'amount of software architecture rules violated in source code',\n",
    "  'TD-Principal =\\n(Σ high severity violations) x .5) 1 hr.) x 75$) +\\n(Σ medium severity violations) x .25) 1 hr.) x 75$) + (Σ low severity violations) x .1) 1 hr.) x 75$)', 'expert evaluation using proprietary formula to calculate effort in hours', 'Other'),\n",
    " (40,\n",
    "  'Archtecture Social Debt, architecture incommunicability',\n",
    "  'amount of software architecture rules violated in documents',\n",
    "  'Yes, using a owner formula to calculate the effort to fix the social smell.', 'expert evaluation using proprietary formula to calculate effort in days')]"
   ]
  },
  {
   "cell_type": "code",
   "execution_count": 139,
   "metadata": {},
   "outputs": [
    {
     "output_type": "stream",
     "name": "stdout",
     "text": [
      "Arquivo ../../latex/mytable_q5_distribution_detailed.tex  gerado com sucesso!\n"
     ]
    },
    {
     "output_type": "execute_result",
     "data": {
      "text/plain": [
       "                                                                                                         c  \\\n",
       "0                                  expert evaluation using proprietary formula to calculate effort in days   \n",
       "1                                 expert evaluation using proprietary formula to calculate effort in hours   \n",
       "2                                                                                                    Other   \n",
       "3        expert evaluation using proprietary formula to calculate Developer Work Months (DWM) in Man-hours   \n",
       "4  expert evaluation using proprietary numeric scale to calculate the impact of architecture rule violated   \n",
       "\n",
       "   count                                                         sp  \n",
       "0     10  [SP4, SP8, SP9, SP12, SP14, SP17, SP18, SP19, SP25, SP46]  \n",
       "1      6                        [SP5, SP22, SP27, SP31, SP37, SP40]  \n",
       "2      4                                     [SP6, SP7, SP15, SP36]  \n",
       "3      2                                                [SP2, SP16]  \n",
       "4      1                                                      [SP1]  "
      ],
      "text/html": "<div>\n<style scoped>\n    .dataframe tbody tr th:only-of-type {\n        vertical-align: middle;\n    }\n\n    .dataframe tbody tr th {\n        vertical-align: top;\n    }\n\n    .dataframe thead th {\n        text-align: right;\n    }\n</style>\n<table border=\"1\" class=\"dataframe\">\n  <thead>\n    <tr style=\"text-align: right;\">\n      <th></th>\n      <th>c</th>\n      <th>count</th>\n      <th>sp</th>\n    </tr>\n  </thead>\n  <tbody>\n    <tr>\n      <th>0</th>\n      <td>expert evaluation using proprietary formula to calculate effort in days</td>\n      <td>10</td>\n      <td>[SP4, SP8, SP9, SP12, SP14, SP17, SP18, SP19, SP25, SP46]</td>\n    </tr>\n    <tr>\n      <th>1</th>\n      <td>expert evaluation using proprietary formula to calculate effort in hours</td>\n      <td>6</td>\n      <td>[SP5, SP22, SP27, SP31, SP37, SP40]</td>\n    </tr>\n    <tr>\n      <th>2</th>\n      <td>Other</td>\n      <td>4</td>\n      <td>[SP6, SP7, SP15, SP36]</td>\n    </tr>\n    <tr>\n      <th>3</th>\n      <td>expert evaluation using proprietary formula to calculate Developer Work Months (DWM) in Man-hours</td>\n      <td>2</td>\n      <td>[SP2, SP16]</td>\n    </tr>\n    <tr>\n      <th>4</th>\n      <td>expert evaluation using proprietary numeric scale to calculate the impact of architecture rule violated</td>\n      <td>1</td>\n      <td>[SP1]</td>\n    </tr>\n  </tbody>\n</table>\n</div>"
     },
     "metadata": {},
     "execution_count": 139
    }
   ],
   "source": [
    "df_sms_extraction['grouped_by_c'] = None\n",
    "\n",
    "grouped_by_c = list_of_my_tuple_of_calculated_papers2\n",
    "# 2) Updating df_sms_extraction['grouped_by_c']\n",
    "for each in grouped_by_c:\n",
    "    j = 0\n",
    "    for item in df_sms_extraction['Paper Id']:\n",
    "        if each[0] == item: \n",
    "            df_sms_extraction['grouped_by_c'].iloc[j] = each[4]\n",
    "        j = j + 1\n",
    "\n",
    "# 3) Creating list_by_c using count \n",
    "list_by_c = []\n",
    "for each in grouped_by_c: \n",
    "    list_by_c.append(each[4])\n",
    "\n",
    "list_by_c = Counter(list_by_c).most_common()\n",
    "\n",
    "# 5) Creating DataFrame df_my_c\n",
    "c = []\n",
    "count = []\n",
    "for each in list_by_c: \n",
    "    c.append(each[0])\n",
    "    count.append(each[1])\n",
    "my_c = {'c': c, 'count':count}\n",
    "my_c\n",
    "\n",
    "my_c_id = list(range(1,len(list_by_c)+1))\n",
    "my_c_id\n",
    "\n",
    "df_my_c = pd.DataFrame(data=my_c, index=my_c_id)\n",
    "df_my_c.reset_index(drop=True, inplace=True)\n",
    "df_my_c['sp'] = None\n",
    "\n",
    "# 5) Add new column with Selected Papers according grouped c\n",
    "i = 0\n",
    "for each in df_my_c['c']:\n",
    "    list_sp_novo = []\n",
    "    j = 0\n",
    "    for item in df_sms_extraction['grouped_by_c']:\n",
    "        if each == item: \n",
    "            list_sp_novo.append(df_sms_extraction['sp'].iloc[j])\n",
    "        j = j + 1\n",
    "    df_my_c['sp'].iloc[i] = list_sp_novo\n",
    "    i = i + 1\n",
    "\n",
    "# 6) Save the latex table \n",
    "util.create_latex_table(my_df=df_my_c, my_path='../../latex', my_file_name='mytable_q5_distribution_detailed.tex')\n",
    "\n",
    "df_my_c"
   ]
  },
  {
   "source": [
    "# Q7 - Research type"
   ],
   "cell_type": "markdown",
   "metadata": {}
  },
  {
   "source": [
    "## Papers grouped by Research Type"
   ],
   "cell_type": "markdown",
   "metadata": {}
  },
  {
   "cell_type": "code",
   "execution_count": 140,
   "metadata": {},
   "outputs": [
    {
     "output_type": "stream",
     "name": "stdout",
     "text": [
      "Arquivo ../../latex/mytable_q7_distribution.tex  gerado com sucesso!\n"
     ]
    },
    {
     "output_type": "execute_result",
     "data": {
      "text/plain": [
       "               q7  count  \\\n",
       "0   Research Type     45   \n",
       "1              No      1   \n",
       "2  Not applicable      0   \n",
       "\n",
       "                                                                                                                                                                                                                                                               sp  \n",
       "0  [SP1, SP2, SP3, SP4, SP5, SP6, SP7, SP8, SP9, SP10, SP11, SP12, SP14, SP15, SP16, SP17, SP18, SP19, SP20, SP21, SP22, SP23, SP24, SP25, SP26, SP27, SP28, SP29, SP30, SP31, SP32, SP33, SP34, SP35, SP36, SP37, SP38, SP39, SP40, SP41, SP42, SP43, SP44, S...  \n",
       "1                                                                                                                                                                                                                                                          [SP13]  \n",
       "2                                                                                                                                                                                                                                                              []  "
      ],
      "text/html": "<div>\n<style scoped>\n    .dataframe tbody tr th:only-of-type {\n        vertical-align: middle;\n    }\n\n    .dataframe tbody tr th {\n        vertical-align: top;\n    }\n\n    .dataframe thead th {\n        text-align: right;\n    }\n</style>\n<table border=\"1\" class=\"dataframe\">\n  <thead>\n    <tr style=\"text-align: right;\">\n      <th></th>\n      <th>q7</th>\n      <th>count</th>\n      <th>sp</th>\n    </tr>\n  </thead>\n  <tbody>\n    <tr>\n      <th>0</th>\n      <td>Research Type</td>\n      <td>45</td>\n      <td>[SP1, SP2, SP3, SP4, SP5, SP6, SP7, SP8, SP9, SP10, SP11, SP12, SP14, SP15, SP16, SP17, SP18, SP19, SP20, SP21, SP22, SP23, SP24, SP25, SP26, SP27, SP28, SP29, SP30, SP31, SP32, SP33, SP34, SP35, SP36, SP37, SP38, SP39, SP40, SP41, SP42, SP43, SP44, S...</td>\n    </tr>\n    <tr>\n      <th>1</th>\n      <td>No</td>\n      <td>1</td>\n      <td>[SP13]</td>\n    </tr>\n    <tr>\n      <th>2</th>\n      <td>Not applicable</td>\n      <td>0</td>\n      <td>[]</td>\n    </tr>\n  </tbody>\n</table>\n</div>"
     },
     "metadata": {},
     "execution_count": 140
    }
   ],
   "source": [
    "dict_q7 = {}\n",
    "for item in zip( list(df_sms_extraction['Paper Id']), list(df_sms_extraction['Q7 Research Type (Evaluation Research, Validation Research, Solution Proposal, Philosophycal paper, Other)']) ):\n",
    "    id = item[0]\n",
    "    if (item[1] != ''):\n",
    "        q7 = str(item[1])\n",
    "        q7 = ' '.join(q7.split())\n",
    "        dict_q7[id] = q7.lower()\n",
    "\n",
    "df_distribution_q7 = util.view_question_distribution(my_dict=dict_q7, my_list=['Research Type', 'No', 'Not applicable'], my_question='q7')\n",
    "df_distribution_q7['sp'] = None\n",
    "\n",
    "df_distribution_q7 = util.view_question_distribution_update_sp(my_df_distribution=df_distribution_q7, my_df_data=df_sms_extraction, my_feature='Q7 Research Type (Evaluation Research, Validation Research, Solution Proposal, Philosophycal paper, Other)')\n",
    "\n",
    "util.create_latex_table(my_df=df_distribution_q7, my_path='../../latex', my_file_name='mytable_q7_distribution.tex')\n",
    "\n",
    "df_distribution_q7"
   ]
  },
  {
   "cell_type": "code",
   "execution_count": 141,
   "metadata": {},
   "outputs": [
    {
     "output_type": "execute_result",
     "data": {
      "text/plain": [
       "[('Evaluation research', 21),\n",
       " ('Validation Research', 13),\n",
       " ('Other', 6),\n",
       " ('Solution proposal', 4),\n",
       " ('No', 1),\n",
       " ('Philosophycal paper', 1)]"
      ]
     },
     "metadata": {},
     "execution_count": 141
    }
   ],
   "source": [
    "list_of_q7 = []\n",
    "for item in list(df_sms_extraction['Q7 Research Type (Evaluation Research, Validation Research, Solution Proposal, Philosophycal paper, Other)']): \n",
    "    item = str(item)\n",
    "    item = ' '.join(item.split())\n",
    "    list_of_q7.append(item)\n",
    "list_of_q7.sort()\n",
    "\n",
    "list_of_most_common_q7 = Counter(list_of_q7).most_common()\n",
    "list_of_most_common_q7"
   ]
  },
  {
   "source": [
    "## Papers grouped by Kind of Research Type"
   ],
   "cell_type": "markdown",
   "metadata": {}
  },
  {
   "cell_type": "code",
   "execution_count": 142,
   "metadata": {},
   "outputs": [
    {
     "output_type": "stream",
     "name": "stdout",
     "text": [
      "Arquivo ../../latex/mytable_q7_distribution_detailed.tex  gerado com sucesso!\n"
     ]
    },
    {
     "output_type": "execute_result",
     "data": {
      "text/plain": [
       "              research  count  \\\n",
       "0  Evaluation research     21   \n",
       "1  Validation Research     13   \n",
       "2                Other      6   \n",
       "3    Solution proposal      4   \n",
       "4                   No      1   \n",
       "5  Philosophycal paper      1   \n",
       "\n",
       "                                                                                                                          sp  \n",
       "0  [SP1, SP2, SP4, SP5, SP8, SP12, SP14, SP15, SP16, SP17, SP19, SP20, SP22, SP25, SP27, SP33, SP34, SP36, SP40, SP42, SP46]  \n",
       "1                                                 [SP3, SP6, SP7, SP9, SP18, SP21, SP24, SP28, SP29, SP30, SP35, SP37, SP43]  \n",
       "2                                                                                       [SP11, SP23, SP26, SP32, SP38, SP44]  \n",
       "3                                                                                                   [SP10, SP31, SP39, SP41]  \n",
       "4                                                                                                                     [SP13]  \n",
       "5                                                                                                                     [SP45]  "
      ],
      "text/html": "<div>\n<style scoped>\n    .dataframe tbody tr th:only-of-type {\n        vertical-align: middle;\n    }\n\n    .dataframe tbody tr th {\n        vertical-align: top;\n    }\n\n    .dataframe thead th {\n        text-align: right;\n    }\n</style>\n<table border=\"1\" class=\"dataframe\">\n  <thead>\n    <tr style=\"text-align: right;\">\n      <th></th>\n      <th>research</th>\n      <th>count</th>\n      <th>sp</th>\n    </tr>\n  </thead>\n  <tbody>\n    <tr>\n      <th>0</th>\n      <td>Evaluation research</td>\n      <td>21</td>\n      <td>[SP1, SP2, SP4, SP5, SP8, SP12, SP14, SP15, SP16, SP17, SP19, SP20, SP22, SP25, SP27, SP33, SP34, SP36, SP40, SP42, SP46]</td>\n    </tr>\n    <tr>\n      <th>1</th>\n      <td>Validation Research</td>\n      <td>13</td>\n      <td>[SP3, SP6, SP7, SP9, SP18, SP21, SP24, SP28, SP29, SP30, SP35, SP37, SP43]</td>\n    </tr>\n    <tr>\n      <th>2</th>\n      <td>Other</td>\n      <td>6</td>\n      <td>[SP11, SP23, SP26, SP32, SP38, SP44]</td>\n    </tr>\n    <tr>\n      <th>3</th>\n      <td>Solution proposal</td>\n      <td>4</td>\n      <td>[SP10, SP31, SP39, SP41]</td>\n    </tr>\n    <tr>\n      <th>4</th>\n      <td>No</td>\n      <td>1</td>\n      <td>[SP13]</td>\n    </tr>\n    <tr>\n      <th>5</th>\n      <td>Philosophycal paper</td>\n      <td>1</td>\n      <td>[SP45]</td>\n    </tr>\n  </tbody>\n</table>\n</div>"
     },
     "metadata": {},
     "execution_count": 142
    }
   ],
   "source": [
    "rs = []\n",
    "count_rs = []\n",
    "for each in list_of_most_common_q7: \n",
    "    rs.append(each[0])\n",
    "    count_rs.append(each[1])\n",
    "my_rs = {'research': rs, 'count':count_rs}\n",
    "my_rs\n",
    "\n",
    "my_rs_id = list(range(1,len(list_of_most_common_q7)+1))\n",
    "my_rs_id\n",
    "\n",
    "df_my_rs = pd.DataFrame(data=my_rs, index=my_rs_id)\n",
    "df_my_rs.reset_index(drop=True, inplace=True)\n",
    "df_my_rs\n",
    "\n",
    "df_my_rs['sp'] = None\n",
    "\n",
    "# Add new column with Selected Papers according grouped Venue\n",
    "i = 0\n",
    "for each in df_my_rs['research']:\n",
    "    list_sp_novo = []\n",
    "    j = 0\n",
    "    for item in df_sms_extraction['Q7 Research Type (Evaluation Research, Validation Research, Solution Proposal, Philosophycal paper, Other)']:\n",
    "        if str(each).lower() == str(item).lower(): \n",
    "            list_sp_novo.append(df_sms_extraction['sp'].iloc[j])\n",
    "        j = j + 1\n",
    "    df_my_rs['sp'].iloc[i] = list_sp_novo\n",
    "    i = i + 1\n",
    "\n",
    "df_distribution_detailed_q7 = df_my_rs\n",
    "util.create_latex_table(my_df=df_distribution_detailed_q7, my_path='../../latex', my_file_name='mytable_q7_distribution_detailed.tex')\n",
    "\n",
    "df_distribution_detailed_q7"
   ]
  },
  {
   "source": [
    "# Extra) Q6 ATD is managed?"
   ],
   "cell_type": "markdown",
   "metadata": {}
  },
  {
   "cell_type": "code",
   "execution_count": 143,
   "metadata": {},
   "outputs": [
    {
     "output_type": "stream",
     "name": "stdout",
     "text": [
      "Arquivo ../../latex/mytable_q6_distribution.tex  gerado com sucesso!\n"
     ]
    },
    {
     "output_type": "execute_result",
     "data": {
      "text/plain": [
       "               q6  count  \\\n",
       "0      Management      6   \n",
       "1              No      3   \n",
       "2  Not applicable     37   \n",
       "\n",
       "                                                                                                                                                                                                                      sp  \n",
       "0                                                                                                                                                                                   [SP12, SP17, SP18, SP30, SP36, SP37]  \n",
       "1                                                                                                                                                                                                     [SP13, SP41, SP46]  \n",
       "2  [SP1, SP2, SP3, SP4, SP5, SP6, SP7, SP8, SP9, SP10, SP11, SP14, SP15, SP16, SP19, SP20, SP21, SP22, SP23, SP24, SP25, SP26, SP27, SP28, SP29, SP31, SP32, SP33, SP34, SP35, SP38, SP39, SP40, SP42, SP43, SP44, SP45]  "
      ],
      "text/html": "<div>\n<style scoped>\n    .dataframe tbody tr th:only-of-type {\n        vertical-align: middle;\n    }\n\n    .dataframe tbody tr th {\n        vertical-align: top;\n    }\n\n    .dataframe thead th {\n        text-align: right;\n    }\n</style>\n<table border=\"1\" class=\"dataframe\">\n  <thead>\n    <tr style=\"text-align: right;\">\n      <th></th>\n      <th>q6</th>\n      <th>count</th>\n      <th>sp</th>\n    </tr>\n  </thead>\n  <tbody>\n    <tr>\n      <th>0</th>\n      <td>Management</td>\n      <td>6</td>\n      <td>[SP12, SP17, SP18, SP30, SP36, SP37]</td>\n    </tr>\n    <tr>\n      <th>1</th>\n      <td>No</td>\n      <td>3</td>\n      <td>[SP13, SP41, SP46]</td>\n    </tr>\n    <tr>\n      <th>2</th>\n      <td>Not applicable</td>\n      <td>37</td>\n      <td>[SP1, SP2, SP3, SP4, SP5, SP6, SP7, SP8, SP9, SP10, SP11, SP14, SP15, SP16, SP19, SP20, SP21, SP22, SP23, SP24, SP25, SP26, SP27, SP28, SP29, SP31, SP32, SP33, SP34, SP35, SP38, SP39, SP40, SP42, SP43, SP44, SP45]</td>\n    </tr>\n  </tbody>\n</table>\n</div>"
     },
     "metadata": {},
     "execution_count": 143
    }
   ],
   "source": [
    "dict_q6 = {}\n",
    "for item in zip( list(df_sms_extraction['Paper Id']), list(df_sms_extraction['Q6(How ATD is management?)']) ):\n",
    "    id = item[0]\n",
    "    if (item[1] != ''):\n",
    "        q6 = str(item[1])\n",
    "        q6 = ' '.join(q6.split())\n",
    "        dict_q6[id] = q6.lower()\n",
    "\n",
    "df_distribution_q6 = util.view_question_distribution(my_dict=dict_q6, my_list=['Management', 'No', 'Not applicable'], my_question='q6')\n",
    "df_distribution_q6['sp'] = None\n",
    "\n",
    "df_distribution_q6 = util.view_question_distribution_update_sp(my_df_distribution=df_distribution_q6, my_df_data=df_sms_extraction, my_feature='Q6(How ATD is management?)')\n",
    "\n",
    "util.create_latex_table(my_df=df_distribution_q6, my_path='../../latex', my_file_name='mytable_q6_distribution.tex')\n",
    "\n",
    "df_distribution_q6"
   ]
  },
  {
   "cell_type": "code",
   "execution_count": null,
   "metadata": {},
   "outputs": [],
   "source": []
  }
 ],
 "metadata": {
  "kernelspec": {
   "display_name": "Python 3",
   "language": "python",
   "name": "python3"
  },
  "language_info": {
   "codemirror_mode": {
    "name": "ipython",
    "version": 3
   },
   "file_extension": ".py",
   "mimetype": "text/x-python",
   "name": "python",
   "nbconvert_exporter": "python",
   "pygments_lexer": "ipython3",
   "version": "3.6.3-final"
  }
 },
 "nbformat": 4,
 "nbformat_minor": 2
}