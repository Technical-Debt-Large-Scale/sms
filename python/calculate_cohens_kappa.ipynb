{
 "cells": [
  {
   "cell_type": "code",
   "execution_count": 89,
   "metadata": {},
   "outputs": [],
   "source": [
    "import sklearn\n",
    "import numpy as np\n",
    "from sklearn import metrics"
   ]
  },
  {
   "cell_type": "code",
   "execution_count": 90,
   "metadata": {},
   "outputs": [],
   "source": [
    "def cohens_kappa(data_rater1, label_rater1, data_rater2, label_rater2):\n",
    "    try:\n",
    "        print(\"Cohen Kappa between\", label_rater1, label_rater2)\n",
    "        kappa = sklearn.metrics.cohen_kappa_score(data_rater1, data_rater2)\n",
    "        print(round(kappa,3))\n",
    "    except:\n",
    "        print(\"Indefined kappa\")\n",
    "    return"
   ]
  },
  {
   "cell_type": "code",
   "execution_count": 92,
   "metadata": {},
   "outputs": [
    {
     "name": "stdout",
     "output_type": "stream",
     "text": [
      "Cohen Kappa between Armando Ricardo\n",
      "0.615\n",
      "Cohen Kappa between Armando Lincoln\n",
      "nan\n"
     ]
    }
   ],
   "source": [
    "y_armando_sample1 = [1, 1, 1, 1, 1, 1, 0, 1, 1, 1]\n",
    "y_ricardo = [1, 1, 1, 0, 1, 1, 0, 1, 1, 1]\n",
    "\n",
    "y_armando_sample2 = [1, 1, 1, 1, 1, 1, 1, 1, 1, 1]\n",
    "y_lincoln = [1, 1, 1, 1, 1, 1, 1, 1, 1, 1]\n",
    "\n",
    "cohens_kappa(y_armando_sample1,\"Armando\",  y_ricardo, \"Ricardo\")\n",
    "cohens_kappa(y_armando_sample2,\"Armando\",  y_lincoln, \"Lincoln\")\n"
   ]
  },
  {
   "cell_type": "code",
   "execution_count": null,
   "metadata": {},
   "outputs": [],
   "source": []
  }
 ],
 "metadata": {
  "kernelspec": {
   "display_name": "Python 3",
   "language": "python",
   "name": "python3"
  },
  "language_info": {
   "codemirror_mode": {
    "name": "ipython",
    "version": 3
   },
   "file_extension": ".py",
   "mimetype": "text/x-python",
   "name": "python",
   "nbconvert_exporter": "python",
   "pygments_lexer": "ipython3",
   "version": "3.6.3"
  }
 },
 "nbformat": 4,
 "nbformat_minor": 2
}
