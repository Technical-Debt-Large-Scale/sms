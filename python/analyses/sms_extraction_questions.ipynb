{
 "metadata": {
  "language_info": {
   "codemirror_mode": {
    "name": "ipython",
    "version": 3
   },
   "file_extension": ".py",
   "mimetype": "text/x-python",
   "name": "python",
   "nbconvert_exporter": "python",
   "pygments_lexer": "ipython3",
   "version": "3.6.3-final"
  },
  "orig_nbformat": 2,
  "kernelspec": {
   "name": "python3",
   "display_name": "Python 3",
   "language": "python"
  }
 },
 "nbformat": 4,
 "nbformat_minor": 2,
 "cells": [
  {
   "cell_type": "code",
   "execution_count": 1,
   "metadata": {},
   "outputs": [],
   "source": [
    "import os\n",
    "import sys\n",
    "nb_dir = os.path.split(os.getcwd())[0]\n",
    "if nb_dir not in sys.path:\n",
    "    sys.path.append(nb_dir)"
   ]
  },
  {
   "cell_type": "code",
   "execution_count": 2,
   "metadata": {},
   "outputs": [],
   "source": [
    "import pandas as pd\n",
    "import util.utilities as util\n",
    "from collections import Counter\n",
    "import numpy as np\n",
    "\n",
    "df_sms_extraction = pd.read_excel('../../dataset/Extraction_form_basic.xlsx')\n",
    "df_sms_extraction = df_sms_extraction.replace(np.nan, '', regex=True)"
   ]
  },
  {
   "source": [
    "# Q1 (Measure) yes - what?"
   ],
   "cell_type": "markdown",
   "metadata": {}
  },
  {
   "cell_type": "code",
   "execution_count": 3,
   "metadata": {},
   "outputs": [
    {
     "output_type": "execute_result",
     "data": {
      "text/plain": [
       "{1: 'rebel focuses on finding atd items at architecture level only (documents), measuring the impact of its repayment strategy based on architecture decisions and allowing the debt to be anticipated or corrected before the implementation process begins.',\n",
       " 2: 'complexity measures of files',\n",
       " 3: 'it was defined a formula to calculate atd index and architectural smell impact score.',\n",
       " 4: 'architectural root',\n",
       " 5: 'in this study we measured architecture debt in two ways: 1) in terms of system-wide coupling measures, and 2) in terms of the number and severity of architecture flaws.',\n",
       " 7: 'hotspot. calculate a hotspot to detect problematic files and architecture debts, in terms of timelines and efficiency',\n",
       " 9: 'index of package changing impact (ipci), index of package goal focus (ipgf), average number of modified components per commit (anmcc)',\n",
       " 10: 'principal and interest of atd. there is a set of pre-defined atd based on a set of previously analyzed cases. these set of atd is used the identify atd based on software architect.',\n",
       " 13: 'it was created a specific concept about archdebt that derives a set of formulas. it is described in terms of group of files.',\n",
       " 14: 'android atd hotspots, i.e. a set of files.',\n",
       " 15: 'compliance checking',\n",
       " 16: 'contagious debt',\n",
       " 17: 'no',\n",
       " 21: 'atd itens based on templated suggested by authors .',\n",
       " 22: 'the authors proposed a crisis point based on atd accumulation from itens collected using atd taxonomy.',\n",
       " 27: 'it is calculated the effort of modularization in files that was not modularized.',\n",
       " 48: 'hotspot. calculate a hotspot to detect problematic files and architecture debts, in terms of timelines and efficiency.',\n",
       " 47: 'no',\n",
       " 20: 'it was defined a sna (socia network analysis) metric to identify the architectural smells.',\n",
       " 33: 'atd based in software architecture estimation in hours',\n",
       " 26: 'no',\n",
       " 28: 'package modularity via sonarqube using td index from cohesion and coupling.',\n",
       " 31: 'misplaced lc interest based on scale of weight proposed by the authors.',\n",
       " 44: 'no',\n",
       " 43: 'complexity, coupling and cyclical dependencies using dsm (dependent structure matrix). the time spends on maintenance.',\n",
       " 51: 'architecture smells',\n",
       " 52: 'architecture smells',\n",
       " 73: 'security td using a catalog of security issues provided by cwe (common weakness enumeration)',\n",
       " 69: 'no',\n",
       " 67: 'no',\n",
       " 66: 'no',\n",
       " 96: 'no',\n",
       " 77: 'no',\n",
       " 78: 'no',\n",
       " 81: 'yes, it was meausre a number of detected violations based on qualite attributes (performance, robustness, security transferabililty, changeability)',\n",
       " 82: 'it was measurte td based on health factors, but there is no specific atd measure in this paper',\n",
       " 88: 'scalability through estamating impact in the subsystems',\n",
       " 90: 'no',\n",
       " 91: 'the perception of: maintainability test coverage cyclomatic complexity clone coverage coupling metrics architectural violation',\n",
       " 97: 'no'}"
      ]
     },
     "metadata": {},
     "execution_count": 3
    }
   ],
   "source": [
    "dict_q1 = {}\n",
    "for item in zip( list(df_sms_extraction['Paper Id']), list(df_sms_extraction['Q1(Measure)']) ):\n",
    "    id = item[0]\n",
    "    if (item[1] != ''):\n",
    "        q1 = str(item[1])\n",
    "        q1 = ' '.join(q1.split())\n",
    "        dict_q1[id] = q1.lower()\n",
    "dict_q1"
   ]
  },
  {
   "source": [
    "# Q2 (Monitoring) yes - how?                  "
   ],
   "cell_type": "markdown",
   "metadata": {}
  },
  {
   "cell_type": "code",
   "execution_count": 4,
   "metadata": {},
   "outputs": [
    {
     "output_type": "execute_result",
     "data": {
      "text/plain": [
       "{1: 'the method performed a monitoring process for each release planning evaluated during the case study.',\n",
       " 2: 'the framework performed a monitoring process for each release version evaluated during the case study.',\n",
       " 3: 'the method performed a monitoring for each version analysed during the study.',\n",
       " 4: 'the case study performed a set of evaluations of revision history during the study.',\n",
       " 5: 'yes, during two years the releases were monitored to check the benefits of refactoring software architecture',\n",
       " 7: 'the authors monitored the evolution of hostspot during the period of study comparing the revision history and issue tracker to detect problematic files.',\n",
       " 9: 'the authors monitored the evolution of indexes during the period of study comparing the revision history of the source code of each release of a selected oss project.',\n",
       " 10: 'the principal and interest is analysed by software architects and project managers for each release.',\n",
       " 13: 'it was monitored the evolution of archdebts through releases that are evaluated.',\n",
       " 14: 'no',\n",
       " 15: 'issue management workflow',\n",
       " 16: 'yes, after each release using a proprietary method. the interest is monitored by analysing each atd class defined in proprietary taxynomy. these factors can be proactively monitored to strategically refactor the atd, before it becomes too costly to be repaid.',\n",
       " 17: 'no',\n",
       " 21: 'the approach is performed for each release using expert evaluation (software architect from project evaluated)',\n",
       " 22: 'the atd items are monitored during releaase planing via expert evaluation that use the atd taxonomy.',\n",
       " 27: 'it was applied the framework for each release evaluated. it is a manual process that there is no tool to support this.',\n",
       " 48: 'the approach of drspace is performed for each release analysed by software architecture to verify and confirm the architecture debt and effort is calculated in person per month.',\n",
       " 47: 'no',\n",
       " 20: 'yes, after each release using a proprietary method.',\n",
       " 33: 'yes, after each release using a proprietary method.',\n",
       " 26: 'no',\n",
       " 28: 'no',\n",
       " 31: 'for each architecture planning to create or maintain the lc (logical components)',\n",
       " 44: 'no',\n",
       " 43: 'no',\n",
       " 51: 'for each release evaluated via astracker where tracks smell instances in the projects history.',\n",
       " 52: 'no',\n",
       " 73: 'no',\n",
       " 69: 'no',\n",
       " 67: 'no',\n",
       " 66: 'no',\n",
       " 96: 'no',\n",
       " 77: 'no',\n",
       " 78: 'no',\n",
       " 81: 'no',\n",
       " 82: 'no',\n",
       " 88: 'no',\n",
       " 90: 'no',\n",
       " 91: 'no',\n",
       " 97: 'no'}"
      ]
     },
     "metadata": {},
     "execution_count": 4
    }
   ],
   "source": [
    "dict_q2 = {}\n",
    "for item in zip( list(df_sms_extraction['Paper Id']), list(df_sms_extraction['Q2(Monitoring)']) ):\n",
    "    id = item[0]\n",
    "    if (item[1] != ''):\n",
    "        q2 = str(item[1])\n",
    "        q2 = ' '.join(q2.split())\n",
    "        dict_q2[id] = q2.lower()\n",
    "dict_q2\n"
   ]
  },
  {
   "source": [
    "# Q3 (Techniques and Tools) yes - what?        "
   ],
   "cell_type": "markdown",
   "metadata": {}
  },
  {
   "cell_type": "code",
   "execution_count": 5,
   "metadata": {},
   "outputs": [
    {
     "output_type": "execute_result",
     "data": {
      "text/plain": [
       "{1: 'general:\"model-driven architecture approach, natural language processing, machine learning, heterogeneous artefacts\" # approuch:\"rebel focuses on finding atd items at architecture level only, measuring the impact of its repayment strategy based on architecture decisions and allowing the debt to be anticipated or corrected before the implementation process begins # tools:\"rebel\"',\n",
       " 2: '\"general:\"\"specialist technical evaluation, modularity, measurement system, complexity, cohesion, coupling, code churn, source code, revision history\"\" # approuch:\"\"own technique to identify, measure and calculate the atd\"\" # tools:\"\"own\"\"\"',\n",
       " 3: 'general:\"architecture smells, modularity\" # approuch:\"unstable dependency, hub-like dependency, cyclic dependency, implicit cross package dependency, \" # tools:\"arcan, sonarqube, apache commons bcel, hellow2morrow\"',\n",
       " 4: 'general:\"architectural root, source code, revision history, design structure matrix, code churn, change frequency, architectural smells, modularity\" # approuch:\"unstable interface, implicit cross-module dependency, unhealthy inheritance hierarchy, clique, package cicle\" # tools:\"archdia\"',\n",
       " 5: 'general:\"maintainability, architecture flaws, architecture roots, decoupling level, propagation cost, architectural smells, design structure matrix, drspace, code churn\" # approuch:\"clique, package cycle, modularity violation, crossing, unstable interface\" # tools:\"dv8\"',\n",
       " 7: 'general:\"source code, revision history, hotspot, propagation patterns, issue tracking\" # approuch:\"change-prone, bug-prone, early detection architectural problems\" # tools:\" understand , simian, dv8 \"',\n",
       " 9: '\"general:\"\"modularity, average number of modified components per commit, anmcc, index of package changing impact, ipci, index of package goal focus, ipgf, source code, revistion history, \"\" # approuch:\"\"modularity metrics, spearman’s correlation tests\"\" # tools:\"\"no\"\"\"',\n",
       " 10: 'general:\"source code, software architecture documentation, business documentation, revision history, release plan\" # approuch:\"framework anacondebt, catalog, taxonomy\" # tools:\"owner formulas\"',\n",
       " 13: 'general:\"design rules spaces, design structure matrix, architecture issues, architectural smells, hotsport pattern, unstable interface, modularity violation, unhealthy inheritance, cyclic dependency, drspace, source code, revision history, bug track, modularity violation, code churn, debt churn\" # approuch:\"archdebt framework, history coupling probability (hcp) matrix, ranking: identify high-maintenance archdebt, architechtural debt evolution\" # tools:\"titan, understand\"',\n",
       " 14: 'general:\"architecture description language, adl, objet constraint language, atd hotsports\" # approuch:\"android architecture guideline extraction, android reference architecture establishment, reverse engineering of implemented architecture, compliance checking, quantitative assessment of compliance violations\" # tools:\"acme-generator tool\"',\n",
       " 15: 'general:\"architecture dsl, architecture violation, package analysis, source code\" # approuch:\"architecture violation\" # tools:\"sonargraph\"',\n",
       " 16: 'it was created a taxonomy about atd itens to identify atd contagius debt.',\n",
       " 17: 'general:\"tool evaluation, package evaluation, architectural smells, code smells, technical debt index, architectural violation, cyclic packages, technical debt ratio, cycles, cyclic dependencies, unstable dependencies\" # approuch:\"analys of open source project\" # tools:\"sonargraph, sonarqube,fusion\"',\n",
       " 21: 'general:\"software architectural documentation, architecture decision, quality attributes, atd item, atd list, change scenario, architecture decision template, architecture diagram, specialist analysis, revision history, release plan\" # approuch:\"atd identification based on change scenarios\" # tools:\"no\"',\n",
       " 22: 'general:\"agile software development, taxonomy of atd, refactoring, source code, business factory, architecture documentation, human factor, \" # approuch:\"taxonomy of atd, framework to identify atd, specialist analysis\" # tools:\"no\"',\n",
       " 27: 'general:\"modularization, code churn, source code, revision history, complexity, refactoring, specialist analysis, files, components\" # approuch:\"method to select critcial files to refactoring\" # tools:\"owner formula\"',\n",
       " 48: 'general:\"hotspot, refactoring, source code, revision history, architectural issue, issue tracker, issue list, file dependencies, specialist evaluation, business cases, unstable interface, implicit cross-module dependency, modularity violations, unhealthy inheritance hierarchy\" # approuch:\"drspace, design ruel hierarchy, design structure matrix, architecture roots\" # tools:\"titan, sonarqube, understand, jira, git\"',\n",
       " 47: '\" general:\"\"rank of priorization, refactoring, catalog of atd effects, taxonomy of atd, contagious atd, code change, code churn, complexity, issue tracker, \"\" # approuch:\"\"multiple case study\"\" # tools:\"\"questionaries\"\"\"',\n",
       " 20: '\" general:\"\"architectural smells, social network, maintainability,social network analysis, link prediction, source code, revision history, dependency prediction, time series, cycle, hub-like, unstable dependency, ranking-based link prediction, machine learning prediction\"\" # approuch:\"\"machine learning, prediction of architectural smells, dependency graph representation, predictive approach\"\" # tools:\"\"dependency-analyser, owner tool, weka\"\"\"',\n",
       " 33: 'general:\"specialist evaluation, package, release plan, dependency analysis, dsm, implementation cost, propagation cost, rework cost, use cases, refactoring, re-architecting, person effort, modularity metrics, change propagation metric\" # approuch:\"owner formulas, design structure matrix\" # tools:\"owner tool\"',\n",
       " 26: 'no',\n",
       " 28: 'general:\"modularity, package dependencies, design flaws, package cohesion, package coupling, source code, revision history, average coupling afferent, total coupling intensity between packages, cohesion among package classes\" # approuch:\"correlation analysis\" # tools:\"sonarqube\"',\n",
       " 31: 'general:\"maintainability, performance, visualization of atd, logical view, design view, deployment, efficiency, component communication, component dependencies, eletronic control unit, automotive domain\" # approuch:\"semi-structured interview, cost of component communcation, owner formulas, treemap\" # tools:\"owner tool to visualize dependency among components\"',\n",
       " 44: 'general:\"architecture smells, design metrics, code metrics, architecture violations, resolution cost, keeping cost, unity measure (money, time, rank, loc)\" # approuch:\"tools evaluation\" # tools:\"cast , infusion, sonargraph, sonarqube structure101\"',\n",
       " 43: 'general:\"complexity, modularity, maintanance cost, refactoring, coupling, cohesion, dependencies between components, dsm, source code, issue track, bug tracking, defect-related activity, file changes, specialist evaluation, refactoring, design decisions, code churn, cicly dependencies\" # approuch:\"design structure matrices\" # tools:\"owner tool\"',\n",
       " 51: 'general:\"architectural smells, refactoring, hublike dependency, cyclic dependency, complexity, unstable dependency, source code, revision history, package analysis, jaccard similarity index\" # approuch:\"refactoring prioritisation, goal-question-metric, analysis using qualitas corpus, trend evolution classification templates, correlation analysis\" # tools:\"arcan, astracker, graphml\"',\n",
       " 52: 'no',\n",
       " 73: 'general:\"quality assurance, security, common weakness scoring system, common vulerability scoring system, quamoco, iso 25010, source code, catalog of flaws, specialist evaluation\" # approuch:\"pilot study, priorization securty framework, common architectural weakness enumeration\" # tools:\"owner score formula, fxcorp\"',\n",
       " 69: 'no',\n",
       " 67: '\" general:\"\"lifetime components, embeded systems, quality attributes, maintainability, reliability, source code, revision history, specialist evaluation, performance, functionality, compatibility, portability, software-intensive domains, long lifetime, test td, code td, architecture td, documentation td\"\" # approuch:\"\"gqm, questionaries, interview\"\" # tools:\"\"no\"\" \"',\n",
       " 66: 'no',\n",
       " 96: 'no',\n",
       " 77: 'no',\n",
       " 78: '\" general:\"\"architectural complexity, propagation cost, complexity metrics, design structure matrix, treemap, source code, coupling, coupling between objects, reliability, maintainability, static code analysis, architectural metrics, core size, dsm\"\" # approuch:\"\"plugin to collect information\"\" # tools:\"\"owner plugin, understand\"\" \"',\n",
       " 81: '\" general:\"\"language parse, meta-model, catalogs of rules, application analysis, detected violations, quality attributes, performance, robustness, security, changeability, transferability, source code, revion history, business risk, \"\" # approuch:\"\"detected violation, owner formula\"\" # tools:\"\"cast, owner formula\"\" \"',\n",
       " 82: '\"\"\" general:\"\"\"\"language parse, meta-model, catalogs of rules, application analysis, detected violations, quality attributes, performance, robustness, security, changeability, transferability, source code, revion history, business risk, \"\"\"\" # approuch:\"\"\"\"detected violation, owner formula\"\"\"\" # tools:\"\"no\"\"cast, owner formula\"\"\"\" \"\"\"',\n",
       " 88: 'general:\"scalability, quality metrics, scalability triage, affected subsystems, estimating impact, specialist evaluation, performance, software architecture documentation, open systems\" # approuch:\"lightweight approuch to identify scalability debt\" # tools:\"no\"',\n",
       " 90: 'general:\"self-admitted technical debt, architecture recovery, component dependencies, software architecture documentation, source code, architecture violation, reverse engineering, architectural divergences, depencencies per component\" # approuch:\"framework to recover the architecture\" # tools:\"owner tool\"',\n",
       " 91: 'general:\"maintainability, microservices,test coverage, cyclomatic complexity, clone coverage, coupling metrics, architectural violation, outated documentation, inadequate testing, architectural erosion, problematic dependencies, complex components, large components, duplicate code, outdated libraries, quality atributes\" # approuch:\"survey\" # tools:\"sonarqube, findbugs, self-made tool, checkstyle, pmd, jmetrics, lattix, cast, codecov, error prone\"',\n",
       " 97: 'no'}"
      ]
     },
     "metadata": {},
     "execution_count": 5
    }
   ],
   "source": [
    "dict_q3 = {}\n",
    "for item in zip( list(df_sms_extraction['Paper Id']), list(df_sms_extraction['Q3(Techniques and tools)']) ):\n",
    "    id = item[0]\n",
    "    if (item[1] != ''):\n",
    "        q3 = str(item[1])\n",
    "        q3 = ' '.join(q3.split())\n",
    "        dict_q3[id] = q3.lower()\n",
    "dict_q3\n"
   ]
  },
  {
   "cell_type": "code",
   "execution_count": 8,
   "metadata": {},
   "outputs": [
    {
     "output_type": "error",
     "ename": "IndexError",
     "evalue": "list index out of range",
     "traceback": [
      "\u001b[0;31m---------------------------------------------------------------------------\u001b[0m",
      "\u001b[0;31mIndexError\u001b[0m                                Traceback (most recent call last)",
      "\u001b[0;32m<ipython-input-8-10e77170f916>\u001b[0m in \u001b[0;36m<module>\u001b[0;34m\u001b[0m\n\u001b[0;32m----> 1\u001b[0;31m \u001b[0mlist_of_tat\u001b[0m\u001b[0;34m,\u001b[0m \u001b[0mlist_of_techniques\u001b[0m\u001b[0;34m,\u001b[0m \u001b[0mlist_of_approaches\u001b[0m\u001b[0;34m,\u001b[0m \u001b[0mlist_of_tools\u001b[0m \u001b[0;34m=\u001b[0m \u001b[0mutil\u001b[0m\u001b[0;34m.\u001b[0m\u001b[0mextract_techniques_approuches_tools\u001b[0m\u001b[0;34m(\u001b[0m\u001b[0mdf_sms_extraction\u001b[0m\u001b[0;34m,\u001b[0m \u001b[0mcolumn_name\u001b[0m\u001b[0;34m=\u001b[0m\u001b[0;34m\"Q3(Techniques and tools)\"\u001b[0m\u001b[0;34m)\u001b[0m\u001b[0;34m\u001b[0m\u001b[0m\n\u001b[0m\u001b[1;32m      2\u001b[0m \u001b[0;34m\u001b[0m\u001b[0m\n\u001b[1;32m      3\u001b[0m \u001b[0mlist_of_techniques\u001b[0m\u001b[0;34m.\u001b[0m\u001b[0msort\u001b[0m\u001b[0;34m(\u001b[0m\u001b[0;34m)\u001b[0m\u001b[0;34m\u001b[0m\u001b[0m\n\u001b[1;32m      4\u001b[0m \u001b[0mprint\u001b[0m\u001b[0;34m(\u001b[0m\u001b[0mlist_of_techniques\u001b[0m\u001b[0;34m)\u001b[0m\u001b[0;34m\u001b[0m\u001b[0m\n\u001b[1;32m      5\u001b[0m \u001b[0mprint\u001b[0m\u001b[0;34m(\u001b[0m\u001b[0;34m)\u001b[0m\u001b[0;34m\u001b[0m\u001b[0m\n",
      "\u001b[0;32m~/git/tdmls/sms/python/util/utilities.py\u001b[0m in \u001b[0;36mextract_techniques_approuches_tools\u001b[0;34m(df_data, column_name)\u001b[0m\n\u001b[1;32m    231\u001b[0m         \u001b[0;32mfor\u001b[0m \u001b[0mone\u001b[0m \u001b[0;32min\u001b[0m \u001b[0mgeneral\u001b[0m\u001b[0;34m:\u001b[0m\u001b[0;34m\u001b[0m\u001b[0m\n\u001b[1;32m    232\u001b[0m             \u001b[0mlist_of_techniques\u001b[0m\u001b[0;34m.\u001b[0m\u001b[0mappend\u001b[0m\u001b[0;34m(\u001b[0m\u001b[0mone\u001b[0m\u001b[0;34m)\u001b[0m\u001b[0;34m\u001b[0m\u001b[0m\n\u001b[0;32m--> 233\u001b[0;31m         \u001b[0mapprouch\u001b[0m \u001b[0;34m=\u001b[0m \u001b[0meach\u001b[0m\u001b[0;34m[\u001b[0m\u001b[0;36m1\u001b[0m\u001b[0;34m]\u001b[0m\u001b[0;34m.\u001b[0m\u001b[0mreplace\u001b[0m\u001b[0;34m(\u001b[0m\u001b[0;34m'approuch:'\u001b[0m\u001b[0;34m,\u001b[0m \u001b[0;34m''\u001b[0m\u001b[0;34m)\u001b[0m\u001b[0;34m\u001b[0m\u001b[0m\n\u001b[0m\u001b[1;32m    234\u001b[0m         \u001b[0mapprouch\u001b[0m \u001b[0;34m=\u001b[0m \u001b[0mapprouch\u001b[0m\u001b[0;34m.\u001b[0m\u001b[0msplit\u001b[0m\u001b[0;34m(\u001b[0m\u001b[0;34m','\u001b[0m\u001b[0;34m)\u001b[0m\u001b[0;34m\u001b[0m\u001b[0m\n\u001b[1;32m    235\u001b[0m         \u001b[0mapprouch\u001b[0m \u001b[0;34m=\u001b[0m \u001b[0mremove_cotation_space1\u001b[0m\u001b[0;34m(\u001b[0m\u001b[0mapprouch\u001b[0m\u001b[0;34m)\u001b[0m\u001b[0;34m\u001b[0m\u001b[0m\n",
      "\u001b[0;31mIndexError\u001b[0m: list index out of range"
     ]
    }
   ],
   "source": [
    "list_of_tat, list_of_techniques, list_of_approaches, list_of_tools = util.extract_techniques_approuches_tools(df_sms_extraction, column_name=\"Q3(Techniques and tools)\")\n",
    "\n",
    "list_of_techniques.sort()\n",
    "print(list_of_techniques)\n",
    "print()\n",
    "\n",
    "list_of_approaches.sort()\n",
    "print(list_of_approaches)\n",
    "print()\n",
    "\n",
    "list_of_tools.sort()\n",
    "print(list_of_tools)"
   ]
  },
  {
   "source": [
    "# Q4 (Calculate the cost) yes - how?          "
   ],
   "cell_type": "markdown",
   "metadata": {}
  },
  {
   "cell_type": "code",
   "execution_count": 9,
   "metadata": {},
   "outputs": [
    {
     "output_type": "execute_result",
     "data": {
      "text/plain": [
       "{1: 'yes. the amount of architectural decisions impacted by the atd item is 3. this way, impact = 3 * 5 * (3*3) = 135. if our atd repayment strategy would not affect other decisions, the impact would be i = 3 * 1 * (1*3) = 9. from these results, software architect understand the impact of a repayment strategy.',\n",
       " 2: 'developer work months (dwm). dwm is defined in this study as the amount of effort one developer generates each month. man-hours',\n",
       " 3: 'no',\n",
       " 4: 'the method proposed can calculate the expected effort spent on the amount of files in detected architecture roots during the analysed cycle in x staff-days to fix the atd items identified.',\n",
       " 5: 'the method proposed check the time effort refactoring to fix the atd items identified during the case study.',\n",
       " 7: 'no. the method proposed just check if the hotspot is increasing or decreasing and show the problematic files. there is no calculus to fix the atd items.',\n",
       " 9: 'no. the method proposed just calculates the atd indexes but does not calculate the cost to fix it.',\n",
       " 10: 'using particular formulas created by anacondebt framework related to principal and interest to calculate the effort to fix the atd item identified.',\n",
       " 13: 'it was calculated the cost of interest for identifying archdebt using a linear regression model in terms of set of files.',\n",
       " 14: 'no',\n",
       " 15: 'no',\n",
       " 16: \"it is provided by a formula that is a sum of cost atdi estimated by developer's participation.\",\n",
       " 17: 'no',\n",
       " 21: 'for each atd item is calculated principal and interest using person-days as unit to measurement.',\n",
       " 22: 'the authors have been defined a crisis point over the time to calculate the moment to pay the atd.',\n",
       " 27: 'it is used a formula to calculate the effort in time to fix the atd items. the effort use the unit dwm/mounth that means man-hours each month.',\n",
       " 48: 'the architectural debt was quantified using technical debt calculation framework proposed by authors. the effort about atd is calculated based on number of defects and number of lines of changes. the effort of refactoring and roi (return of investiment is calculate based on pm (person per month) via software architecture and project management of the studied project. thus, it is necessary a specialist analysis to calculate the principal of architectural technical debt.',\n",
       " 47: 'no',\n",
       " 20: 'no',\n",
       " 33: 'the cost to pay atdi is estimated in hours according a formula proposed by authros. the total cost t of release n is a function of the implementation and rework costs, ci and cr : t f(ci,cr)',\n",
       " 26: 'no',\n",
       " 28: 'no',\n",
       " 31: 'misplaced lc interest based on scale of weight proposed by the authors.',\n",
       " 44: 'no',\n",
       " 43: 'the cust was based on the time spends on maintanance record in issue tracker. the authors defined a standard cost of u$ 100 per hour to calculate the cust of activity.',\n",
       " 51: 'no',\n",
       " 52: 'no',\n",
       " 73: 'principaltd-security = cost of the maintenance and refactoring associated with fixing architectural cwes',\n",
       " 69: 'no',\n",
       " 67: 'no',\n",
       " 66: 'no',\n",
       " 96: 'no',\n",
       " 77: 'no',\n",
       " 78: 'no',\n",
       " 81: 'td-principal = (σ high severity violations) x .5) 1 hr.) x 75$) + (σ medium severity violations) x .25) 1 hr.) x 75$) + (σ low severity violations) x .1) 1 hr.) x 75$)',\n",
       " 82: 'technical debt td-principal = (σ high severity violations) x .5) 1 hr.) x 75$) + (σ medium severity violations) x .25) 1 hr.) x 75$) + (σ low severity violations) x .1) 1 hr.) x 75$) however, there is specific formula to calculate the atd cost',\n",
       " 88: 'no',\n",
       " 90: 'no',\n",
       " 91: 'no',\n",
       " 97: 'no'}"
      ]
     },
     "metadata": {},
     "execution_count": 9
    }
   ],
   "source": [
    "dict_q4 = {}\n",
    "for item in zip( list(df_sms_extraction['Paper Id']), list(df_sms_extraction['Q4(calculate the cost)']) ):\n",
    "    id = item[0]\n",
    "    if (item[1] != ''):\n",
    "        q4 = str(item[1])\n",
    "        q4 = ' '.join(q4.split())\n",
    "        dict_q4[id] = q4.lower()\n",
    "dict_q4"
   ]
  }
 ]
}