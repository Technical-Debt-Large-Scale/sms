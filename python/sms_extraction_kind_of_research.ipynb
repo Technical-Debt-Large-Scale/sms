{
 "metadata": {
  "language_info": {
   "codemirror_mode": {
    "name": "ipython",
    "version": 3
   },
   "file_extension": ".py",
   "mimetype": "text/x-python",
   "name": "python",
   "nbconvert_exporter": "python",
   "pygments_lexer": "ipython3",
   "version": "3.6.3-final"
  },
  "orig_nbformat": 2,
  "kernelspec": {
   "name": "python3",
   "display_name": "Python 3",
   "language": "python"
  }
 },
 "nbformat": 4,
 "nbformat_minor": 2,
 "cells": [
  {
   "cell_type": "code",
   "execution_count": 8,
   "metadata": {},
   "outputs": [],
   "source": [
    "import pandas as pd\n",
    "import utilities as util\n",
    "from collections import Counter\n",
    "import numpy as np\n",
    "\n",
    "df_sms_extraction = pd.read_excel('../dataset/Extraction_form.xlsx')\n",
    "df_sms_extraction = df_sms_extraction.replace(np.nan, '', regex=True)"
   ]
  },
  {
   "cell_type": "code",
   "execution_count": 9,
   "metadata": {},
   "outputs": [
    {
     "output_type": "stream",
     "name": "stdout",
     "text": [
      "{1: ['case study', 'case study in industry', 'expert opinion', 'observation'], 2: ['case study in industry', 'expert opinion'], 3: ['survey', 'observation'], 4: ['case study in industry'], 5: ['case study in industry'], 7: ['empirical study on apache projects'], 9: ['empirical investigation in oss projects'], 10: ['case study', 'case study in industry', 'industrial practice', 'expert opinion', 'observation'], 13: ['empirical study on apache projects'], 14: ['toy examples'], 15: ['tool evaluation'], 16: ['case study', 'case study in industry', 'industrial practice', 'expert opinion', 'observation', 'empirical study in industry'], 17: ['experience report using open source project'], 21: ['case study', 'case study in industry', 'industrial practice', 'expert opinion', 'observation'], 22: ['case study', 'case study in industry', 'industrial practice', 'expert opinion', 'observation', 'empirical study in industry'], 27: ['case study', 'case study in industry', 'industrial practice', 'expert opinion', 'observation', 'empirical study in industry'], 30: ['case study', 'case study in industry', 'industrial practice', 'expert opinion', 'observation'], 38: ['empirical study on hadoop apache project'], 48: ['case study', 'case study in industry', 'industrial practice', 'expert opinion', 'observation', 'empirical study in industry'], 47: ['case study', 'case study in industry', 'industrial practice', 'expert opinion', 'observation', 'empirical study in industry'], 20: ['empirical study on apache projects'], 33: ['case study', 'case study in industry', 'industrial practice', 'expert opinion', 'observation', 'empirical study in industry'], 26: ['tool evaluation'], 28: ['empirical study on apache projects'], 31: ['exploratory case study', 'exploratory case study in industry', 'industrial practice', 'expert opinion', 'observation', 'empirical study in industry'], 44: ['tool evaluation'], 43: ['empirical study in industry'], 51: ['exploratory case study on apache projects'], 52: ['case study on open source project'], 63: ['exploratory case study'], 73: ['proposed theorical method'], 69: ['survey'], 67: ['case study', 'case study in industry', 'industrial practice', 'expert opinion', 'observation', 'empirical study in industry', 'survey'], 66: ['case study', 'case study in industry', 'industrial practice', 'expert opinion', 'observation', 'empirical study in industry', 'survey', 'proposed theorical method'], 96: ['exploratory case study'], 35: ['case study', 'case study in industry', 'industrial practice', 'expert opinion', 'observation', 'empirical study in industry', 'survey'], 77: ['survey'], 78: ['propose a tool'], 81: ['case study', 'case study in industry', 'industrial practice', 'expert opinion', 'observation', 'empirical study in industry'], 82: ['case study', 'case study in industry', 'industrial practice', 'expert opinion', 'observation', 'empirical study in industry'], 88: ['case study', 'case study in industry', 'industrial practice', 'expert opinion', 'observation', 'empirical study in industry', 'proposed theorical method'], 90: ['case study on open source project'], 91: ['survey'], 97: ['proposed theorical method']}\n"
     ]
    }
   ],
   "source": [
    "dict_kind_of_research = {}\n",
    "list_all_kind_of_research = []\n",
    "for item in zip( list(df_sms_extraction['Paper Id']), list(df_sms_extraction['Kind of research 2']) ):\n",
    "    id = item[0]\n",
    "    list_aux = []\n",
    "    if (item[1] != ''):\n",
    "        kind_of_research = str(item[1])\n",
    "        kind_of_research = ' '.join(kind_of_research.split())\n",
    "        kind_of_research = kind_of_research.lower()\n",
    "        list_aux = kind_of_research.split(',')\n",
    "        list_aux2 = []\n",
    "        for each in list_aux: \n",
    "            if each[0] == ' ':\n",
    "                each = each[1:]\n",
    "            list_aux2.append(each)\n",
    "            list_all_kind_of_research.append(each)\n",
    "        dict_kind_of_research[id] = list_aux2\n",
    "print(dict_kind_of_research)"
   ]
  },
  {
   "cell_type": "code",
   "execution_count": 10,
   "metadata": {},
   "outputs": [
    {
     "output_type": "execute_result",
     "data": {
      "text/plain": [
       "[('case study in industry', 19),\n",
       " ('expert opinion', 18),\n",
       " ('observation', 18),\n",
       " ('case study', 16),\n",
       " ('industrial practice', 16),\n",
       " ('empirical study in industry', 14),\n",
       " ('survey', 7),\n",
       " ('empirical study on apache projects', 4),\n",
       " ('proposed theorical method', 4),\n",
       " ('tool evaluation', 3),\n",
       " ('exploratory case study', 3),\n",
       " ('case study on open source project', 2),\n",
       " ('empirical investigation in oss projects', 1),\n",
       " ('toy examples', 1),\n",
       " ('experience report using open source project', 1),\n",
       " ('empirical study on hadoop apache project', 1),\n",
       " ('exploratory case study in industry', 1),\n",
       " ('exploratory case study on apache projects', 1),\n",
       " ('propose a tool', 1)]"
      ]
     },
     "metadata": {},
     "execution_count": 10
    }
   ],
   "source": [
    "Counter(list_all_kind_of_research).most_common()"
   ]
  },
  {
   "cell_type": "code",
   "execution_count": null,
   "metadata": {},
   "outputs": [],
   "source": []
  }
 ]
}