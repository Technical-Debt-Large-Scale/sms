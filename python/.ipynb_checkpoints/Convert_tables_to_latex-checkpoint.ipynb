{
 "cells": [
  {
   "cell_type": "code",
   "execution_count": 2,
   "metadata": {},
   "outputs": [],
   "source": [
    "import pandas as pd"
   ]
  },
  {
   "cell_type": "code",
   "execution_count": 3,
   "metadata": {},
   "outputs": [],
   "source": [
    "my_data_extraction_form = {\n",
    "    'Variável' : ['DC1', 'DC2', 'DC3', 'DC4', 'DC5', 'DC6', 'DC7', 'DC8', \n",
    "                  'DC9', 'DC10', 'DC11', 'DC12', 'DC13', 'DC14', 'DC15'], \n",
    "    'Informação Coletada' : ['Id do Artigo' , 'Autores', 'Título', 'Ano da Publicação', 'Abstract',\n",
    "                             'Local', 'Área do evento', 'Key words', 'Objetivo do artigo', \n",
    "                             'Técnicas, Abordagens, Métodos e ferramentas', 'Tipo de pesquisa', 'Q1', 'Q2', 'Q3', 'Q4'], \n",
    "    'Propósito' : ['Id único do artigo' , 'Autor principal e colegas', 'Título do Artigo', 'Ano da Publicação do Artigo',\n",
    "                   'Abstract do Artigo', \n",
    "                   'Local onde o artigo foi apresentado/pulicado', 'Área principal do artigo', 'Palavras chaves do artigo',\n",
    "                   'Descrição sumária do objetivo do artigo', 'Quais foram as técnicas, abordagens, métodos e ferramentas usadas no artigo'\n",
    "                   , 'A pesquisa descrita no artigo pode ser do tipo: Conceitual ou Empírica', \n",
    "                  'O artigo contempla a q1? (SIM/NÃO)' , \n",
    "                   'O artigo contempla a q2? (SIM/NÃO)',\n",
    "                   'O artigo contempla a q3? (SIM/NÃO)',\n",
    "                   'O artigo contempla a q4? (SIM/NÃO)'], \n",
    "}"
   ]
  },
  {
   "cell_type": "code",
   "execution_count": 4,
   "metadata": {},
   "outputs": [],
   "source": [
    "check_my_dictionary = len(my_data_extraction_form['Variável'])\n",
    "if (len(my_data_extraction_form['Variável']) == len(my_data_extraction_form['Informação Coletada']) and \n",
    "   len(my_data_extraction_form['Variável']) == len(my_data_extraction_form['Propósito'])): \n",
    "    my_data_extraction_form_id = list(range(1,len(my_data_extraction_form['Variável'])+1))\n",
    "else:\n",
    "    check_my_dictionary = -1"
   ]
  },
  {
   "cell_type": "code",
   "execution_count": 5,
   "metadata": {},
   "outputs": [
    {
     "data": {
      "text/plain": [
       "[1, 2, 3, 4, 5, 6, 7, 8, 9, 10, 11, 12, 13, 14, 15]"
      ]
     },
     "execution_count": 5,
     "metadata": {},
     "output_type": "execute_result"
    }
   ],
   "source": [
    "my_data_extraction_form_id"
   ]
  },
  {
   "cell_type": "code",
   "execution_count": 6,
   "metadata": {},
   "outputs": [],
   "source": [
    "if (check_my_dictionary > 0):\n",
    "    df_my_data_extraction_form = pd.DataFrame(data=my_data_extraction_form, index=my_data_extraction_form_id)\n",
    "    df_my_data_extraction_form.reset_index(drop=True, inplace=True)\n",
    "else:\n",
    "    print(\"Erro ao tentar criar o dataframe\")"
   ]
  },
  {
   "cell_type": "code",
   "execution_count": 7,
   "metadata": {},
   "outputs": [
    {
     "data": {
      "text/html": [
       "<div>\n",
       "<style scoped>\n",
       "    .dataframe tbody tr th:only-of-type {\n",
       "        vertical-align: middle;\n",
       "    }\n",
       "\n",
       "    .dataframe tbody tr th {\n",
       "        vertical-align: top;\n",
       "    }\n",
       "\n",
       "    .dataframe thead th {\n",
       "        text-align: right;\n",
       "    }\n",
       "</style>\n",
       "<table border=\"1\" class=\"dataframe\">\n",
       "  <thead>\n",
       "    <tr style=\"text-align: right;\">\n",
       "      <th></th>\n",
       "      <th>Variável</th>\n",
       "      <th>Informação Coletada</th>\n",
       "      <th>Propósito</th>\n",
       "    </tr>\n",
       "  </thead>\n",
       "  <tbody>\n",
       "    <tr>\n",
       "      <th>0</th>\n",
       "      <td>DC1</td>\n",
       "      <td>Id do Artigo</td>\n",
       "      <td>Id único do artigo</td>\n",
       "    </tr>\n",
       "    <tr>\n",
       "      <th>1</th>\n",
       "      <td>DC2</td>\n",
       "      <td>Autores</td>\n",
       "      <td>Autor principal e colegas</td>\n",
       "    </tr>\n",
       "    <tr>\n",
       "      <th>2</th>\n",
       "      <td>DC3</td>\n",
       "      <td>Título</td>\n",
       "      <td>Título do Artigo</td>\n",
       "    </tr>\n",
       "    <tr>\n",
       "      <th>3</th>\n",
       "      <td>DC4</td>\n",
       "      <td>Ano da Publicação</td>\n",
       "      <td>Ano da Publicação do Artigo</td>\n",
       "    </tr>\n",
       "    <tr>\n",
       "      <th>4</th>\n",
       "      <td>DC5</td>\n",
       "      <td>Abstract</td>\n",
       "      <td>Abstract do Artigo</td>\n",
       "    </tr>\n",
       "    <tr>\n",
       "      <th>5</th>\n",
       "      <td>DC6</td>\n",
       "      <td>Local</td>\n",
       "      <td>Local onde o artigo foi apresentado/pulicado</td>\n",
       "    </tr>\n",
       "    <tr>\n",
       "      <th>6</th>\n",
       "      <td>DC7</td>\n",
       "      <td>Área do evento</td>\n",
       "      <td>Área principal do artigo</td>\n",
       "    </tr>\n",
       "    <tr>\n",
       "      <th>7</th>\n",
       "      <td>DC8</td>\n",
       "      <td>Key words</td>\n",
       "      <td>Palavras chaves do artigo</td>\n",
       "    </tr>\n",
       "    <tr>\n",
       "      <th>8</th>\n",
       "      <td>DC9</td>\n",
       "      <td>Objetivo do artigo</td>\n",
       "      <td>Descrição sumária do objetivo do artigo</td>\n",
       "    </tr>\n",
       "    <tr>\n",
       "      <th>9</th>\n",
       "      <td>DC10</td>\n",
       "      <td>Técnicas, Abordagens, Métodos e ferramentas</td>\n",
       "      <td>Quais foram as técnicas, abordagens, métodos e...</td>\n",
       "    </tr>\n",
       "    <tr>\n",
       "      <th>10</th>\n",
       "      <td>DC11</td>\n",
       "      <td>Tipo de pesquisa</td>\n",
       "      <td>A pesquisa descrita no artigo pode ser do tipo...</td>\n",
       "    </tr>\n",
       "    <tr>\n",
       "      <th>11</th>\n",
       "      <td>DC12</td>\n",
       "      <td>Q1</td>\n",
       "      <td>O artigo contempla a q1? (SIM/NÃO)</td>\n",
       "    </tr>\n",
       "    <tr>\n",
       "      <th>12</th>\n",
       "      <td>DC13</td>\n",
       "      <td>Q2</td>\n",
       "      <td>O artigo contempla a q2? (SIM/NÃO)</td>\n",
       "    </tr>\n",
       "    <tr>\n",
       "      <th>13</th>\n",
       "      <td>DC14</td>\n",
       "      <td>Q3</td>\n",
       "      <td>O artigo contempla a q3? (SIM/NÃO)</td>\n",
       "    </tr>\n",
       "    <tr>\n",
       "      <th>14</th>\n",
       "      <td>DC15</td>\n",
       "      <td>Q4</td>\n",
       "      <td>O artigo contempla a q4? (SIM/NÃO)</td>\n",
       "    </tr>\n",
       "  </tbody>\n",
       "</table>\n",
       "</div>"
      ],
      "text/plain": [
       "   Variável                          Informação Coletada  \\\n",
       "0       DC1                                 Id do Artigo   \n",
       "1       DC2                                      Autores   \n",
       "2       DC3                                       Título   \n",
       "3       DC4                            Ano da Publicação   \n",
       "4       DC5                                     Abstract   \n",
       "5       DC6                                        Local   \n",
       "6       DC7                               Área do evento   \n",
       "7       DC8                                    Key words   \n",
       "8       DC9                           Objetivo do artigo   \n",
       "9      DC10  Técnicas, Abordagens, Métodos e ferramentas   \n",
       "10     DC11                             Tipo de pesquisa   \n",
       "11     DC12                                           Q1   \n",
       "12     DC13                                           Q2   \n",
       "13     DC14                                           Q3   \n",
       "14     DC15                                           Q4   \n",
       "\n",
       "                                            Propósito  \n",
       "0                                  Id único do artigo  \n",
       "1                           Autor principal e colegas  \n",
       "2                                    Título do Artigo  \n",
       "3                         Ano da Publicação do Artigo  \n",
       "4                                  Abstract do Artigo  \n",
       "5        Local onde o artigo foi apresentado/pulicado  \n",
       "6                            Área principal do artigo  \n",
       "7                           Palavras chaves do artigo  \n",
       "8             Descrição sumária do objetivo do artigo  \n",
       "9   Quais foram as técnicas, abordagens, métodos e...  \n",
       "10  A pesquisa descrita no artigo pode ser do tipo...  \n",
       "11                 O artigo contempla a q1? (SIM/NÃO)  \n",
       "12                 O artigo contempla a q2? (SIM/NÃO)  \n",
       "13                 O artigo contempla a q3? (SIM/NÃO)  \n",
       "14                 O artigo contempla a q4? (SIM/NÃO)  "
      ]
     },
     "execution_count": 7,
     "metadata": {},
     "output_type": "execute_result"
    }
   ],
   "source": [
    "df_my_data_extraction_form"
   ]
  },
  {
   "cell_type": "code",
   "execution_count": 10,
   "metadata": {},
   "outputs": [
    {
     "name": "stdout",
     "output_type": "stream",
     "text": [
      "Arquivo ../latex/mytable_extrat_data.tex gerado com sucesso!\n"
     ]
    }
   ],
   "source": [
    "try:\n",
    "    with open('../latex/mytable_extrat_data.tex','w') as tf:\n",
    "        tf.write(df_my_data_extraction_form.to_latex(index=False))\n",
    "    print(\"Arquivo ../latex/mytable_extrat_data.tex gerado com sucesso!\")\n",
    "except:\n",
    "    print(\"Erro ao tentar gerar o arquivo latex!\")"
   ]
  },
  {
   "cell_type": "code",
   "execution_count": null,
   "metadata": {},
   "outputs": [],
   "source": []
  }
 ],
 "metadata": {
  "kernelspec": {
   "display_name": "Python 3",
   "language": "python",
   "name": "python3"
  },
  "language_info": {
   "codemirror_mode": {
    "name": "ipython",
    "version": 3
   },
   "file_extension": ".py",
   "mimetype": "text/x-python",
   "name": "python",
   "nbconvert_exporter": "python",
   "pygments_lexer": "ipython3",
   "version": "3.6.3"
  }
 },
 "nbformat": 4,
 "nbformat_minor": 2
}
